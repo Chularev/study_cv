{
 "cells": [
  {
   "cell_type": "code",
   "execution_count": 1,
   "metadata": {},
   "outputs": [],
   "source": [
    "%load_ext autoreload\n",
    "%autoreload 2"
   ]
  },
  {
   "cell_type": "markdown",
   "metadata": {
    "toc": true
   },
   "source": [
    "<h1>Оглавление<span class=\"tocSkip\"></span></h1>\n",
    "<div class=\"toc\"><ul class=\"toc-item\"><li><span><a href=\"#Data-loader\" data-toc-modified-id=\"Data-loader-1\"><span class=\"toc-item-num\">1&nbsp;&nbsp;</span>Data loader</a></span></li></ul></div>"
   ]
  },
  {
   "cell_type": "code",
   "execution_count": 2,
   "metadata": {},
   "outputs": [],
   "source": [
    "from data_handlers.data_preparer import get_datasets\n",
    "import torch\n",
    "from typing import Dict\n",
    "from viewer import Viewer\n",
    "import os"
   ]
  },
  {
   "cell_type": "code",
   "execution_count": 3,
   "metadata": {},
   "outputs": [],
   "source": [
    "from PIL import Image"
   ]
  },
  {
   "cell_type": "markdown",
   "metadata": {},
   "source": [
    "# Train loop"
   ]
  },
  {
   "cell_type": "code",
   "execution_count": 4,
   "metadata": {},
   "outputs": [],
   "source": [
    "from models import Net"
   ]
  },
  {
   "cell_type": "code",
   "execution_count": 5,
   "metadata": {},
   "outputs": [],
   "source": [
    "from data_handlers.data_preparer import get_datasets"
   ]
  },
  {
   "cell_type": "code",
   "execution_count": 6,
   "metadata": {},
   "outputs": [
    {
     "name": "stdout",
     "output_type": "stream",
     "text": [
      "Downloading split 'validation' to '/mnt/heap/validation' if necessary\n",
      "Found annotations at '/mnt/heap/raw/instances_val2017.json'\n",
      "Images already downloaded\n",
      "Existing download of split 'validation' is sufficient\n",
      "Loading 'coco-2017' split 'validation'\n",
      " 100% |███████████████| 5000/5000 [21.5s elapsed, 0s remaining, 219.9 samples/s]      \n",
      "Dataset 'coco-2017-validation' created\n",
      "person_view len = 1005\n",
      "train dataset = 753\n",
      "test dataset = 252\n"
     ]
    }
   ],
   "source": [
    "datasets = get_datasets()"
   ]
  },
  {
   "cell_type": "code",
   "execution_count": 7,
   "metadata": {},
   "outputs": [],
   "source": [
    "def get_loaders(datasets) -> Dict[str,  torch.utils.data.DataLoader]:\n",
    "    return {\n",
    "        'train': torch.utils.data.DataLoader(\n",
    "            datasets['train'], batch_size=64, shuffle=True),\n",
    "        'val': torch.utils.data.DataLoader(\n",
    "            datasets['val'], batch_size=64, shuffle=False)\n",
    "    }"
   ]
  },
  {
   "cell_type": "code",
   "execution_count": 8,
   "metadata": {},
   "outputs": [],
   "source": [
    "loaders = get_loaders(datasets)"
   ]
  },
  {
   "cell_type": "code",
   "execution_count": 9,
   "metadata": {},
   "outputs": [],
   "source": [
    "viewer = Viewer()"
   ]
  },
  {
   "cell_type": "code",
   "execution_count": 10,
   "metadata": {},
   "outputs": [
    {
     "data": {
      "text/plain": [
       "(tensor([[[0.7922, 0.8000, 0.8000,  ..., 0.7529, 0.7490, 0.7412],\n",
       "          [0.7686, 0.7882, 0.8039,  ..., 0.7412, 0.7490, 0.7412],\n",
       "          [0.7804, 0.7765, 0.7882,  ..., 0.7373, 0.7490, 0.7333],\n",
       "          ...,\n",
       "          [0.7725, 0.7569, 0.7608,  ..., 0.8196, 0.8275, 0.8353],\n",
       "          [0.7647, 0.7647, 0.7569,  ..., 0.8235, 0.8235, 0.8314],\n",
       "          [0.7529, 0.7725, 0.7686,  ..., 0.8353, 0.8353, 0.8353]],\n",
       " \n",
       "         [[0.7765, 0.7843, 0.7804,  ..., 0.7333, 0.7294, 0.7216],\n",
       "          [0.7529, 0.7686, 0.7804,  ..., 0.7255, 0.7373, 0.7255],\n",
       "          [0.7608, 0.7569, 0.7686,  ..., 0.7255, 0.7373, 0.7216],\n",
       "          ...,\n",
       "          [0.7569, 0.7569, 0.7608,  ..., 0.8118, 0.8196, 0.8275],\n",
       "          [0.7569, 0.7608, 0.7529,  ..., 0.8157, 0.8118, 0.8157],\n",
       "          [0.7490, 0.7686, 0.7647,  ..., 0.8275, 0.8235, 0.8196]],\n",
       " \n",
       "         [[0.7765, 0.7882, 0.7882,  ..., 0.7608, 0.7529, 0.7451],\n",
       "          [0.7647, 0.7804, 0.7882,  ..., 0.7529, 0.7608, 0.7529],\n",
       "          [0.7804, 0.7725, 0.7765,  ..., 0.7529, 0.7647, 0.7490],\n",
       "          ...,\n",
       "          [0.7490, 0.7490, 0.7529,  ..., 0.8235, 0.8314, 0.8314],\n",
       "          [0.7529, 0.7569, 0.7529,  ..., 0.8275, 0.8235, 0.8235],\n",
       "          [0.7412, 0.7608, 0.7647,  ..., 0.8275, 0.8314, 0.8235]]]),\n",
       " {'img_width': 640,\n",
       "  'img_height': 427,\n",
       "  'box': tensor([0.2292, 0.5595, 0.3871, 0.7325]),\n",
       "  'img_has_person': 1,\n",
       "  'img_path': '/mnt/heap/validation/data/000000074860.jpg'})"
      ]
     },
     "execution_count": 10,
     "metadata": {},
     "output_type": "execute_result"
    }
   ],
   "source": [
    "datasets['train'][0]"
   ]
  },
  {
   "cell_type": "code",
   "execution_count": 25,
   "metadata": {},
   "outputs": [],
   "source": [
    "checkpoint_dir = '/mnt/heap/My folder/tune_reports/experiment_name/find_hyperparameters_32f52_00000_0_2022-02-22_16-24-13/checkpoint_000023'"
   ]
  },
  {
   "cell_type": "code",
   "execution_count": 26,
   "metadata": {},
   "outputs": [],
   "source": [
    "torch_model = Net()"
   ]
  },
  {
   "cell_type": "code",
   "execution_count": 27,
   "metadata": {},
   "outputs": [
    {
     "data": {
      "text/plain": [
       "<All keys matched successfully>"
      ]
     },
     "execution_count": 27,
     "metadata": {},
     "output_type": "execute_result"
    }
   ],
   "source": [
    "checkpoint = os.path.join(checkpoint_dir, \"checkpoint\")\n",
    "model_state, optimizer_state = torch.load(checkpoint)\n",
    "torch_model.load_state_dict(model_state)"
   ]
  },
  {
   "cell_type": "code",
   "execution_count": 28,
   "metadata": {},
   "outputs": [],
   "source": [
    "torch_model = torch_model.eval()"
   ]
  },
  {
   "cell_type": "markdown",
   "metadata": {},
   "source": [
    "torch_model = Net()"
   ]
  },
  {
   "cell_type": "code",
   "execution_count": 33,
   "metadata": {},
   "outputs": [],
   "source": [
    "from logger import Logger"
   ]
  },
  {
   "cell_type": "code",
   "execution_count": 34,
   "metadata": {},
   "outputs": [],
   "source": [
    "logger = Logger('TensorBoard')"
   ]
  },
  {
   "cell_type": "code",
   "execution_count": 35,
   "metadata": {},
   "outputs": [],
   "source": [
    "def predict(index):\n",
    "    img, target = datasets['train'][index]\n",
    "    pred = torch_model(img.unsqueeze(0))\n",
    "    print('pred = {}, target = {}'.format(pred['bbox'], target['box']))\n",
    "    \n",
    "    original_img = Image.open(target['img_path']).convert(\"RGB\")\n",
    "    return viewer.print_prediction(original_img, target, pred)"
   ]
  },
  {
   "cell_type": "code",
   "execution_count": 38,
   "metadata": {},
   "outputs": [
    {
     "name": "stdout",
     "output_type": "stream",
     "text": [
      "pred = tensor([[0.3051, 0.4141, 0.6029, 0.7383]], grad_fn=<SliceBackward0>), target = tensor([0.2292, 0.5595, 0.3871, 0.7325])\n",
      "pred = tensor([[0.2923, 0.4064, 0.6030, 0.7526]], grad_fn=<SliceBackward0>), target = tensor([0.4524, 0.4771, 0.5553, 0.8022])\n",
      "pred = tensor([[0.3485, 0.4323, 0.5761, 0.6882]], grad_fn=<SliceBackward0>), target = tensor([0.0912, 0.1146, 0.7883, 0.7918])\n",
      "pred = tensor([[0.3153, 0.4177, 0.5953, 0.7263]], grad_fn=<SliceBackward0>), target = tensor([0.2617, 0.1258, 0.6953, 0.6697])\n",
      "pred = tensor([[0.2931, 0.4052, 0.5962, 0.7505]], grad_fn=<SliceBackward0>), target = tensor([0.0000, 0.5844, 0.2006, 0.9870])\n",
      "pred = tensor([[0.3517, 0.4307, 0.5680, 0.6831]], grad_fn=<SliceBackward0>), target = tensor([0.3778, 0.1798, 0.5098, 0.6989])\n",
      "pred = tensor([[0.3152, 0.4140, 0.5836, 0.7252]], grad_fn=<SliceBackward0>), target = tensor([0., 0., 0., 0.])\n",
      "pred = tensor([[0.3093, 0.4118, 0.5876, 0.7326]], grad_fn=<SliceBackward0>), target = tensor([0.3691, 0.1213, 1.0000, 0.9881])\n",
      "pred = tensor([[0.3564, 0.4336, 0.5664, 0.6778]], grad_fn=<SliceBackward0>), target = tensor([0.3771, 0.5624, 0.4189, 0.7434])\n",
      "pred = tensor([[0.3209, 0.4184, 0.5863, 0.7199]], grad_fn=<SliceBackward0>), target = tensor([0.1650, 0.2446, 0.2851, 0.6645])\n"
     ]
    }
   ],
   "source": [
    "for i in range(10):\n",
    "    img = predict(i)\n",
    "    logger.add_image('img ' + str(i), img)"
   ]
  },
  {
   "cell_type": "code",
   "execution_count": 24,
   "metadata": {},
   "outputs": [],
   "source": [
    "a = [1.3453e-07, 5.0985e-03, 9.9974e-01, 1.0000e+00]"
   ]
  },
  {
   "cell_type": "code",
   "execution_count": null,
   "metadata": {},
   "outputs": [],
   "source": [
    "a"
   ]
  },
  {
   "cell_type": "code",
   "execution_count": null,
   "metadata": {},
   "outputs": [],
   "source": []
  }
 ],
 "metadata": {
  "kernelspec": {
   "display_name": "Python 3",
   "language": "python",
   "name": "python3"
  },
  "language_info": {
   "codemirror_mode": {
    "name": "ipython",
    "version": 3
   },
   "file_extension": ".py",
   "mimetype": "text/x-python",
   "name": "python",
   "nbconvert_exporter": "python",
   "pygments_lexer": "ipython3",
   "version": "3.8.10"
  },
  "toc": {
   "base_numbering": 1,
   "nav_menu": {},
   "number_sections": true,
   "sideBar": true,
   "skip_h1_title": true,
   "title_cell": "Оглавление",
   "title_sidebar": "Оглавление",
   "toc_cell": true,
   "toc_position": {},
   "toc_section_display": true,
   "toc_window_display": false
  }
 },
 "nbformat": 4,
 "nbformat_minor": 4
}
