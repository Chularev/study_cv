{
 "cells": [
  {
   "cell_type": "code",
   "execution_count": 1,
   "metadata": {},
   "outputs": [],
   "source": [
    "%load_ext autoreload\n",
    "%autoreload 2"
   ]
  },
  {
   "cell_type": "markdown",
   "metadata": {
    "toc": true
   },
   "source": [
    "<h1>Оглавление<span class=\"tocSkip\"></span></h1>\n",
    "<div class=\"toc\"><ul class=\"toc-item\"><li><span><a href=\"#Data-loader\" data-toc-modified-id=\"Data-loader-1\"><span class=\"toc-item-num\">1&nbsp;&nbsp;</span>Data loader</a></span></li></ul></div>"
   ]
  },
  {
   "cell_type": "code",
   "execution_count": 2,
   "metadata": {},
   "outputs": [],
   "source": [
    "from data_handlers.data_preparer import get_datasets\n",
    "import torch\n",
    "from typing import Dict\n",
    "from viewer import Viewer"
   ]
  },
  {
   "cell_type": "code",
   "execution_count": 3,
   "metadata": {},
   "outputs": [],
   "source": [
    "import seaborn as sns\n",
    "import pandas as pd"
   ]
  },
  {
   "cell_type": "markdown",
   "metadata": {},
   "source": [
    "# Train loop"
   ]
  },
  {
   "cell_type": "code",
   "execution_count": 4,
   "metadata": {},
   "outputs": [],
   "source": [
    "from itertools import product"
   ]
  },
  {
   "cell_type": "code",
   "execution_count": 5,
   "metadata": {},
   "outputs": [],
   "source": [
    "from data_handlers.data_preparer import get_datasets"
   ]
  },
  {
   "cell_type": "code",
   "execution_count": 6,
   "metadata": {},
   "outputs": [
    {
     "name": "stdout",
     "output_type": "stream",
     "text": [
      "Downloading split 'validation' to '/mnt/heap/validation' if necessary\n",
      "Found annotations at '/mnt/heap/raw/instances_val2017.json'\n",
      "Images already downloaded\n",
      "Existing download of split 'validation' is sufficient\n",
      "Loading 'coco-2017' split 'validation'\n",
      " 100% |███████████████| 5000/5000 [21.6s elapsed, 0s remaining, 249.8 samples/s]      \n",
      "Dataset 'coco-2017-validation' created\n",
      "person_view len = 1005\n",
      "train dataset = 753\n",
      "test dataset = 252\n"
     ]
    }
   ],
   "source": [
    "datasets = get_datasets()"
   ]
  },
  {
   "cell_type": "code",
   "execution_count": 7,
   "metadata": {},
   "outputs": [],
   "source": [
    "def get_loaders(datasets) -> Dict[str,  torch.utils.data.DataLoader]:\n",
    "    return {\n",
    "        'train': torch.utils.data.DataLoader(\n",
    "            datasets['train'], batch_size=64, shuffle=True),\n",
    "        'val': torch.utils.data.DataLoader(\n",
    "            datasets['val'], batch_size=64, shuffle=False)\n",
    "    }"
   ]
  },
  {
   "cell_type": "code",
   "execution_count": 8,
   "metadata": {},
   "outputs": [],
   "source": [
    "loaders = get_loaders(datasets)"
   ]
  },
  {
   "cell_type": "code",
   "execution_count": 9,
   "metadata": {},
   "outputs": [],
   "source": [
    "viewer = Viewer()"
   ]
  },
  {
   "cell_type": "code",
   "execution_count": 10,
   "metadata": {},
   "outputs": [
    {
     "data": {
      "text/plain": [
       "(tensor([[[0.7922, 0.8000, 0.8000,  ..., 0.7529, 0.7490, 0.7412],\n",
       "          [0.7686, 0.7882, 0.8039,  ..., 0.7412, 0.7490, 0.7412],\n",
       "          [0.7804, 0.7765, 0.7882,  ..., 0.7373, 0.7490, 0.7333],\n",
       "          ...,\n",
       "          [0.7725, 0.7569, 0.7608,  ..., 0.8196, 0.8275, 0.8353],\n",
       "          [0.7647, 0.7647, 0.7569,  ..., 0.8235, 0.8235, 0.8314],\n",
       "          [0.7529, 0.7725, 0.7686,  ..., 0.8353, 0.8353, 0.8353]],\n",
       " \n",
       "         [[0.7765, 0.7843, 0.7804,  ..., 0.7333, 0.7294, 0.7216],\n",
       "          [0.7529, 0.7686, 0.7804,  ..., 0.7255, 0.7373, 0.7255],\n",
       "          [0.7608, 0.7569, 0.7686,  ..., 0.7255, 0.7373, 0.7216],\n",
       "          ...,\n",
       "          [0.7569, 0.7569, 0.7608,  ..., 0.8118, 0.8196, 0.8275],\n",
       "          [0.7569, 0.7608, 0.7529,  ..., 0.8157, 0.8118, 0.8157],\n",
       "          [0.7490, 0.7686, 0.7647,  ..., 0.8275, 0.8235, 0.8196]],\n",
       " \n",
       "         [[0.7765, 0.7882, 0.7882,  ..., 0.7608, 0.7529, 0.7451],\n",
       "          [0.7647, 0.7804, 0.7882,  ..., 0.7529, 0.7608, 0.7529],\n",
       "          [0.7804, 0.7725, 0.7765,  ..., 0.7529, 0.7647, 0.7490],\n",
       "          ...,\n",
       "          [0.7490, 0.7490, 0.7529,  ..., 0.8235, 0.8314, 0.8314],\n",
       "          [0.7529, 0.7569, 0.7529,  ..., 0.8275, 0.8235, 0.8235],\n",
       "          [0.7412, 0.7608, 0.7647,  ..., 0.8275, 0.8314, 0.8235]]]),\n",
       " {'img_width': 640,\n",
       "  'img_height': 427,\n",
       "  'box': tensor([0.2292, 0.5595, 0.3871, 0.7325]),\n",
       "  'img_has_person': 1,\n",
       "  'img_path': '/mnt/heap/validation/data/000000074860.jpg'})"
      ]
     },
     "execution_count": 10,
     "metadata": {},
     "output_type": "execute_result"
    }
   ],
   "source": [
    "datasets['train'][0]"
   ]
  },
  {
   "cell_type": "code",
   "execution_count": null,
   "metadata": {},
   "outputs": [],
   "source": []
  }
 ],
 "metadata": {
  "kernelspec": {
   "display_name": "Python 3",
   "language": "python",
   "name": "python3"
  },
  "language_info": {
   "codemirror_mode": {
    "name": "ipython",
    "version": 3
   },
   "file_extension": ".py",
   "mimetype": "text/x-python",
   "name": "python",
   "nbconvert_exporter": "python",
   "pygments_lexer": "ipython3",
   "version": "3.8.10"
  },
  "toc": {
   "base_numbering": 1,
   "nav_menu": {},
   "number_sections": true,
   "sideBar": true,
   "skip_h1_title": true,
   "title_cell": "Оглавление",
   "title_sidebar": "Оглавление",
   "toc_cell": true,
   "toc_position": {},
   "toc_section_display": true,
   "toc_window_display": false
  }
 },
 "nbformat": 4,
 "nbformat_minor": 4
}
