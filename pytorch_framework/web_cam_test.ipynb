{
 "cells": [
  {
   "cell_type": "code",
   "execution_count": 1,
   "metadata": {},
   "outputs": [],
   "source": [
    "# import the opencv library\n",
    "import cv2\n",
    "from viewer import Viewer"
   ]
  },
  {
   "cell_type": "code",
   "execution_count": 2,
   "metadata": {},
   "outputs": [],
   "source": [
    "viewer = Viewer()"
   ]
  },
  {
   "cell_type": "code",
   "execution_count": 3,
   "metadata": {},
   "outputs": [],
   "source": [
    "import torch\n",
    "import os\n",
    "import numpy as np\n",
    "\n",
    "from models import Net\n",
    "import math"
   ]
  },
  {
   "cell_type": "code",
   "execution_count": 4,
   "metadata": {},
   "outputs": [],
   "source": [
    "def get_model(i):\n",
    "    checkpoint_dir = '/mnt/heap/My folder/tune_reports/best_var/find_hyperparameters_ac795_00000_0_2022-03-26_03-46-41/checkpoint_0000'\n",
    "    s = '0' + str(i) if i < 10 else str(i)\n",
    "    checkpoint_dir += s\n",
    "    \n",
    "    torch_model = Net()\n",
    "    checkpoint = os.path.join(checkpoint_dir, \"checkpoint\")\n",
    "    model_state, optimizer_state = torch.load(checkpoint)\n",
    "    torch_model.load_state_dict(model_state)\n",
    "    torch_model = torch_model.eval() \n",
    "    return torch_model"
   ]
  },
  {
   "cell_type": "code",
   "execution_count": 5,
   "metadata": {},
   "outputs": [],
   "source": [
    "model = get_model(49)"
   ]
  },
  {
   "cell_type": "code",
   "execution_count": 6,
   "metadata": {},
   "outputs": [],
   "source": [
    "import torchvision.transforms as T\n",
    "img_size = (254, 254)\n",
    "train_transforms = T.Compose([\n",
    "        T.Resize(img_size),\n",
    "        T.ToTensor(),\n",
    "        T.Normalize(mean=[0.43, 0.44, 0.47],\n",
    "                    std=[0.20, 0.20, 0.20])\n",
    "    ])"
   ]
  },
  {
   "cell_type": "code",
   "execution_count": 7,
   "metadata": {},
   "outputs": [],
   "source": [
    "def predict(frame):\n",
    "    \n",
    "    height, width, depth = frame.shape\n",
    "    img = viewer.convert_from_cv2_to_image(frame)\n",
    "    x_data = train_transforms(img)\n",
    "    pred = model(x_data.unsqueeze(0))\n",
    "    if len(pred) < 1:\n",
    "        return\n",
    "    if torch.round(pred['class']) == 1:\n",
    "        box = pred['bbox'][0]\n",
    "        box = viewer.convert_box(box,width,height)\n",
    "\n",
    "        frame = cv2.rectangle(frame, (box[0], box[1]), (box[2], box[3]),\n",
    "                                (0, 0, 255), 4)\n",
    "    return frame    "
   ]
  },
  {
   "cell_type": "code",
   "execution_count": 8,
   "metadata": {},
   "outputs": [],
   "source": [
    "\n",
    "  \n",
    "  \n",
    "# define a video capture object\n",
    "vid = cv2.VideoCapture(0)\n",
    "try:\n",
    "    while(True):\n",
    "\n",
    "        # Capture the video frame\n",
    "        # by frame\n",
    "        ret, frame = vid.read()\n",
    "        if type(frame) == 'NoneType':\n",
    "            continue\n",
    "\n",
    "        # Display the resulting frame\n",
    "        frame = predict(frame)\n",
    "        cv2.imshow('frame', frame)\n",
    "\n",
    "        # the 'q' button is set as the\n",
    "        # quitting button you may use any\n",
    "        # desired button of your choice\n",
    "        if cv2.waitKey(1) & 0xFF == ord('q'):\n",
    "            break\n",
    "finally:  \n",
    "    # After the loop release the cap object\n",
    "    vid.release()\n",
    "    # Destroy all the windows\n",
    "    cv2.destroyAllWindows()"
   ]
  },
  {
   "cell_type": "code",
   "execution_count": null,
   "metadata": {},
   "outputs": [],
   "source": []
  },
  {
   "cell_type": "code",
   "execution_count": null,
   "metadata": {},
   "outputs": [],
   "source": []
  }
 ],
 "metadata": {
  "kernelspec": {
   "display_name": "Python 3",
   "language": "python",
   "name": "python3"
  },
  "language_info": {
   "codemirror_mode": {
    "name": "ipython",
    "version": 3
   },
   "file_extension": ".py",
   "mimetype": "text/x-python",
   "name": "python",
   "nbconvert_exporter": "python",
   "pygments_lexer": "ipython3",
   "version": "3.8.10"
  }
 },
 "nbformat": 4,
 "nbformat_minor": 4
}
