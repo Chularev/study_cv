{
 "cells": [
  {
   "cell_type": "code",
   "execution_count": 1,
   "metadata": {},
   "outputs": [],
   "source": [
    "# import the opencv library\n",
    "import cv2\n",
    "from viewer import Viewer"
   ]
  },
  {
   "cell_type": "code",
   "execution_count": 2,
   "metadata": {},
   "outputs": [],
   "source": [
    "viewer = Viewer()"
   ]
  },
  {
   "cell_type": "code",
   "execution_count": 3,
   "metadata": {},
   "outputs": [],
   "source": [
    "import torch\n",
    "import os\n",
    "import numpy as np\n",
    "\n",
    "from models import UNET\n",
    "import math"
   ]
  },
  {
   "cell_type": "code",
   "execution_count": 4,
   "metadata": {},
   "outputs": [],
   "source": [
    "from data_handlers.augmentations import get_transforms_for_predict"
   ]
  },
  {
   "cell_type": "code",
   "execution_count": 5,
   "metadata": {},
   "outputs": [],
   "source": [
    "def get_model(i):\n",
    "    checkpoint_dir = '/mnt/heap/My folder/tune_reports/Unet/find_hyperparameters_113ba_00000_0_2022-03-29_22-29-48/checkpoint_0000'\n",
    "    s = '0' + str(i) if i < 10 else str(i)\n",
    "    checkpoint_dir += s\n",
    "    \n",
    "    torch_model = UNET(in_channels=3, out_channels=3)\n",
    "    checkpoint = os.path.join(checkpoint_dir, \"checkpoint\")\n",
    "    model_state, optimizer_state = torch.load(checkpoint)\n",
    "    torch_model.load_state_dict(model_state)\n",
    "    torch_model = torch_model.eval() \n",
    "    torch.set_grad_enabled(False)\n",
    "    return torch_model"
   ]
  },
  {
   "cell_type": "code",
   "execution_count": 6,
   "metadata": {},
   "outputs": [],
   "source": [
    "model = get_model(9)"
   ]
  },
  {
   "cell_type": "code",
   "execution_count": 7,
   "metadata": {},
   "outputs": [],
   "source": [
    "import torchvision.transforms as T\n",
    "img_size = (254, 254)\n",
    "train_transforms = get_transforms_for_predict()"
   ]
  },
  {
   "cell_type": "code",
   "execution_count": 13,
   "metadata": {},
   "outputs": [],
   "source": [
    "def predict(frame):\n",
    "    x_data = train_transforms(image=frame)\n",
    "    x_data = x_data['image']\n",
    "    prediction = model(x_data.unsqueeze(0))\n",
    "    \n",
    "    prediction = torch.round(prediction[0])\n",
    "    \n",
    "    SIZE = (prediction.shape[0], prediction.shape[1])\n",
    "    frame = cv2.resize(frame, SIZE)\n",
    "    \n",
    "    final_image = viewer.mask_image(frame, prediction)\n",
    "    \n",
    "    final_image = cv2.resize(final_image, (1280, 720))\n",
    "\n",
    "    return final_image\n",
    "    "
   ]
  },
  {
   "cell_type": "code",
   "execution_count": 14,
   "metadata": {},
   "outputs": [],
   "source": [
    "# Make a new directory\n",
    "#os.mkdir(\"videos\")"
   ]
  },
  {
   "cell_type": "code",
   "execution_count": 15,
   "metadata": {},
   "outputs": [],
   "source": [
    "test_data_dir = '/mnt/heap/imges/road/testing/'"
   ]
  },
  {
   "cell_type": "code",
   "execution_count": 16,
   "metadata": {},
   "outputs": [],
   "source": [
    "# Creating a VideoCapture object to read the video\n",
    "project_video = \"project_video.mp4\"\n",
    "original_video = cv2.VideoCapture(test_data_dir + project_video)\n",
    "frame_width = int(original_video.get(3))\n",
    "frame_height = int(original_video.get(4))\n",
    " \n",
    "# Define the codec and create VideoWriter object.The output is stored in 'outpy.avi' file.\n",
    "fourcc = cv2.VideoWriter_fourcc('m','p','4','v')\n",
    "fps = 60\n",
    "output = cv2.VideoWriter(\"videos/\" + project_video, fourcc, fps, (frame_width,frame_height))\n",
    "\n",
    "# Process Video\n",
    "while(original_video.isOpened()):\n",
    "    ret, frame = original_video.read()\n",
    "\n",
    "    if ret == True:\n",
    "        # Write the frame into the file 'output.avi'\n",
    "        output.write(predict(frame))\n",
    "\n",
    "    else:\n",
    "        break\n",
    "\n",
    "# When everything done, release the video capture and video write objects\n",
    "original_video.release()\n",
    "output.release()"
   ]
  },
  {
   "cell_type": "code",
   "execution_count": 17,
   "metadata": {},
   "outputs": [
    {
     "name": "stdout",
     "output_type": "stream",
     "text": [
      "done\n"
     ]
    }
   ],
   "source": [
    "print('done')"
   ]
  },
  {
   "cell_type": "code",
   "execution_count": null,
   "metadata": {},
   "outputs": [],
   "source": []
  }
 ],
 "metadata": {
  "kernelspec": {
   "display_name": "Python 3",
   "language": "python",
   "name": "python3"
  },
  "language_info": {
   "codemirror_mode": {
    "name": "ipython",
    "version": 3
   },
   "file_extension": ".py",
   "mimetype": "text/x-python",
   "name": "python",
   "nbconvert_exporter": "python",
   "pygments_lexer": "ipython3",
   "version": "3.8.10"
  }
 },
 "nbformat": 4,
 "nbformat_minor": 4
}
