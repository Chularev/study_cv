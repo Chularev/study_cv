{
 "cells": [
  {
   "cell_type": "markdown",
   "metadata": {
    "toc": true
   },
   "source": [
    "<h1>Оглавление<span class=\"tocSkip\"></span></h1>\n",
    "<div class=\"toc\"><ul class=\"toc-item\"><li><span><a href=\"#Data-loader\" data-toc-modified-id=\"Data-loader-1\"><span class=\"toc-item-num\">1&nbsp;&nbsp;</span>Data loader</a></span></li></ul></div>"
   ]
  },
  {
   "cell_type": "markdown",
   "metadata": {},
   "source": [
    "# Подключение библиотек"
   ]
  },
  {
   "cell_type": "code",
   "execution_count": 1,
   "metadata": {},
   "outputs": [
    {
     "name": "stdout",
     "output_type": "stream",
     "text": [
      "Failed to connect to Process 2578 (service/main.py --51-service db --multi): RuntimeError('service is exiting, cannot connect')\n",
      "Downloading split 'validation' to '/mnt/heap/validation' if necessary\n",
      "Found annotations at '/mnt/heap/raw/instances_val2017.json'\n",
      "Images already downloaded\n",
      "Existing download of split 'validation' is sufficient\n",
      "Loading 'coco-2017' split 'validation'\n",
      " 100% |███████████████| 5000/5000 [22.5s elapsed, 0s remaining, 248.1 samples/s]      \n",
      "Dataset 'coco-2017-validation' created\n"
     ]
    }
   ],
   "source": [
    "import fiftyone as fo\n",
    "import fiftyone.zoo as foz\n",
    "\n",
    "# Download and load the validation split of COCO-2017\n",
    "fo_dataset = foz.load_zoo_dataset(\"coco-2017\", split=\"validation\",\n",
    "                               label_types=[\"detections\"],\n",
    "                               dataset_dir='/mnt/heap')"
   ]
  },
  {
   "cell_type": "markdown",
   "metadata": {},
   "source": [
    "session = fo.launch_app(dataset)"
   ]
  },
  {
   "cell_type": "code",
   "execution_count": 2,
   "metadata": {},
   "outputs": [],
   "source": [
    "fo_dataset.compute_metadata()"
   ]
  },
  {
   "cell_type": "markdown",
   "metadata": {},
   "source": [
    "## Data set"
   ]
  },
  {
   "cell_type": "code",
   "execution_count": 3,
   "metadata": {},
   "outputs": [],
   "source": [
    "import torch\n",
    "import fiftyone.utils.coco as fouc\n",
    "from PIL import Image\n",
    "\n",
    "\n",
    "class FiftyOneTorchDataset(torch.utils.data.Dataset):\n",
    "    \"\"\"A class to construct a PyTorch dataset from a FiftyOne dataset.\n",
    "    \n",
    "    Args:\n",
    "        fiftyone_dataset: a FiftyOne dataset or view that will be used for training or testing\n",
    "        transforms (None): a list of PyTorch transforms to apply to images and targets when loading\n",
    "        gt_field (\"ground_truth\"): the name of the field in fiftyone_dataset that contains the \n",
    "            desired labels to load\n",
    "        classes (None): a list of class strings that are used to define the mapping between\n",
    "            class names and indices. If None, it will use all classes present in the given fiftyone_dataset.\n",
    "    \"\"\"\n",
    "\n",
    "    def __init__(\n",
    "        self,\n",
    "        fiftyone_dataset,\n",
    "        transforms=None,\n",
    "        gt_field=\"ground_truth\",\n",
    "        classes=None,\n",
    "    ):\n",
    "        self.samples = fiftyone_dataset\n",
    "        self.transforms = transforms\n",
    "        self.gt_field = gt_field\n",
    "\n",
    "        self.img_paths = self.samples.values(\"filepath\")\n",
    "\n",
    "        self.classes = classes\n",
    "        if not self.classes:\n",
    "            # Get list of distinct labels that exist in the view\n",
    "            self.classes = self.samples.distinct(\n",
    "                \"%s.detections.label\" % gt_field\n",
    "            )\n",
    "\n",
    "        if self.classes[0] != \"background\":\n",
    "            self.classes = [\"background\"] + self.classes\n",
    "\n",
    "        self.labels_map_rev = {c: i for i, c in enumerate(self.classes)}\n",
    "\n",
    "    def __getitem__(self, idx):\n",
    "        img_path = self.img_paths[idx]\n",
    "        sample = self.samples[img_path]\n",
    "        metadata = sample.metadata\n",
    "        img = Image.open(img_path).convert(\"RGB\")\n",
    "\n",
    "        boxes = []\n",
    "        labels = []\n",
    "        area = []\n",
    "        iscrowd = []\n",
    "        detections = sample[self.gt_field].detections\n",
    "        for det in detections:\n",
    "            category_id = self.labels_map_rev[det.label]\n",
    "            coco_obj = fouc.COCOObject.from_detection(\n",
    "                det, metadata, category_id=category_id,\n",
    "            )\n",
    "            x, y, w, h = coco_obj.bbox\n",
    "            boxes.append([x, y, x + w, y + h])\n",
    "            labels.append(coco_obj.category_id)\n",
    "            area.append(coco_obj.area)\n",
    "            iscrowd.append(coco_obj.iscrowd)\n",
    "\n",
    "        target = {}\n",
    "        target[\"boxes\"] = torch.as_tensor(boxes, dtype=torch.float32)\n",
    "        target[\"labels\"] = torch.as_tensor(labels, dtype=torch.int64)\n",
    "        target[\"image_id\"] = torch.as_tensor([idx])\n",
    "        target[\"area\"] = torch.as_tensor(area, dtype=torch.float32)\n",
    "        target[\"iscrowd\"] = torch.as_tensor(iscrowd, dtype=torch.int64)\n",
    "\n",
    "        if self.transforms is not None:\n",
    "            img = self.transforms(img)\n",
    "\n",
    "        return img, target\n",
    "\n",
    "    def __len__(self):\n",
    "        return len(self.img_paths)\n",
    "\n",
    "    def get_classes(self):\n",
    "        return self.classes"
   ]
  },
  {
   "cell_type": "code",
   "execution_count": 4,
   "metadata": {},
   "outputs": [
    {
     "name": "stdout",
     "output_type": "stream",
     "text": [
      "2693\n"
     ]
    }
   ],
   "source": [
    "from fiftyone import ViewField as F\n",
    "\n",
    "person_list = [\"person\"]\n",
    "person_view = fo_dataset.filter_labels(\"ground_truth\",\n",
    "        F(\"label\").is_in(person_list))\n",
    "\n",
    "print(len(person_view))"
   ]
  },
  {
   "cell_type": "code",
   "execution_count": 5,
   "metadata": {},
   "outputs": [],
   "source": [
    "# From the torchvision references we cloned\n",
    "import torchvision.transforms as T\n",
    "\n",
    "train_transforms = T.Compose([T.ToTensor(), T.RandomHorizontalFlip(0.5)])\n",
    "test_transforms = T.Compose([T.ToTensor()])"
   ]
  },
  {
   "cell_type": "code",
   "execution_count": 6,
   "metadata": {},
   "outputs": [],
   "source": [
    "# split the dataset in train and test set\n",
    "train_view = person_view.take(2000, seed=51)\n",
    "test_view = person_view.exclude([s.id for s in train_view])"
   ]
  },
  {
   "cell_type": "code",
   "execution_count": 7,
   "metadata": {},
   "outputs": [],
   "source": [
    "torch_dataset = FiftyOneTorchDataset(train_view, train_transforms,\n",
    "        classes=person_list)\n",
    "torch_dataset_test = FiftyOneTorchDataset(test_view, test_transforms, \n",
    "        classes=person_list)"
   ]
  },
  {
   "cell_type": "code",
   "execution_count": 8,
   "metadata": {},
   "outputs": [
    {
     "data": {
      "text/plain": [
       "(tensor([[[0.8431, 0.8431, 0.8431,  ..., 0.7412, 0.7569, 0.7569],\n",
       "          [0.8510, 0.8510, 0.8510,  ..., 0.7373, 0.7333, 0.7294],\n",
       "          [0.8471, 0.8471, 0.8510,  ..., 0.7333, 0.7333, 0.7333],\n",
       "          ...,\n",
       "          [0.5059, 0.4980, 0.5294,  ..., 0.4667, 0.4745, 0.4353],\n",
       "          [0.5647, 0.5961, 0.5255,  ..., 0.4078, 0.4353, 0.5098],\n",
       "          [0.5333, 0.5098, 0.4980,  ..., 0.4431, 0.4314, 0.5294]],\n",
       " \n",
       "         [[0.8745, 0.8745, 0.8745,  ..., 0.7882, 0.8039, 0.8039],\n",
       "          [0.8824, 0.8824, 0.8824,  ..., 0.7804, 0.7804, 0.7765],\n",
       "          [0.8784, 0.8784, 0.8863,  ..., 0.7765, 0.7765, 0.7765],\n",
       "          ...,\n",
       "          [0.4039, 0.3882, 0.4078,  ..., 0.4627, 0.4706, 0.4314],\n",
       "          [0.4471, 0.4784, 0.3961,  ..., 0.4039, 0.4196, 0.4941],\n",
       "          [0.4157, 0.3882, 0.3647,  ..., 0.4392, 0.4275, 0.5294]],\n",
       " \n",
       "         [[0.9176, 0.9176, 0.9176,  ..., 0.7882, 0.8039, 0.7961],\n",
       "          [0.9255, 0.9255, 0.9255,  ..., 0.7882, 0.7804, 0.7765],\n",
       "          [0.9216, 0.9216, 0.9216,  ..., 0.7843, 0.7843, 0.7843],\n",
       "          ...,\n",
       "          [0.4000, 0.3843, 0.4000,  ..., 0.4431, 0.4549, 0.4157],\n",
       "          [0.4157, 0.4471, 0.3686,  ..., 0.3882, 0.4078, 0.4902],\n",
       "          [0.4078, 0.3804, 0.3608,  ..., 0.4314, 0.4118, 0.4902]]]),\n",
       " {'boxes': tensor([[ 28.9800, 226.2300,  44.1600, 246.9300],\n",
       "          [ 18.7400, 221.1300,  30.3900, 247.7800],\n",
       "          [  9.6800, 222.7100,  21.6000, 246.0700],\n",
       "          [595.5700, 242.8100, 613.9600, 271.3700],\n",
       "          [191.2100, 147.3100, 244.5200, 206.8700],\n",
       "          [ 48.3100, 223.4300,  61.1700, 247.7800],\n",
       "          [623.0400, 217.1500, 640.0000, 361.5900]]),\n",
       "  'labels': tensor([1, 1, 1, 1, 1, 1, 1]),\n",
       "  'image_id': tensor([9]),\n",
       "  'area': tensor([ 314.2260,  310.4725,  278.4512,  525.2184, 3175.1436,  313.1410,\n",
       "          2449.7024]),\n",
       "  'iscrowd': tensor([0, 0, 0, 0, 0, 0, 0])})"
      ]
     },
     "execution_count": 8,
     "metadata": {},
     "output_type": "execute_result"
    }
   ],
   "source": [
    "torch_dataset_test[9]"
   ]
  },
  {
   "cell_type": "markdown",
   "metadata": {},
   "source": [
    "## Data loader"
   ]
  },
  {
   "cell_type": "code",
   "execution_count": null,
   "metadata": {},
   "outputs": [],
   "source": []
  }
 ],
 "metadata": {
  "kernelspec": {
   "display_name": "Python 3",
   "language": "python",
   "name": "python3"
  },
  "language_info": {
   "codemirror_mode": {
    "name": "ipython",
    "version": 3
   },
   "file_extension": ".py",
   "mimetype": "text/x-python",
   "name": "python",
   "nbconvert_exporter": "python",
   "pygments_lexer": "ipython3",
   "version": "3.8.10"
  },
  "toc": {
   "base_numbering": 1,
   "nav_menu": {},
   "number_sections": true,
   "sideBar": true,
   "skip_h1_title": true,
   "title_cell": "Оглавление",
   "title_sidebar": "Оглавление",
   "toc_cell": true,
   "toc_position": {},
   "toc_section_display": true,
   "toc_window_display": false
  }
 },
 "nbformat": 4,
 "nbformat_minor": 4
}
