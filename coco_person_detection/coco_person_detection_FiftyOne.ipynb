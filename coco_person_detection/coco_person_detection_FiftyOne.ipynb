{
 "cells": [
  {
   "cell_type": "markdown",
   "metadata": {
    "toc": true
   },
   "source": [
    "<h1>Оглавление<span class=\"tocSkip\"></span></h1>\n",
    "<div class=\"toc\"><ul class=\"toc-item\"><li><span><a href=\"#Data-loader\" data-toc-modified-id=\"Data-loader-1\"><span class=\"toc-item-num\">1&nbsp;&nbsp;</span>Data loader</a></span></li></ul></div>"
   ]
  },
  {
   "cell_type": "markdown",
   "metadata": {},
   "source": [
    "# Подключение библиотек"
   ]
  },
  {
   "cell_type": "code",
   "execution_count": 1,
   "metadata": {},
   "outputs": [
    {
     "name": "stdout",
     "output_type": "stream",
     "text": [
      "Downloading split 'validation' to '/mnt/heap/validation' if necessary\n",
      "Found annotations at '/mnt/heap/raw/instances_val2017.json'\n",
      "Images already downloaded\n",
      "Existing download of split 'validation' is sufficient\n",
      "Loading 'coco-2017' split 'validation'\n",
      " 100% |███████████████| 5000/5000 [22.6s elapsed, 0s remaining, 219.1 samples/s]      \n",
      "Dataset 'coco-2017-validation' created\n"
     ]
    }
   ],
   "source": [
    "import fiftyone as fo\n",
    "import fiftyone.zoo as foz\n",
    "\n",
    "# Download and load the validation split of COCO-2017\n",
    "fo_dataset = foz.load_zoo_dataset(\"coco-2017\", split=\"validation\",\n",
    "                               dataset_dir='/mnt/heap')"
   ]
  },
  {
   "cell_type": "markdown",
   "metadata": {},
   "source": [
    "session = fo.launch_app(dataset)"
   ]
  },
  {
   "cell_type": "code",
   "execution_count": 2,
   "metadata": {},
   "outputs": [],
   "source": [
    "fo_dataset.compute_metadata()"
   ]
  },
  {
   "cell_type": "markdown",
   "metadata": {},
   "source": [
    "## Data set"
   ]
  },
  {
   "cell_type": "code",
   "execution_count": 3,
   "metadata": {},
   "outputs": [],
   "source": [
    "import torch\n",
    "import fiftyone.utils.coco as fouc\n",
    "from viewer import Viewer\n",
    "from PIL import Image"
   ]
  },
  {
   "cell_type": "code",
   "execution_count": 4,
   "metadata": {},
   "outputs": [],
   "source": [
    "viewer = Viewer()"
   ]
  },
  {
   "cell_type": "code",
   "execution_count": 5,
   "metadata": {},
   "outputs": [],
   "source": [
    "class FiftyOneTorchDataset(torch.utils.data.Dataset):\n",
    "    def __init__(\n",
    "        self,\n",
    "        fiftyone_dataset,\n",
    "        transforms=None,\n",
    "        gt_field=\"ground_truth\",\n",
    "        classes=None,\n",
    "    ):\n",
    "        self.samples = fiftyone_dataset\n",
    "        self.transforms = transforms\n",
    "        self.gt_field = gt_field\n",
    "\n",
    "        self.img_paths = self.samples.values(\"filepath\")\n",
    "\n",
    "        self.classes = classes\n",
    "        if not self.classes:\n",
    "            # Get list of distinct labels that exist in the view\n",
    "            self.classes = self.samples.distinct(\n",
    "                \"%s.detections.label\" % gt_field\n",
    "            )\n",
    "\n",
    "        if self.classes[0] != \"background\":\n",
    "            self.classes = [\"background\"] + self.classes\n",
    "\n",
    "        self.labels_map_rev = {c: i for i, c in enumerate(self.classes)}\n",
    "\n",
    "    def __getitem__(self, idx):\n",
    "        img_path = self.img_paths[idx]\n",
    "        sample = self.samples[img_path]\n",
    "        metadata = sample.metadata\n",
    "        img = Image.open(img_path).convert(\"RGB\")\n",
    "\n",
    "        boxes = []\n",
    "        detections = sample[self.gt_field].detections\n",
    "        img_has_person = 0\n",
    "        for det in detections:\n",
    "            if det.label != 'person':\n",
    "                continue\n",
    "            \n",
    "            category_id = self.labels_map_rev[det.label]\n",
    "            coco_obj = fouc.COCOObject.from_detection(\n",
    "                det, metadata, category_id=category_id,\n",
    "            )\n",
    "            x, y, w, h = coco_obj.bbox\n",
    "            \n",
    "            boxes.append([x/metadata['width'], \n",
    "                          y/metadata['height'], \n",
    "                          (x + w)/metadata['width'], \n",
    "                          (y + h)/metadata['height']])\n",
    "            \n",
    "            img_has_person = 1\n",
    "\n",
    "        target = {}\n",
    "        target['img_width'] = metadata['width']\n",
    "        target['img_height'] = metadata['height']\n",
    "       \n",
    "        target[\"box\"] = []\n",
    "        if img_has_person:\n",
    "            box = None\n",
    "            if len(boxes) > 1:\n",
    "                box = sorted(boxes)[0]\n",
    "            else:\n",
    "                box = boxes[0]\n",
    "            target[\"box\"] = torch.as_tensor(box, dtype=torch.float32)        \n",
    "            \n",
    "        target[\"img_has_person\"] = img_has_person\n",
    "        target[\"img_path\"] = img_path\n",
    "\n",
    "        if self.transforms is not None:\n",
    "            img = self.transforms(img)\n",
    "\n",
    "        return img, target\n",
    "\n",
    "    def __len__(self):\n",
    "        return len(self.img_paths)\n",
    "\n",
    "    def get_classes(self):\n",
    "        return self.classes"
   ]
  },
  {
   "cell_type": "code",
   "execution_count": 6,
   "metadata": {},
   "outputs": [
    {
     "name": "stdout",
     "output_type": "stream",
     "text": [
      "1045\n"
     ]
    }
   ],
   "source": [
    "from fiftyone import ViewField as F\n",
    "\n",
    "person_list = [\"person\"]\n",
    "person_view = fo_dataset.filter_labels(\"ground_truth\",\n",
    "        F(\"label\").is_in(person_list)).match(F(\"ground_truth.detections\").length() == 1)\n",
    "print(len(person_view))"
   ]
  },
  {
   "cell_type": "markdown",
   "metadata": {},
   "source": [
    "## Data loader"
   ]
  },
  {
   "cell_type": "code",
   "execution_count": 7,
   "metadata": {},
   "outputs": [],
   "source": [
    "import torchvision.transforms as T\n",
    "\n",
    "img_size = (256, 256)\n",
    "train_transforms = T.Compose([T.Resize(img_size),\n",
    "                              T.ToTensor()])\n",
    "test_transforms = T.Compose([T.Resize(img_size),\n",
    "                             T.ToTensor()])"
   ]
  },
  {
   "cell_type": "code",
   "execution_count": 8,
   "metadata": {},
   "outputs": [],
   "source": [
    "# split the dataset in train and test set\n",
    "train_view = person_view.take(len(person_view) * 0.75, seed=51)\n",
    "test_view = person_view.exclude([s.id for s in train_view])"
   ]
  },
  {
   "cell_type": "code",
   "execution_count": 9,
   "metadata": {},
   "outputs": [],
   "source": [
    "torch_dataset = FiftyOneTorchDataset(train_view, train_transforms,\n",
    "        classes=person_list)\n",
    "torch_dataset_test = FiftyOneTorchDataset(test_view, test_transforms, \n",
    "        classes=person_list)"
   ]
  },
  {
   "cell_type": "code",
   "execution_count": 10,
   "metadata": {},
   "outputs": [
    {
     "data": {
      "text/plain": [
       "783"
      ]
     },
     "execution_count": 10,
     "metadata": {},
     "output_type": "execute_result"
    }
   ],
   "source": [
    "len(torch_dataset)"
   ]
  },
  {
   "cell_type": "code",
   "execution_count": 11,
   "metadata": {},
   "outputs": [
    {
     "data": {
      "text/plain": [
       "262"
      ]
     },
     "execution_count": 11,
     "metadata": {},
     "output_type": "execute_result"
    }
   ],
   "source": [
    "len(torch_dataset_test)"
   ]
  },
  {
   "cell_type": "code",
   "execution_count": 12,
   "metadata": {},
   "outputs": [],
   "source": [
    "# define training and validation data loaders\n",
    "data_loader = torch.utils.data.DataLoader(\n",
    "        torch_dataset, batch_size=64)\n",
    "    \n",
    "data_loader_test = torch.utils.data.DataLoader(\n",
    "        torch_dataset_test, batch_size=64, shuffle=False)"
   ]
  },
  {
   "cell_type": "markdown",
   "metadata": {},
   "source": [
    "# Train loop"
   ]
  },
  {
   "cell_type": "code",
   "execution_count": 13,
   "metadata": {},
   "outputs": [],
   "source": [
    "from itertools import product\n",
    "from pytorch_helper import PyTorchHelper"
   ]
  },
  {
   "cell_type": "code",
   "execution_count": 14,
   "metadata": {},
   "outputs": [],
   "source": [
    "loss_function_xy = torch.nn.MSELoss()\n",
    "loss_function_bce = torch.nn.CrossEntropyLoss()"
   ]
  },
  {
   "cell_type": "code",
   "execution_count": 15,
   "metadata": {},
   "outputs": [],
   "source": [
    "from pytorch_helper import PyTorchHelper\n",
    "\n",
    "def find_hyperparameters(config):\n",
    "    learning_rates = [1e-1]\n",
    "    anneal_coeff = 0.2\n",
    "    anneal_epochs = [10]\n",
    "    regs = config['regs']\n",
    "    optimizers = config['optimizers']\n",
    "\n",
    "    batch_size = 64\n",
    "    epoch_num = 10\n",
    "\n",
    "    run_record = {} \n",
    "    \n",
    "    helper = PyTorchHelper(8,  None)\n",
    "\n",
    "    lenet_model = None\n",
    "    val_loss = 8\n",
    "    loss_history = None\n",
    "    for lr, reg, anneal_epoch, optimizer in product(learning_rates, regs, anneal_epochs, optimizers):\n",
    "        lenet_model = config['model']() # base_lenet()\n",
    "\n",
    "        loss = None\n",
    "\n",
    "        optimizer = optimizer(lenet_model.parameters(), lr=lr, weight_decay=reg)\n",
    "        scheduler = optim.lr_scheduler.StepLR(optimizer, step_size=anneal_epoch, gamma=anneal_coeff)\n",
    "\n",
    "        lenet_model, loss_history, val_loss = helper.train_model(config['model_name'],lenet_model, data_loader, data_loader_test, loss, optimizer, epoch_num, scheduler)\n",
    "\n",
    "    return lenet_model, loss_history, val_loss"
   ]
  },
  {
   "cell_type": "code",
   "execution_count": 16,
   "metadata": {},
   "outputs": [],
   "source": [
    "import torch\n",
    "import torch.nn as nn\n",
    "import torch.optim as optim\n",
    "\n",
    "from torchvision.models import resnet18"
   ]
  },
  {
   "cell_type": "code",
   "execution_count": 17,
   "metadata": {},
   "outputs": [],
   "source": [
    "def net():\n",
    "    model = resnet18(pretrained=True)\n",
    "    model.fc = nn.Linear(in_features=512, out_features=5)\n",
    "    return model"
   ]
  },
  {
   "cell_type": "code",
   "execution_count": 18,
   "metadata": {},
   "outputs": [],
   "source": [
    "config = {\n",
    "    'regs': [0.001],\n",
    "    'optimizers': [optim.Adam],\n",
    "    'model': net,\n",
    "    'model_name': 'best_lenet'    \n",
    "}"
   ]
  },
  {
   "cell_type": "code",
   "execution_count": 19,
   "metadata": {},
   "outputs": [],
   "source": [
    "from resource_monitor import ResourceMonitor\n",
    "resourceMonitor = ResourceMonitor()"
   ]
  },
  {
   "cell_type": "code",
   "execution_count": 20,
   "metadata": {},
   "outputs": [
    {
     "name": "stdout",
     "output_type": "stream",
     "text": [
      "memory_allocated: 0.0\n",
      "max_memory_allocated: 0.0\n",
      "memory_reserved: 0.0\n",
      "max_memory_reserved: 0.0\n"
     ]
    }
   ],
   "source": [
    "resourceMonitor.print_statistics('MB')"
   ]
  },
  {
   "cell_type": "code",
   "execution_count": null,
   "metadata": {},
   "outputs": [
    {
     "name": "stdout",
     "output_type": "stream",
     "text": [
      "==============================\n",
      "Start train:\n",
      "memory_allocated: 42.69677734375\n",
      "max_memory_allocated: 42.69677734375\n",
      "memory_reserved: 64.0\n",
      "max_memory_reserved: 64.0\n",
      "==============================\n",
      "Epoch 0/9\n",
      "----------\n",
      "Step 0/13 Loss 1.29728102684021\n",
      "Step 1/13 Loss 22.657617568969727\n",
      "Step 2/13 Loss 12.711212158203125\n",
      "Step 3/13 Loss 5.609212875366211\n",
      "Step 4/13 Loss 4.072533130645752\n",
      "Step 5/13 Loss 6.899396896362305\n",
      "Step 6/13 Loss 4.157278060913086\n",
      "Step 7/13 Loss 1.867362380027771\n",
      "Step 8/13 Loss 1.936820387840271\n",
      "Step 9/13 Loss 1.7677006721496582\n",
      "Step 10/13 Loss 1.246346116065979\n",
      "Step 11/13 Loss 1.2362841367721558\n",
      "Step 12/13 Loss 0.784190833568573\n",
      "==============================\n",
      "Average loss train: 5.520269\n",
      "Average loss test: 92970.601562\n",
      "==============================\n",
      "memory_allocated: 174.14208984375\n",
      "max_memory_allocated: 2031.17724609375\n",
      "memory_reserved: 2744.0\n",
      "max_memory_reserved: 2744.0\n",
      "==============================\n",
      "Epoch 1/9\n",
      "----------\n",
      "Step 0/13 Loss 0.5953395962715149\n",
      "Step 1/13 Loss 0.5621434450149536\n",
      "Step 2/13 Loss 0.4597854018211365\n",
      "Step 3/13 Loss 0.520076334476471\n",
      "Step 4/13 Loss 0.41045626997947693\n",
      "Step 5/13 Loss 0.36892372369766235\n",
      "Step 6/13 Loss 0.37163153290748596\n",
      "Step 7/13 Loss 0.3088924288749695\n",
      "Step 8/13 Loss 0.2860303819179535\n",
      "Step 9/13 Loss 0.47953569889068604\n",
      "Step 10/13 Loss 0.383903443813324\n",
      "Step 11/13 Loss 0.3092437982559204\n",
      "Step 12/13 Loss 0.39794617891311646\n",
      "==============================\n",
      "Average loss train: 0.454492\n",
      "Average loss test: 2.024798\n",
      "==============================\n",
      "memory_allocated: 174.14208984375\n",
      "max_memory_allocated: 2031.177734375\n",
      "memory_reserved: 2744.0\n",
      "max_memory_reserved: 2744.0\n",
      "==============================\n",
      "Epoch 2/9\n",
      "----------\n",
      "Step 0/13 Loss 0.27845099568367004\n",
      "Step 1/13 Loss 0.46257442235946655\n",
      "Step 2/13 Loss 0.3455154001712799\n",
      "Step 3/13 Loss 0.3218127489089966\n",
      "Step 4/13 Loss 0.2580392062664032\n",
      "Step 5/13 Loss 0.34146809577941895\n",
      "Step 6/13 Loss 0.23817658424377441\n",
      "Step 7/13 Loss 0.3063180148601532\n",
      "Step 8/13 Loss 0.32779455184936523\n",
      "Step 9/13 Loss 0.31092599034309387\n",
      "Step 10/13 Loss 0.26243460178375244\n",
      "Step 11/13 Loss 0.3303544521331787\n",
      "Step 12/13 Loss 0.2424958497285843\n",
      "==============================\n",
      "Average loss train: 0.335530\n",
      "Average loss test: 0.226730\n",
      "==============================\n",
      "memory_allocated: 174.14208984375\n",
      "max_memory_allocated: 2031.177734375\n",
      "memory_reserved: 2744.0\n",
      "max_memory_reserved: 2744.0\n",
      "==============================\n",
      "Epoch 3/9\n",
      "----------\n",
      "Step 0/13 Loss 0.31154242157936096\n",
      "Step 1/13 Loss 0.21325072646141052\n",
      "Step 2/13 Loss 0.24072135984897614\n",
      "Step 3/13 Loss 0.2319357544183731\n",
      "Step 4/13 Loss 0.3031585216522217\n",
      "Step 5/13 Loss 0.23052679002285004\n",
      "Step 6/13 Loss 0.178493931889534\n",
      "Step 7/13 Loss 0.23844878375530243\n",
      "Step 8/13 Loss 0.21521024405956268\n",
      "Step 9/13 Loss 0.23929175734519958\n",
      "Step 10/13 Loss 0.27884238958358765\n",
      "Step 11/13 Loss 0.2813850939273834\n",
      "Step 12/13 Loss 0.219817653298378\n",
      "==============================\n",
      "Average loss train: 0.265219\n",
      "Average loss test: 0.226056\n",
      "==============================\n",
      "memory_allocated: 174.14208984375\n",
      "max_memory_allocated: 2031.177734375\n",
      "memory_reserved: 2744.0\n",
      "max_memory_reserved: 2744.0\n",
      "==============================\n",
      "Epoch 4/9\n",
      "----------\n",
      "Step 0/13 Loss 0.24643461406230927\n",
      "Step 1/13 Loss 0.21827222406864166\n",
      "Step 2/13 Loss 0.2443651258945465\n",
      "Step 3/13 Loss 0.20599937438964844\n",
      "Step 4/13 Loss 0.22738122940063477\n",
      "Step 5/13 Loss 0.2482265830039978\n",
      "Step 6/13 Loss 0.24581655859947205\n",
      "Step 7/13 Loss 0.229296013712883\n",
      "Step 8/13 Loss 0.2188219130039215\n",
      "Step 9/13 Loss 0.20539352297782898\n",
      "Step 10/13 Loss 0.21700462698936462\n",
      "Step 11/13 Loss 0.2109612673521042\n",
      "Step 12/13 Loss 0.1661631017923355\n",
      "==============================\n",
      "Average loss train: 0.240345\n",
      "Average loss test: 0.220797\n",
      "==============================\n",
      "memory_allocated: 174.14208984375\n",
      "max_memory_allocated: 2031.177734375\n",
      "memory_reserved: 2744.0\n",
      "max_memory_reserved: 2744.0\n",
      "==============================\n",
      "Epoch 5/9\n",
      "----------\n",
      "Step 0/13 Loss 0.2017570585012436\n",
      "Step 1/13 Loss 0.20106099545955658\n",
      "Step 2/13 Loss 0.23740629851818085\n",
      "Step 3/13 Loss 0.19429391622543335\n",
      "Step 4/13 Loss 0.20374926924705505\n",
      "Step 5/13 Loss 0.20826029777526855\n",
      "Step 6/13 Loss 0.20503351092338562\n",
      "Step 7/13 Loss 0.18894162774085999\n",
      "Step 8/13 Loss 0.18550723791122437\n",
      "Step 9/13 Loss 0.18974530696868896\n",
      "Step 10/13 Loss 0.1954597681760788\n",
      "Step 11/13 Loss 0.18841835856437683\n",
      "Step 12/13 Loss 0.1666010469198227\n",
      "==============================\n",
      "Average loss train: 0.213853\n",
      "Average loss test: 0.242527\n",
      "==============================\n",
      "memory_allocated: 174.14208984375\n",
      "max_memory_allocated: 2031.177734375\n",
      "memory_reserved: 2744.0\n",
      "max_memory_reserved: 2744.0\n",
      "==============================\n",
      "Epoch 6/9\n",
      "----------\n",
      "Step 0/13 Loss 0.18487903475761414\n",
      "Step 1/13 Loss 0.19865021109580994\n",
      "Step 2/13 Loss 0.1853993833065033\n",
      "Step 3/13 Loss 0.17690397799015045\n",
      "Step 4/13 Loss 0.1968584656715393\n",
      "Step 5/13 Loss 0.20178276300430298\n",
      "Step 6/13 Loss 0.16800418496131897\n",
      "Step 7/13 Loss 0.1760970503091812\n",
      "Step 8/13 Loss 0.17146039009094238\n",
      "Step 9/13 Loss 0.18586841225624084\n",
      "Step 10/13 Loss 0.18836945295333862\n",
      "Step 11/13 Loss 0.18271693587303162\n",
      "Step 12/13 Loss 0.16398517787456512\n",
      "==============================\n",
      "Average loss train: 0.198415\n",
      "Average loss test: 0.217249\n",
      "==============================\n",
      "memory_allocated: 174.14208984375\n",
      "max_memory_allocated: 2031.177734375\n",
      "memory_reserved: 2744.0\n",
      "max_memory_reserved: 2744.0\n",
      "==============================\n",
      "Epoch 7/9\n",
      "----------\n",
      "Step 0/13 Loss 0.1862601935863495\n",
      "Step 1/13 Loss 0.18691964447498322\n",
      "Step 2/13 Loss 0.19125622510910034\n",
      "Step 3/13 Loss 0.18150553107261658\n",
      "Step 4/13 Loss 0.19333264231681824\n",
      "Step 5/13 Loss 0.20375995337963104\n",
      "Step 6/13 Loss 0.16219168901443481\n",
      "Step 7/13 Loss 0.1734248846769333\n",
      "Step 8/13 Loss 0.17674235999584198\n",
      "Step 9/13 Loss 0.1725691705942154\n",
      "Step 10/13 Loss 0.19042567908763885\n",
      "Step 11/13 Loss 0.18522532284259796\n",
      "Step 12/13 Loss 0.16643604636192322\n",
      "==============================\n",
      "Average loss train: 0.197504\n",
      "Average loss test: 0.250645\n",
      "==============================\n",
      "memory_allocated: 174.14208984375\n",
      "max_memory_allocated: 2031.177734375\n",
      "memory_reserved: 2744.0\n",
      "max_memory_reserved: 2744.0\n",
      "==============================\n",
      "Epoch 8/9\n",
      "----------\n",
      "Step 0/13 Loss 0.20968665182590485\n",
      "Step 1/13 Loss 0.18743836879730225\n",
      "Step 2/13 Loss 0.18907587230205536\n",
      "Step 3/13 Loss 0.1923094391822815\n",
      "Step 4/13 Loss 0.2059815227985382\n",
      "Step 5/13 Loss 0.2028997838497162\n",
      "Step 6/13 Loss 0.16145700216293335\n",
      "Step 7/13 Loss 0.18453654646873474\n",
      "Step 8/13 Loss 0.17946146428585052\n",
      "Step 9/13 Loss 0.17123527824878693\n",
      "Step 10/13 Loss 0.195175901055336\n",
      "Step 11/13 Loss 0.19452457129955292\n",
      "Step 12/13 Loss 0.16346289217472076\n",
      "==============================\n",
      "Average loss train: 0.203104\n",
      "Average loss test: 0.224235\n",
      "==============================\n",
      "memory_allocated: 174.14208984375\n",
      "max_memory_allocated: 2031.177734375\n",
      "memory_reserved: 2744.0\n",
      "max_memory_reserved: 2744.0\n",
      "==============================\n",
      "Epoch 9/9\n",
      "----------\n",
      "Step 0/13 Loss 0.19246375560760498\n",
      "Step 1/13 Loss 0.19416774809360504\n",
      "Step 2/13 Loss 0.18991230428218842\n",
      "Step 3/13 Loss 0.19220520555973053\n",
      "Step 4/13 Loss 0.19403909146785736\n",
      "Step 5/13 Loss 0.20851711928844452\n",
      "Step 6/13 Loss 0.16261447966098785\n"
     ]
    }
   ],
   "source": [
    "model, train_loss_history, val_loss_history = find_hyperparameters(config)"
   ]
  },
  {
   "cell_type": "code",
   "execution_count": null,
   "metadata": {},
   "outputs": [],
   "source": [
    "from matplotlib import pyplot as plt"
   ]
  },
  {
   "cell_type": "code",
   "execution_count": null,
   "metadata": {},
   "outputs": [],
   "source": [
    "plt.plot(train_loss_history, label='train')\n",
    "plt.plot(val_loss_history, label='val')\n",
    "plt.title('model loss')\n",
    "plt.ylabel('loss')\n",
    "plt.xlabel('epoch')\n",
    "plt.legend(loc='upper left')\n",
    "plt.show()"
   ]
  },
  {
   "cell_type": "code",
   "execution_count": null,
   "metadata": {},
   "outputs": [],
   "source": [
    "resourceMonitor.print_statistics('MB')"
   ]
  },
  {
   "cell_type": "code",
   "execution_count": null,
   "metadata": {},
   "outputs": [],
   "source": [
    "==============================================="
   ]
  },
  {
   "cell_type": "code",
   "execution_count": null,
   "metadata": {},
   "outputs": [],
   "source": []
  },
  {
   "cell_type": "code",
   "execution_count": null,
   "metadata": {},
   "outputs": [],
   "source": [
    "def predict(index):\n",
    "    img, target = torch_dataset[index]\n",
    "    pred = model(img.unsqueeze(0))[0]\n",
    "    \n",
    "    original_img = Image.open(target['img_path']).convert(\"RGB\")\n",
    "    viewer.print_prediction(original_img, target, pred)"
   ]
  },
  {
   "cell_type": "code",
   "execution_count": null,
   "metadata": {},
   "outputs": [],
   "source": [
    "for i in range(160, 170):\n",
    "    predict(i)"
   ]
  },
  {
   "cell_type": "code",
   "execution_count": null,
   "metadata": {},
   "outputs": [],
   "source": [
    "==============================================="
   ]
  },
  {
   "cell_type": "code",
   "execution_count": null,
   "metadata": {},
   "outputs": [],
   "source": []
  },
  {
   "cell_type": "code",
   "execution_count": null,
   "metadata": {},
   "outputs": [],
   "source": [
    "==============================================="
   ]
  },
  {
   "cell_type": "markdown",
   "metadata": {},
   "source": [
    "# Visualization"
   ]
  },
  {
   "cell_type": "code",
   "execution_count": null,
   "metadata": {},
   "outputs": [],
   "source": [
    "import fiftyone as fo\n",
    "\n",
    "def convert_torch_predictions(preds, det_id, s_id, w, h, classes):\n",
    "    # Convert the outputs of the torch model into a FiftyOne Detections object\n",
    "    dets = []\n",
    "    #if preds[0] < 0.5:\n",
    "     #   detections = fo.Detections(detections=dets)\n",
    "      #  return detections, det_id\n",
    "    \n",
    "    # Parse prediction into FiftyOne Detection object\n",
    "    x0,y0,x1,y1 = preds[1:]\n",
    "    coco_obj = fouc.COCOObject(det_id, s_id, int(1), [x0, y0, x1-x0, y1-y0])\n",
    "    det = coco_obj.to_detection((w,h), classes)\n",
    "    dets.append(det)\n",
    "    det_id += 1\n",
    "        \n",
    "    detections = fo.Detections(detections=dets)\n",
    "        \n",
    "    return detections, det_id\n",
    "\n",
    "def add_detections(model, torch_dataset, view, field_name=\"predictions\"):\n",
    "    # Run inference on a dataset and add results to FiftyOne\n",
    "    torch.set_num_threads(1)\n",
    "    device = torch.device('cuda') if torch.cuda.is_available() else torch.device('cpu')\n",
    "    print(\"Using device %s\" % device)\n",
    "\n",
    "    model.eval()\n",
    "    model.to(device)\n",
    "    image_paths = torch_dataset.img_paths\n",
    "    classes = torch_dataset.classes\n",
    "    det_id = 0\n",
    "    \n",
    "    with fo.ProgressBar() as pb:\n",
    "        for img, targets in pb(torch_dataset):\n",
    "            sample = view[targets[\"img_path\"]]\n",
    "            s_id = sample.id\n",
    "            w = sample.metadata[\"width\"]\n",
    "            h = sample.metadata[\"height\"]\n",
    "            \n",
    "            # Inference\n",
    "            preds = model(img.unsqueeze(0).to(device))[0]\n",
    "            \n",
    "            detections, det_id = convert_torch_predictions(\n",
    "                preds, \n",
    "                det_id, \n",
    "                s_id, \n",
    "                w, \n",
    "                h, \n",
    "                classes,\n",
    "            )\n",
    "            \n",
    "            sample[\"predictions\"] = detections\n",
    "            sample.save()"
   ]
  },
  {
   "cell_type": "code",
   "execution_count": null,
   "metadata": {},
   "outputs": [],
   "source": [
    "add_detections(model, torch_dataset_test, fo_dataset)"
   ]
  },
  {
   "cell_type": "code",
   "execution_count": null,
   "metadata": {},
   "outputs": [],
   "source": [
    "session = fo.launch_app(fo_dataset)"
   ]
  },
  {
   "cell_type": "code",
   "execution_count": null,
   "metadata": {},
   "outputs": [],
   "source": []
  }
 ],
 "metadata": {
  "kernelspec": {
   "display_name": "Python 3",
   "language": "python",
   "name": "python3"
  },
  "language_info": {
   "codemirror_mode": {
    "name": "ipython",
    "version": 3
   },
   "file_extension": ".py",
   "mimetype": "text/x-python",
   "name": "python",
   "nbconvert_exporter": "python",
   "pygments_lexer": "ipython3",
   "version": "3.8.10"
  },
  "toc": {
   "base_numbering": 1,
   "nav_menu": {},
   "number_sections": true,
   "sideBar": true,
   "skip_h1_title": true,
   "title_cell": "Оглавление",
   "title_sidebar": "Оглавление",
   "toc_cell": true,
   "toc_position": {},
   "toc_section_display": true,
   "toc_window_display": false
  }
 },
 "nbformat": 4,
 "nbformat_minor": 4
}
