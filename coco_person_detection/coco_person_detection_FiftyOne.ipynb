{
 "cells": [
  {
   "cell_type": "markdown",
   "metadata": {
    "toc": true
   },
   "source": [
    "<h1>Оглавление<span class=\"tocSkip\"></span></h1>\n",
    "<div class=\"toc\"><ul class=\"toc-item\"><li><span><a href=\"#Data-loader\" data-toc-modified-id=\"Data-loader-1\"><span class=\"toc-item-num\">1&nbsp;&nbsp;</span>Data loader</a></span></li></ul></div>"
   ]
  },
  {
   "cell_type": "markdown",
   "metadata": {},
   "source": [
    "# Подключение библиотек"
   ]
  },
  {
   "cell_type": "code",
   "execution_count": 1,
   "metadata": {},
   "outputs": [
    {
     "name": "stdout",
     "output_type": "stream",
     "text": [
      "Downloading split 'validation' to '/mnt/heap/validation' if necessary\n",
      "Found annotations at '/mnt/heap/raw/instances_val2017.json'\n",
      "Images already downloaded\n",
      "Existing download of split 'validation' is sufficient\n",
      "Loading 'coco-2017' split 'validation'\n",
      " 100% |███████████████| 5000/5000 [22.3s elapsed, 0s remaining, 222.4 samples/s]      \n",
      "Dataset 'coco-2017-validation' created\n"
     ]
    }
   ],
   "source": [
    "import fiftyone as fo\n",
    "import fiftyone.zoo as foz\n",
    "\n",
    "# Download and load the validation split of COCO-2017\n",
    "fo_dataset = foz.load_zoo_dataset(\"coco-2017\", split=\"validation\",\n",
    "                               dataset_dir='/mnt/heap')"
   ]
  },
  {
   "cell_type": "markdown",
   "metadata": {},
   "source": [
    "session = fo.launch_app(dataset)"
   ]
  },
  {
   "cell_type": "code",
   "execution_count": 2,
   "metadata": {},
   "outputs": [],
   "source": [
    "fo_dataset.compute_metadata()"
   ]
  },
  {
   "cell_type": "markdown",
   "metadata": {},
   "source": [
    "## Data set"
   ]
  },
  {
   "cell_type": "code",
   "execution_count": 3,
   "metadata": {},
   "outputs": [],
   "source": [
    "import torch\n",
    "import fiftyone.utils.coco as fouc\n",
    "from PIL import Image\n",
    "\n",
    "\n",
    "class FiftyOneTorchDataset(torch.utils.data.Dataset):\n",
    "    \"\"\"A class to construct a PyTorch dataset from a FiftyOne dataset.\n",
    "    \n",
    "    Args:\n",
    "        fiftyone_dataset: a FiftyOne dataset or view that will be used for training or testing\n",
    "        transforms (None): a list of PyTorch transforms to apply to images and targets when loading\n",
    "        gt_field (\"ground_truth\"): the name of the field in fiftyone_dataset that contains the \n",
    "            desired labels to load\n",
    "        classes (None): a list of class strings that are used to define the mapping between\n",
    "            class names and indices. If None, it will use all classes present in the given fiftyone_dataset.\n",
    "    \"\"\"\n",
    "\n",
    "    def __init__(\n",
    "        self,\n",
    "        fiftyone_dataset,\n",
    "        transforms=None,\n",
    "        gt_field=\"ground_truth\",\n",
    "        classes=None,\n",
    "    ):\n",
    "        self.samples = fiftyone_dataset\n",
    "        self.transforms = transforms\n",
    "        self.gt_field = gt_field\n",
    "\n",
    "        self.img_paths = self.samples.values(\"filepath\")\n",
    "\n",
    "        self.classes = classes\n",
    "        if not self.classes:\n",
    "            # Get list of distinct labels that exist in the view\n",
    "            self.classes = self.samples.distinct(\n",
    "                \"%s.detections.label\" % gt_field\n",
    "            )\n",
    "\n",
    "        if self.classes[0] != \"background\":\n",
    "            self.classes = [\"background\"] + self.classes\n",
    "\n",
    "        self.labels_map_rev = {c: i for i, c in enumerate(self.classes)}\n",
    "\n",
    "    def __getitem__(self, idx):\n",
    "        img_path = self.img_paths[idx]\n",
    "        sample = self.samples[img_path]\n",
    "        metadata = sample.metadata\n",
    "        img = Image.open(img_path).convert(\"RGB\")\n",
    "\n",
    "        boxes = []\n",
    "        detections = sample[self.gt_field].detections\n",
    "        img_has_person = 0\n",
    "        for det in detections:\n",
    "            category_id = self.labels_map_rev[det.label]\n",
    "            coco_obj = fouc.COCOObject.from_detection(\n",
    "                det, metadata, category_id=category_id,\n",
    "            )\n",
    "            x, y, w, h = coco_obj.bbox\n",
    "            \n",
    "            if det.label == 'person':\n",
    "                boxes.append([x, y, x + w, y + h])\n",
    "                img_has_person = 1\n",
    "\n",
    "        target = {}\n",
    "        '''\n",
    "        print(boxes)\n",
    "        print('==================================')\n",
    "        box = sorted(boxes)[0]  \n",
    "        print(box)\n",
    "        '''\n",
    "        box = sorted(boxes)[0]  \n",
    "        target[\"box\"] = torch.as_tensor(box, dtype=torch.float32)                              \n",
    "        target[\"img_has_person\"] = img_has_person\n",
    "\n",
    "        if self.transforms is not None:\n",
    "            img = self.transforms(img)\n",
    "\n",
    "        return img, target\n",
    "\n",
    "    def __len__(self):\n",
    "        return len(self.img_paths)\n",
    "\n",
    "    def get_classes(self):\n",
    "        return self.classes"
   ]
  },
  {
   "cell_type": "code",
   "execution_count": 4,
   "metadata": {},
   "outputs": [
    {
     "name": "stdout",
     "output_type": "stream",
     "text": [
      "2693\n"
     ]
    }
   ],
   "source": [
    "from fiftyone import ViewField as F\n",
    "\n",
    "person_list = [\"person\"]\n",
    "person_view = fo_dataset.filter_labels(\"ground_truth\",\n",
    "        F(\"label\").is_in(person_list))\n",
    "\n",
    "print(len(person_view))"
   ]
  },
  {
   "cell_type": "markdown",
   "metadata": {},
   "source": [
    "## Data loader"
   ]
  },
  {
   "cell_type": "code",
   "execution_count": 5,
   "metadata": {},
   "outputs": [],
   "source": [
    "import torchvision.transforms as T\n",
    "\n",
    "img_size = (256, 256)\n",
    "train_transforms = T.Compose([T.Resize(img_size),\n",
    "                              T.ToTensor()])\n",
    "test_transforms = T.Compose([T.Resize(img_size),\n",
    "                             T.ToTensor()])"
   ]
  },
  {
   "cell_type": "code",
   "execution_count": 6,
   "metadata": {},
   "outputs": [],
   "source": [
    "# split the dataset in train and test set\n",
    "train_view = person_view.take(len(person_view) * 0.75, seed=51)\n",
    "test_view = person_view.exclude([s.id for s in train_view])"
   ]
  },
  {
   "cell_type": "code",
   "execution_count": 7,
   "metadata": {},
   "outputs": [],
   "source": [
    "torch_dataset = FiftyOneTorchDataset(train_view, train_transforms,\n",
    "        classes=person_list)\n",
    "torch_dataset_test = FiftyOneTorchDataset(test_view, test_transforms, \n",
    "        classes=person_list)"
   ]
  },
  {
   "cell_type": "code",
   "execution_count": 8,
   "metadata": {},
   "outputs": [
    {
     "data": {
      "text/plain": [
       "2019"
      ]
     },
     "execution_count": 8,
     "metadata": {},
     "output_type": "execute_result"
    }
   ],
   "source": [
    "len(torch_dataset)"
   ]
  },
  {
   "cell_type": "code",
   "execution_count": 9,
   "metadata": {},
   "outputs": [
    {
     "data": {
      "text/plain": [
       "674"
      ]
     },
     "execution_count": 9,
     "metadata": {},
     "output_type": "execute_result"
    }
   ],
   "source": [
    "len(torch_dataset_test)"
   ]
  },
  {
   "cell_type": "code",
   "execution_count": 19,
   "metadata": {},
   "outputs": [],
   "source": [
    "# define training and validation data loaders\n",
    "data_loader = torch.utils.data.DataLoader(\n",
    "        torch_dataset, batch_size=100)\n",
    "    \n",
    "data_loader_test = torch.utils.data.DataLoader(\n",
    "        torch_dataset_test, batch_size=1, shuffle=False)"
   ]
  },
  {
   "cell_type": "markdown",
   "metadata": {},
   "source": [
    "# Train loop"
   ]
  },
  {
   "cell_type": "code",
   "execution_count": 11,
   "metadata": {},
   "outputs": [],
   "source": [
    "from itertools import product\n",
    "from pytorch_helper import PyTorchHelper"
   ]
  },
  {
   "cell_type": "code",
   "execution_count": 12,
   "metadata": {},
   "outputs": [],
   "source": [
    "loss_function_xy = torch.nn.MSELoss()\n",
    "loss_function_bce = torch.nn.CrossEntropyLoss()"
   ]
  },
  {
   "cell_type": "code",
   "execution_count": 22,
   "metadata": {},
   "outputs": [],
   "source": [
    "from pytorch_helper import PyTorchHelper\n",
    "\n",
    "def find_hyperparameters(config):\n",
    "    learning_rates = [1e-1]\n",
    "    anneal_coeff = 0.2\n",
    "    anneal_epochs = [5]\n",
    "    regs = config['regs']\n",
    "    optimizers = config['optimizers']\n",
    "\n",
    "    batch_size = 64\n",
    "    epoch_num = 5\n",
    "\n",
    "    run_record = {} \n",
    "    \n",
    "    helper = PyTorchHelper(8,  None)\n",
    "\n",
    "    for lr, reg, anneal_epoch, optimizer in product(learning_rates, regs, anneal_epochs, optimizers):\n",
    "        lenet_model = config['model']() # base_lenet()\n",
    "\n",
    "        loss = None\n",
    "\n",
    "        optimizer = optimizer(lenet_model.parameters(), lr=lr, weight_decay=reg)\n",
    "        scheduler = optim.lr_scheduler.StepLR(optimizer, step_size=anneal_epoch, gamma=anneal_coeff)\n",
    "\n",
    "        loss_history = helper.train_model(config['model_name'],lenet_model, data_loader, data_loader_test, loss, optimizer, epoch_num, scheduler)\n",
    "\n",
    "    return loss_history"
   ]
  },
  {
   "cell_type": "code",
   "execution_count": 14,
   "metadata": {},
   "outputs": [],
   "source": [
    "import torch\n",
    "import torch.nn as nn\n",
    "import torch.optim as optim\n",
    "\n",
    "from torchvision.models import resnet18"
   ]
  },
  {
   "cell_type": "code",
   "execution_count": 15,
   "metadata": {},
   "outputs": [],
   "source": [
    "def net():\n",
    "    model = resnet18(pretrained=True)\n",
    "    model.fc = nn.Linear(in_features=512, out_features=5)\n",
    "    return model"
   ]
  },
  {
   "cell_type": "code",
   "execution_count": 16,
   "metadata": {},
   "outputs": [],
   "source": [
    "config = {\n",
    "    'regs': [0.0001],\n",
    "    'optimizers': [optim.SGD],\n",
    "    'model': net,\n",
    "    'model_name': 'best_lenet'    \n",
    "}"
   ]
  },
  {
   "cell_type": "code",
   "execution_count": null,
   "metadata": {},
   "outputs": [
    {
     "name": "stdout",
     "output_type": "stream",
     "text": [
      "Epoch 0/4\n",
      "----------\n",
      "Step 0/21 Loss 233.6032257080078\n",
      "Step 1/21 Loss 217.22764587402344\n",
      "Step 2/21 Loss 204.3895721435547\n",
      "Step 3/21 Loss 199.2304229736328\n",
      "Step 4/21 Loss 190.92538452148438\n",
      "Step 5/21 Loss 182.36219787597656\n",
      "Step 6/21 Loss 185.94503784179688\n",
      "Step 7/21 Loss 182.31068420410156\n",
      "Step 8/21 Loss 165.11727905273438\n",
      "Step 9/21 Loss 167.14474487304688\n",
      "Step 10/21 Loss 174.6124267578125\n",
      "Step 11/21 Loss 153.5272216796875\n",
      "Step 12/21 Loss 160.06289672851562\n",
      "Step 13/21 Loss 144.33636474609375\n",
      "Step 14/21 Loss 140.5021514892578\n",
      "Step 15/21 Loss 131.0885772705078\n",
      "Step 16/21 Loss 129.2145538330078\n",
      "Step 17/21 Loss 133.4313201904297\n",
      "Step 18/21 Loss 127.82332611083984\n",
      "Step 19/21 Loss 123.5042953491211\n",
      "Step 20/21 Loss 116.2641372680664\n",
      "==========\n",
      "Average loss: 173.131210\n",
      "==========\n",
      "Epoch 1/4\n",
      "----------\n",
      "Step 0/21 Loss 124.89096069335938\n",
      "Step 1/21 Loss 117.78799438476562\n",
      "Step 2/21 Loss 119.39697265625\n",
      "Step 3/21 Loss 114.70049285888672\n",
      "Step 4/21 Loss 115.88742065429688\n",
      "Step 5/21 Loss 111.16327667236328\n",
      "Step 6/21 Loss 123.20382690429688\n",
      "Step 7/21 Loss 118.90839385986328\n",
      "Step 8/21 Loss 112.64716339111328\n",
      "Step 9/21 Loss 112.75995635986328\n",
      "Step 10/21 Loss 114.82632446289062\n",
      "Step 11/21 Loss 106.53763580322266\n",
      "Step 12/21 Loss 114.48970794677734\n",
      "Step 13/21 Loss 106.00135803222656\n",
      "Step 14/21 Loss 111.15147399902344\n",
      "Step 15/21 Loss 103.7801513671875\n",
      "Step 16/21 Loss 105.39866638183594\n",
      "Step 17/21 Loss 109.91848754882812\n",
      "Step 18/21 Loss 107.7475357055664\n",
      "Step 19/21 Loss 110.62567901611328\n",
      "Step 20/21 Loss 100.2656021118164\n",
      "==========\n",
      "Average loss: 118.104454\n",
      "==========\n",
      "Epoch 2/4\n",
      "----------\n",
      "Step 0/21 Loss 115.64666748046875\n",
      "Step 1/21 Loss 102.51640319824219\n",
      "Step 2/21 Loss 108.94243621826172\n",
      "Step 3/21 Loss 108.87255859375\n",
      "Step 4/21 Loss 106.32111358642578\n",
      "Step 5/21 Loss 111.76591491699219\n",
      "Step 6/21 Loss 117.75460815429688\n",
      "Step 7/21 Loss 113.04792785644531\n",
      "Step 8/21 Loss 109.45731353759766\n",
      "Step 9/21 Loss 107.53681182861328\n",
      "Step 10/21 Loss 109.40675354003906\n",
      "Step 11/21 Loss 103.92237091064453\n",
      "Step 12/21 Loss 113.35599517822266\n",
      "Step 13/21 Loss 104.04527282714844\n",
      "Step 14/21 Loss 108.48397827148438\n",
      "Step 15/21 Loss 100.57625579833984\n",
      "Step 16/21 Loss 103.66429138183594\n",
      "Step 17/21 Loss 107.38945007324219\n",
      "Step 18/21 Loss 106.04683685302734\n",
      "Step 19/21 Loss 109.51292419433594\n",
      "Step 20/21 Loss 93.63165283203125\n",
      "==========\n",
      "Average loss: 113.094872\n",
      "==========\n",
      "Epoch 3/4\n",
      "----------\n",
      "Step 0/21 Loss 108.05159759521484\n",
      "Step 1/21 Loss 103.85913848876953\n",
      "Step 2/21 Loss 105.89585876464844\n",
      "Step 3/21 Loss 107.95213317871094\n",
      "Step 4/21 Loss 105.02666473388672\n",
      "Step 5/21 Loss 103.87915802001953\n",
      "Step 6/21 Loss 118.09859466552734\n",
      "Step 7/21 Loss 111.73544311523438\n",
      "Step 8/21 Loss 106.0589599609375\n",
      "Step 9/21 Loss 103.21327209472656\n",
      "Step 10/21 Loss 106.33625030517578\n",
      "Step 11/21 Loss 102.08759307861328\n",
      "Step 12/21 Loss 112.01634216308594\n",
      "Step 13/21 Loss 103.51105499267578\n",
      "Step 14/21 Loss 108.37025451660156\n",
      "Step 15/21 Loss 99.71879577636719\n",
      "Step 16/21 Loss 101.34383392333984\n",
      "Step 17/21 Loss 106.47738647460938\n",
      "Step 18/21 Loss 102.95769500732422\n",
      "Step 19/21 Loss 106.96257781982422\n",
      "Step 20/21 Loss 86.66222381591797\n",
      "==========\n",
      "Average loss: 110.510742\n",
      "==========\n",
      "Epoch 4/4\n",
      "----------\n",
      "Step 0/21 Loss 108.36542510986328\n",
      "Step 1/21 Loss 101.9493179321289\n",
      "Step 2/21 Loss 105.55867004394531\n",
      "Step 3/21 Loss 105.36017608642578\n",
      "Step 4/21 Loss 103.73263549804688\n",
      "Step 5/21 Loss 104.37815856933594\n",
      "Step 6/21 Loss 113.51162719726562\n",
      "Step 7/21 Loss 109.01371002197266\n",
      "Step 8/21 Loss 104.29037475585938\n",
      "Step 9/21 Loss 102.059326171875\n",
      "Step 10/21 Loss 106.5205078125\n"
     ]
    }
   ],
   "source": [
    "loss_history = find_hyperparameters(config)"
   ]
  },
  {
   "cell_type": "code",
   "execution_count": 18,
   "metadata": {},
   "outputs": [
    {
     "ename": "SyntaxError",
     "evalue": "invalid syntax (<ipython-input-18-10225f8106b5>, line 1)",
     "output_type": "error",
     "traceback": [
      "\u001b[0;36m  File \u001b[0;32m\"<ipython-input-18-10225f8106b5>\"\u001b[0;36m, line \u001b[0;32m1\u001b[0m\n\u001b[0;31m    ten1 =\u001b[0m\n\u001b[0m           ^\u001b[0m\n\u001b[0;31mSyntaxError\u001b[0m\u001b[0;31m:\u001b[0m invalid syntax\n"
     ]
    }
   ],
   "source": [
    "ten1 = "
   ]
  },
  {
   "cell_type": "code",
   "execution_count": null,
   "metadata": {},
   "outputs": [],
   "source": []
  }
 ],
 "metadata": {
  "kernelspec": {
   "display_name": "Python 3",
   "language": "python",
   "name": "python3"
  },
  "language_info": {
   "codemirror_mode": {
    "name": "ipython",
    "version": 3
   },
   "file_extension": ".py",
   "mimetype": "text/x-python",
   "name": "python",
   "nbconvert_exporter": "python",
   "pygments_lexer": "ipython3",
   "version": "3.8.10"
  },
  "toc": {
   "base_numbering": 1,
   "nav_menu": {},
   "number_sections": true,
   "sideBar": true,
   "skip_h1_title": true,
   "title_cell": "Оглавление",
   "title_sidebar": "Оглавление",
   "toc_cell": true,
   "toc_position": {},
   "toc_section_display": true,
   "toc_window_display": false
  }
 },
 "nbformat": 4,
 "nbformat_minor": 4
}
