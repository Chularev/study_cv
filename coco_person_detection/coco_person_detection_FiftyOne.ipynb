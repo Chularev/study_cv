{
 "cells": [
  {
   "cell_type": "markdown",
   "metadata": {
    "toc": true
   },
   "source": [
    "<h1>Оглавление<span class=\"tocSkip\"></span></h1>\n",
    "<div class=\"toc\"><ul class=\"toc-item\"><li><span><a href=\"#Data-loader\" data-toc-modified-id=\"Data-loader-1\"><span class=\"toc-item-num\">1&nbsp;&nbsp;</span>Data loader</a></span></li></ul></div>"
   ]
  },
  {
   "cell_type": "markdown",
   "metadata": {},
   "source": [
    "# Подключение библиотек"
   ]
  },
  {
   "cell_type": "code",
   "execution_count": 1,
   "metadata": {},
   "outputs": [
    {
     "name": "stdout",
     "output_type": "stream",
     "text": [
      "Downloading split 'validation' to '/mnt/heap/validation' if necessary\n",
      "Found annotations at '/mnt/heap/raw/instances_val2017.json'\n",
      "Images already downloaded\n",
      "Existing download of split 'validation' is sufficient\n",
      "Loading 'coco-2017' split 'validation'\n",
      " 100% |███████████████| 5000/5000 [22.4s elapsed, 0s remaining, 242.0 samples/s]      \n",
      "Dataset 'coco-2017-validation' created\n"
     ]
    }
   ],
   "source": [
    "import fiftyone as fo\n",
    "import fiftyone.zoo as foz\n",
    "\n",
    "# Download and load the validation split of COCO-2017\n",
    "fo_dataset = foz.load_zoo_dataset(\"coco-2017\", split=\"validation\",\n",
    "                               dataset_dir='/mnt/heap')"
   ]
  },
  {
   "cell_type": "markdown",
   "metadata": {},
   "source": [
    "session = fo.launch_app(dataset)"
   ]
  },
  {
   "cell_type": "code",
   "execution_count": 2,
   "metadata": {},
   "outputs": [],
   "source": [
    "fo_dataset.compute_metadata()"
   ]
  },
  {
   "cell_type": "markdown",
   "metadata": {},
   "source": [
    "## Data set"
   ]
  },
  {
   "cell_type": "code",
   "execution_count": 3,
   "metadata": {},
   "outputs": [],
   "source": [
    "import torch\n",
    "import fiftyone.utils.coco as fouc\n",
    "from PIL import Image\n",
    "\n",
    "\n",
    "class FiftyOneTorchDataset(torch.utils.data.Dataset):\n",
    "    \"\"\"A class to construct a PyTorch dataset from a FiftyOne dataset.\n",
    "    \n",
    "    Args:\n",
    "        fiftyone_dataset: a FiftyOne dataset or view that will be used for training or testing\n",
    "        transforms (None): a list of PyTorch transforms to apply to images and targets when loading\n",
    "        gt_field (\"ground_truth\"): the name of the field in fiftyone_dataset that contains the \n",
    "            desired labels to load\n",
    "        classes (None): a list of class strings that are used to define the mapping between\n",
    "            class names and indices. If None, it will use all classes present in the given fiftyone_dataset.\n",
    "    \"\"\"\n",
    "\n",
    "    def __init__(\n",
    "        self,\n",
    "        fiftyone_dataset,\n",
    "        transforms=None,\n",
    "        gt_field=\"ground_truth\",\n",
    "        classes=None,\n",
    "    ):\n",
    "        self.samples = fiftyone_dataset\n",
    "        self.transforms = transforms\n",
    "        self.gt_field = gt_field\n",
    "\n",
    "        self.img_paths = self.samples.values(\"filepath\")\n",
    "\n",
    "        self.classes = classes\n",
    "        if not self.classes:\n",
    "            # Get list of distinct labels that exist in the view\n",
    "            self.classes = self.samples.distinct(\n",
    "                \"%s.detections.label\" % gt_field\n",
    "            )\n",
    "\n",
    "        if self.classes[0] != \"background\":\n",
    "            self.classes = [\"background\"] + self.classes\n",
    "\n",
    "        self.labels_map_rev = {c: i for i, c in enumerate(self.classes)}\n",
    "\n",
    "    def __getitem__(self, idx):\n",
    "        img_path = self.img_paths[idx]\n",
    "        sample = self.samples[img_path]\n",
    "        metadata = sample.metadata\n",
    "        img = Image.open(img_path).convert(\"RGB\")\n",
    "\n",
    "        boxes = []\n",
    "        detections = sample[self.gt_field].detections\n",
    "        img_has_person = 0\n",
    "        for det in detections:\n",
    "            category_id = self.labels_map_rev[det.label]\n",
    "            coco_obj = fouc.COCOObject.from_detection(\n",
    "                det, metadata, category_id=category_id,\n",
    "            )\n",
    "            x, y, w, h = coco_obj.bbox\n",
    "            \n",
    "            if det.label == 'person':\n",
    "                boxes.append([x, y, x + w, y + h])\n",
    "                img_has_person = 1\n",
    "\n",
    "        target = {}\n",
    "        '''\n",
    "        print(boxes)\n",
    "        print('==================================')\n",
    "        box = sorted(boxes)[0]  \n",
    "        print(box)\n",
    "        '''\n",
    "        box = sorted(boxes)[0]  \n",
    "        target[\"box\"] = torch.as_tensor(box, dtype=torch.float32)                              \n",
    "        target[\"img_has_person\"] = img_has_person\n",
    "        target[\"img_path\"] = img_path\n",
    "\n",
    "        if self.transforms is not None:\n",
    "            img = self.transforms(img)\n",
    "\n",
    "        return img, target\n",
    "\n",
    "    def __len__(self):\n",
    "        return len(self.img_paths)\n",
    "\n",
    "    def get_classes(self):\n",
    "        return self.classes"
   ]
  },
  {
   "cell_type": "code",
   "execution_count": 4,
   "metadata": {},
   "outputs": [
    {
     "name": "stdout",
     "output_type": "stream",
     "text": [
      "2693\n"
     ]
    }
   ],
   "source": [
    "from fiftyone import ViewField as F\n",
    "\n",
    "person_list = [\"person\"]\n",
    "person_view = fo_dataset.filter_labels(\"ground_truth\",\n",
    "        F(\"label\").is_in(person_list))\n",
    "\n",
    "print(len(person_view))"
   ]
  },
  {
   "cell_type": "markdown",
   "metadata": {},
   "source": [
    "## Data loader"
   ]
  },
  {
   "cell_type": "code",
   "execution_count": 5,
   "metadata": {},
   "outputs": [],
   "source": [
    "import torchvision.transforms as T\n",
    "\n",
    "img_size = (256, 256)\n",
    "train_transforms = T.Compose([T.Resize(img_size),\n",
    "                              T.ToTensor()])\n",
    "test_transforms = T.Compose([T.Resize(img_size),\n",
    "                             T.ToTensor()])"
   ]
  },
  {
   "cell_type": "code",
   "execution_count": 6,
   "metadata": {},
   "outputs": [],
   "source": [
    "# split the dataset in train and test set\n",
    "train_view = person_view.take(len(person_view) * 0.75, seed=51)\n",
    "test_view = person_view.exclude([s.id for s in train_view])"
   ]
  },
  {
   "cell_type": "code",
   "execution_count": 7,
   "metadata": {},
   "outputs": [],
   "source": [
    "torch_dataset = FiftyOneTorchDataset(train_view, train_transforms,\n",
    "        classes=person_list)\n",
    "torch_dataset_test = FiftyOneTorchDataset(test_view, test_transforms, \n",
    "        classes=person_list)"
   ]
  },
  {
   "cell_type": "code",
   "execution_count": 8,
   "metadata": {},
   "outputs": [
    {
     "data": {
      "text/plain": [
       "2019"
      ]
     },
     "execution_count": 8,
     "metadata": {},
     "output_type": "execute_result"
    }
   ],
   "source": [
    "len(torch_dataset)"
   ]
  },
  {
   "cell_type": "code",
   "execution_count": 9,
   "metadata": {},
   "outputs": [
    {
     "data": {
      "text/plain": [
       "674"
      ]
     },
     "execution_count": 9,
     "metadata": {},
     "output_type": "execute_result"
    }
   ],
   "source": [
    "len(torch_dataset_test)"
   ]
  },
  {
   "cell_type": "code",
   "execution_count": 10,
   "metadata": {},
   "outputs": [],
   "source": [
    "# define training and validation data loaders\n",
    "data_loader = torch.utils.data.DataLoader(\n",
    "        torch_dataset, batch_size=100)\n",
    "    \n",
    "data_loader_test = torch.utils.data.DataLoader(\n",
    "        torch_dataset_test, batch_size=1, shuffle=False)"
   ]
  },
  {
   "cell_type": "markdown",
   "metadata": {},
   "source": [
    "# Train loop"
   ]
  },
  {
   "cell_type": "code",
   "execution_count": 11,
   "metadata": {},
   "outputs": [],
   "source": [
    "from itertools import product\n",
    "from pytorch_helper import PyTorchHelper"
   ]
  },
  {
   "cell_type": "code",
   "execution_count": 12,
   "metadata": {},
   "outputs": [],
   "source": [
    "loss_function_xy = torch.nn.MSELoss()\n",
    "loss_function_bce = torch.nn.CrossEntropyLoss()"
   ]
  },
  {
   "cell_type": "code",
   "execution_count": 45,
   "metadata": {},
   "outputs": [],
   "source": [
    "from pytorch_helper import PyTorchHelper\n",
    "\n",
    "def find_hyperparameters(config):\n",
    "    learning_rates = [1e-1]\n",
    "    anneal_coeff = 0.2\n",
    "    anneal_epochs = [5]\n",
    "    regs = config['regs']\n",
    "    optimizers = config['optimizers']\n",
    "\n",
    "    batch_size = 64\n",
    "    epoch_num = 6\n",
    "\n",
    "    run_record = {} \n",
    "    \n",
    "    helper = PyTorchHelper(8,  None)\n",
    "\n",
    "    lenet_model = None\n",
    "    val_loss = 8\n",
    "    loss_history = None\n",
    "    for lr, reg, anneal_epoch, optimizer in product(learning_rates, regs, anneal_epochs, optimizers):\n",
    "        lenet_model = config['model']() # base_lenet()\n",
    "\n",
    "        loss = None\n",
    "\n",
    "        optimizer = optimizer(lenet_model.parameters(), lr=lr, weight_decay=reg)\n",
    "        scheduler = optim.lr_scheduler.StepLR(optimizer, step_size=anneal_epoch, gamma=anneal_coeff)\n",
    "\n",
    "        lenet_model, loss_history, val_loss = helper.train_model(config['model_name'],lenet_model, data_loader, data_loader_test, loss, optimizer, epoch_num, scheduler)\n",
    "\n",
    "    return lenet_model, loss_history, val_loss"
   ]
  },
  {
   "cell_type": "code",
   "execution_count": 46,
   "metadata": {},
   "outputs": [],
   "source": [
    "import torch\n",
    "import torch.nn as nn\n",
    "import torch.optim as optim\n",
    "\n",
    "from torchvision.models import resnet18"
   ]
  },
  {
   "cell_type": "code",
   "execution_count": 47,
   "metadata": {},
   "outputs": [],
   "source": [
    "def net():\n",
    "    model = resnet18(pretrained=True)\n",
    "    model.fc = nn.Linear(in_features=512, out_features=5)\n",
    "    return model"
   ]
  },
  {
   "cell_type": "code",
   "execution_count": 48,
   "metadata": {},
   "outputs": [],
   "source": [
    "config = {\n",
    "    'regs': [0.0001],\n",
    "    'optimizers': [optim.SGD],\n",
    "    'model': net,\n",
    "    'model_name': 'best_lenet'    \n",
    "}"
   ]
  },
  {
   "cell_type": "code",
   "execution_count": 49,
   "metadata": {},
   "outputs": [],
   "source": [
    "from resource_monitor import ResourceMonitor\n",
    "resourceMonitor = ResourceMonitor()"
   ]
  },
  {
   "cell_type": "code",
   "execution_count": 50,
   "metadata": {},
   "outputs": [
    {
     "name": "stdout",
     "output_type": "stream",
     "text": [
      "memory_allocated: 0.0\n",
      "max_memory_allocated: 3748.98876953125\n",
      "memory_reserved: 3978.0\n",
      "max_memory_reserved: 3978.0\n"
     ]
    }
   ],
   "source": [
    "resourceMonitor.print_statistics('MB')"
   ]
  },
  {
   "cell_type": "code",
   "execution_count": 51,
   "metadata": {},
   "outputs": [
    {
     "name": "stdout",
     "output_type": "stream",
     "text": [
      "==============================\n",
      "Start train:\n",
      "memory_allocated: 42.69677734375\n",
      "max_memory_allocated: 3748.98876953125\n",
      "memory_reserved: 64.0\n",
      "max_memory_reserved: 3978.0\n",
      "==============================\n",
      "Epoch 0/5\n",
      "----------\n",
      "Step 0/21 Loss 233.78273010253906\n",
      "Step 1/21 Loss 217.16268920898438\n",
      "Step 2/21 Loss 204.31390380859375\n",
      "Step 3/21 Loss 199.2246856689453\n",
      "Step 4/21 Loss 190.83331298828125\n",
      "Step 5/21 Loss 182.46646118164062\n",
      "Step 6/21 Loss 186.3039093017578\n",
      "Step 7/21 Loss 182.19015502929688\n",
      "Step 8/21 Loss 169.8984832763672\n",
      "Step 9/21 Loss 157.3761444091797\n",
      "Step 10/21 Loss 167.3141326904297\n",
      "Step 11/21 Loss 149.3233642578125\n",
      "Step 12/21 Loss 158.543701171875\n",
      "Step 13/21 Loss 145.01950073242188\n",
      "Step 14/21 Loss 144.6087646484375\n",
      "Step 15/21 Loss 130.65313720703125\n",
      "Step 16/21 Loss 128.99246215820312\n",
      "Step 17/21 Loss 133.20101928710938\n",
      "Step 18/21 Loss 130.6306610107422\n",
      "Step 19/21 Loss 127.90497589111328\n",
      "Step 20/21 Loss 116.83952331542969\n",
      "==============================\n",
      "Average loss train: 172.829178\n",
      "Average loss test: 126.650017\n",
      "==============================\n",
      "memory_allocated: 86.72265625\n",
      "max_memory_allocated: 3748.98876953125\n",
      "memory_reserved: 3900.0\n",
      "max_memory_reserved: 3978.0\n",
      "==============================\n",
      "Epoch 1/5\n",
      "----------\n",
      "Step 0/21 Loss 128.51661682128906\n",
      "Step 1/21 Loss 114.73829650878906\n",
      "Step 2/21 Loss 113.76596069335938\n",
      "Step 3/21 Loss 116.16361236572266\n",
      "Step 4/21 Loss 115.56117248535156\n",
      "Step 5/21 Loss 111.69791412353516\n",
      "Step 6/21 Loss 120.12982177734375\n",
      "Step 7/21 Loss 116.19786834716797\n",
      "Step 8/21 Loss 115.68897247314453\n",
      "Step 9/21 Loss 107.84902954101562\n",
      "Step 10/21 Loss 113.09700012207031\n",
      "Step 11/21 Loss 108.86196899414062\n",
      "Step 12/21 Loss 115.7060546875\n",
      "Step 13/21 Loss 106.86638641357422\n",
      "Step 14/21 Loss 116.76207733154297\n",
      "Step 15/21 Loss 106.5872802734375\n",
      "Step 16/21 Loss 106.20330047607422\n",
      "Step 17/21 Loss 112.00062561035156\n",
      "Step 18/21 Loss 108.17181396484375\n",
      "Step 19/21 Loss 111.99261474609375\n",
      "Step 20/21 Loss 105.55271911621094\n",
      "==============================\n",
      "Average loss train: 118.605553\n",
      "Average loss test: 110.531082\n",
      "==============================\n",
      "memory_allocated: 86.72265625\n",
      "max_memory_allocated: 3748.98876953125\n",
      "memory_reserved: 3900.0\n",
      "max_memory_reserved: 3978.0\n",
      "==============================\n",
      "Epoch 2/5\n",
      "----------\n",
      "Step 0/21 Loss 110.20550537109375\n",
      "Step 1/21 Loss 103.36355590820312\n",
      "Step 2/21 Loss 109.4739990234375\n",
      "Step 3/21 Loss 112.17460632324219\n",
      "Step 4/21 Loss 113.11380767822266\n",
      "Step 5/21 Loss 108.93370819091797\n",
      "Step 6/21 Loss 118.69203186035156\n",
      "Step 7/21 Loss 114.67698669433594\n",
      "Step 8/21 Loss 114.10404205322266\n",
      "Step 9/21 Loss 109.51849365234375\n",
      "Step 10/21 Loss 109.6012191772461\n",
      "Step 11/21 Loss 107.58966827392578\n",
      "Step 12/21 Loss 115.02455139160156\n",
      "Step 13/21 Loss 107.39220428466797\n",
      "Step 14/21 Loss 111.24181365966797\n",
      "Step 15/21 Loss 104.16677856445312\n",
      "Step 16/21 Loss 106.98628997802734\n",
      "Step 17/21 Loss 111.65249633789062\n",
      "Step 18/21 Loss 107.70734405517578\n",
      "Step 19/21 Loss 110.84696960449219\n",
      "Step 20/21 Loss 103.2779541015625\n",
      "==============================\n",
      "Average loss train: 115.487206\n",
      "Average loss test: 115.236809\n",
      "==============================\n",
      "memory_allocated: 86.72265625\n",
      "max_memory_allocated: 3748.98876953125\n",
      "memory_reserved: 3900.0\n",
      "max_memory_reserved: 3978.0\n",
      "==============================\n",
      "Epoch 3/5\n",
      "----------\n",
      "Step 0/21 Loss 112.13533782958984\n",
      "Step 1/21 Loss 103.44163513183594\n",
      "Step 2/21 Loss 109.05322265625\n",
      "Step 3/21 Loss 112.26902770996094\n",
      "Step 4/21 Loss 113.3051528930664\n",
      "Step 5/21 Loss 109.23985290527344\n",
      "Step 6/21 Loss 118.85956573486328\n",
      "Step 7/21 Loss 114.92092895507812\n",
      "Step 8/21 Loss 112.7797622680664\n",
      "Step 9/21 Loss 108.17225646972656\n",
      "Step 10/21 Loss 108.17414093017578\n",
      "Step 11/21 Loss 107.74798583984375\n",
      "Step 12/21 Loss 113.83140563964844\n",
      "Step 13/21 Loss 105.82492065429688\n",
      "Step 14/21 Loss 110.92355346679688\n",
      "Step 15/21 Loss 104.7454833984375\n",
      "Step 16/21 Loss 105.82456970214844\n",
      "Step 17/21 Loss 110.57945251464844\n",
      "Step 18/21 Loss 107.18926239013672\n",
      "Step 19/21 Loss 110.28778076171875\n",
      "Step 20/21 Loss 99.1720199584961\n",
      "==============================\n",
      "Average loss train: 114.923882\n",
      "Average loss test: 127.439102\n",
      "==============================\n",
      "memory_allocated: 86.72265625\n",
      "max_memory_allocated: 3748.98876953125\n",
      "memory_reserved: 3900.0\n",
      "max_memory_reserved: 3978.0\n",
      "==============================\n",
      "Epoch 4/5\n",
      "----------\n",
      "Step 0/21 Loss 110.59237670898438\n",
      "Step 1/21 Loss 102.99876403808594\n",
      "Step 2/21 Loss 108.20834350585938\n",
      "Step 3/21 Loss 112.0795669555664\n",
      "Step 4/21 Loss 112.13082122802734\n",
      "Step 5/21 Loss 108.72618865966797\n",
      "Step 6/21 Loss 118.8369140625\n",
      "Step 7/21 Loss 113.49411010742188\n",
      "Step 8/21 Loss 111.64177703857422\n",
      "Step 9/21 Loss 107.01398468017578\n",
      "Step 10/21 Loss 107.58665466308594\n",
      "Step 11/21 Loss 105.61061096191406\n",
      "Step 12/21 Loss 113.43195343017578\n",
      "Step 13/21 Loss 104.85245513916016\n",
      "Step 14/21 Loss 108.56858825683594\n",
      "Step 15/21 Loss 104.0616455078125\n",
      "Step 16/21 Loss 106.18833923339844\n",
      "Step 17/21 Loss 108.87744140625\n",
      "Step 18/21 Loss 106.23644256591797\n",
      "Step 19/21 Loss 108.44235229492188\n",
      "Step 20/21 Loss 98.16671752929688\n",
      "==============================\n",
      "Average loss train: 113.887306\n",
      "Average loss test: 112.865227\n",
      "==============================\n",
      "memory_allocated: 86.72265625\n",
      "max_memory_allocated: 3748.98876953125\n",
      "memory_reserved: 3900.0\n",
      "max_memory_reserved: 3978.0\n",
      "==============================\n",
      "Epoch 5/5\n",
      "----------\n",
      "Step 0/21 Loss 112.80815887451172\n",
      "Step 1/21 Loss 107.51478576660156\n",
      "Step 2/21 Loss 110.83552551269531\n",
      "Step 3/21 Loss 110.58036804199219\n",
      "Step 4/21 Loss 111.66511535644531\n",
      "Step 5/21 Loss 108.13349151611328\n",
      "Step 6/21 Loss 117.10787200927734\n",
      "Step 7/21 Loss 112.24330139160156\n",
      "Step 8/21 Loss 109.9449691772461\n",
      "Step 9/21 Loss 106.42875671386719\n",
      "Step 10/21 Loss 106.24533081054688\n",
      "Step 11/21 Loss 102.71678161621094\n",
      "Step 12/21 Loss 113.01492309570312\n",
      "Step 13/21 Loss 103.57723236083984\n",
      "Step 14/21 Loss 107.4775161743164\n",
      "Step 15/21 Loss 102.27729034423828\n",
      "Step 16/21 Loss 103.81299591064453\n",
      "Step 17/21 Loss 109.42327880859375\n",
      "Step 18/21 Loss 104.32624816894531\n",
      "Step 19/21 Loss 108.53810119628906\n",
      "Step 20/21 Loss 90.57102966308594\n",
      "==============================\n",
      "Average loss train: 112.962151\n",
      "Average loss test: 109.275429\n",
      "==============================\n",
      "memory_allocated: 86.72265625\n",
      "max_memory_allocated: 3748.98876953125\n",
      "memory_reserved: 3900.0\n",
      "max_memory_reserved: 3978.0\n",
      "==============================\n"
     ]
    }
   ],
   "source": [
    "model, train_loss_history, val_loss_history = find_hyperparameters(config)"
   ]
  },
  {
   "cell_type": "code",
   "execution_count": 52,
   "metadata": {},
   "outputs": [],
   "source": [
    "from matplotlib import pyplot as plt"
   ]
  },
  {
   "cell_type": "code",
   "execution_count": 53,
   "metadata": {},
   "outputs": [
    {
     "data": {
      "image/png": "[encoded data removed]",
      "text/plain": [
       "<Figure size 432x288 with 1 Axes>"
      ]
     },
     "metadata": {
      "needs_background": "light"
     },
     "output_type": "display_data"
    }
   ],
   "source": [
    "plt.plot(train_loss_history, label='train')\n",
    "plt.plot(val_loss_history, label='val')\n",
    "plt.title('model loss')\n",
    "plt.ylabel('loss')\n",
    "plt.xlabel('epoch')\n",
    "plt.legend(loc='upper left')\n",
    "plt.show()"
   ]
  },
  {
   "cell_type": "code",
   "execution_count": 54,
   "metadata": {},
   "outputs": [
    {
     "name": "stdout",
     "output_type": "stream",
     "text": [
      "memory_allocated: 0.0\n",
      "max_memory_allocated: 3748.98876953125\n",
      "memory_reserved: 3900.0\n",
      "max_memory_reserved: 3978.0\n"
     ]
    }
   ],
   "source": [
    "resourceMonitor.print_statistics('MB')"
   ]
  },
  {
   "cell_type": "markdown",
   "metadata": {},
   "source": [
    "# Visualization"
   ]
  },
  {
   "cell_type": "code",
   "execution_count": 26,
   "metadata": {},
   "outputs": [],
   "source": [
    "import fiftyone as fo\n",
    "\n",
    "def convert_torch_predictions(preds, det_id, s_id, w, h, classes):\n",
    "    # Convert the outputs of the torch model into a FiftyOne Detections object\n",
    "    dets = []\n",
    "    #if preds[0] < 0.5:\n",
    "     #   detections = fo.Detections(detections=dets)\n",
    "      #  return detections, det_id\n",
    "    \n",
    "    # Parse prediction into FiftyOne Detection object\n",
    "    x0,y0,x1,y1 = preds[1:]\n",
    "    coco_obj = fouc.COCOObject(det_id, s_id, int(1), [x0, y0, x1-x0, y1-y0])\n",
    "    det = coco_obj.to_detection((w,h), classes)\n",
    "    dets.append(det)\n",
    "    det_id += 1\n",
    "        \n",
    "    detections = fo.Detections(detections=dets)\n",
    "        \n",
    "    return detections, det_id\n",
    "\n",
    "def add_detections(model, torch_dataset, view, field_name=\"predictions\"):\n",
    "    # Run inference on a dataset and add results to FiftyOne\n",
    "    torch.set_num_threads(1)\n",
    "    device = torch.device('cuda') if torch.cuda.is_available() else torch.device('cpu')\n",
    "    print(\"Using device %s\" % device)\n",
    "\n",
    "    model.eval()\n",
    "    model.to(device)\n",
    "    image_paths = torch_dataset.img_paths\n",
    "    classes = torch_dataset.classes\n",
    "    det_id = 0\n",
    "    \n",
    "    with fo.ProgressBar() as pb:\n",
    "        for img, targets in pb(torch_dataset):\n",
    "            sample = view[targets[\"img_path\"]]\n",
    "            s_id = sample.id\n",
    "            w = sample.metadata[\"width\"]\n",
    "            h = sample.metadata[\"height\"]\n",
    "            \n",
    "            # Inference\n",
    "            preds = model(img.unsqueeze(0).to(device))[0]\n",
    "            \n",
    "            detections, det_id = convert_torch_predictions(\n",
    "                preds, \n",
    "                det_id, \n",
    "                s_id, \n",
    "                w, \n",
    "                h, \n",
    "                classes,\n",
    "            )\n",
    "            \n",
    "            sample[\"predictions\"] = detections\n",
    "            sample.save()"
   ]
  },
  {
   "cell_type": "code",
   "execution_count": 27,
   "metadata": {},
   "outputs": [
    {
     "name": "stdout",
     "output_type": "stream",
     "text": [
      "Using device cuda\n",
      " 100% |█████████████████| 674/674 [18.8s elapsed, 0s remaining, 36.3 samples/s]      \n"
     ]
    }
   ],
   "source": [
    "add_detections(model, torch_dataset_test, fo_dataset)"
   ]
  },
  {
   "cell_type": "code",
   "execution_count": 28,
   "metadata": {},
   "outputs": [
    {
     "data": {
      "text/html": [
       "\n",
       "        <iframe\n",
       "            width=\"100%\"\n",
       "            height=\"800\"\n",
       "            src=\"http://localhost:5151/?notebook=true&handleId=f2f4c8f6-e0a0-4e48-8fe9-23791370dc71\"\n",
       "            frameborder=\"0\"\n",
       "            allowfullscreen\n",
       "        ></iframe>\n",
       "        "
      ],
      "text/plain": [
       "<IPython.lib.display.IFrame at 0x7f887360bd00>"
      ]
     },
     "metadata": {},
     "output_type": "display_data"
    }
   ],
   "source": [
    "session = fo.launch_app(fo_dataset)"
   ]
  },
  {
   "cell_type": "code",
   "execution_count": null,
   "metadata": {},
   "outputs": [],
   "source": []
  }
 ],
 "metadata": {
  "kernelspec": {
   "display_name": "Python 3",
   "language": "python",
   "name": "python3"
  },
  "language_info": {
   "codemirror_mode": {
    "name": "ipython",
    "version": 3
   },
   "file_extension": ".py",
   "mimetype": "text/x-python",
   "name": "python",
   "nbconvert_exporter": "python",
   "pygments_lexer": "ipython3",
   "version": "3.8.10"
  },
  "toc": {
   "base_numbering": 1,
   "nav_menu": {},
   "number_sections": true,
   "sideBar": true,
   "skip_h1_title": true,
   "title_cell": "Оглавление",
   "title_sidebar": "Оглавление",
   "toc_cell": true,
   "toc_position": {},
   "toc_section_display": true,
   "toc_window_display": false
  }
 },
 "nbformat": 4,
 "nbformat_minor": 4
}
