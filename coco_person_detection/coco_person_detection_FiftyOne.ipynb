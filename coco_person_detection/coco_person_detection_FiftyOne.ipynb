{
 "cells": [
  {
   "cell_type": "code",
   "execution_count": 1,
   "metadata": {},
   "outputs": [],
   "source": [
    "%load_ext autoreload\n",
    "%autoreload 2"
   ]
  },
  {
   "cell_type": "markdown",
   "metadata": {
    "toc": true
   },
   "source": [
    "<h1>Оглавление<span class=\"tocSkip\"></span></h1>\n",
    "<div class=\"toc\"><ul class=\"toc-item\"><li><span><a href=\"#Data-loader\" data-toc-modified-id=\"Data-loader-1\"><span class=\"toc-item-num\">1&nbsp;&nbsp;</span>Data loader</a></span></li></ul></div>"
   ]
  },
  {
   "cell_type": "markdown",
   "metadata": {},
   "source": [
    "# Подключение библиотек"
   ]
  },
  {
   "cell_type": "code",
   "execution_count": 2,
   "metadata": {},
   "outputs": [
    {
     "name": "stdout",
     "output_type": "stream",
     "text": [
      "Downloading split 'validation' to '/mnt/heap/validation' if necessary\n",
      "Found annotations at '/mnt/heap/raw/instances_val2017.json'\n",
      "Images already downloaded\n",
      "Existing download of split 'validation' is sufficient\n",
      "Loading 'coco-2017' split 'validation'\n",
      " 100% |███████████████| 5000/5000 [22.3s elapsed, 0s remaining, 222.1 samples/s]      \n",
      "Dataset 'coco-2017-validation' created\n"
     ]
    }
   ],
   "source": [
    "import fiftyone as fo\n",
    "import fiftyone.zoo as foz\n",
    "from dataset import FiftyOneTorchDataset\n",
    "\n",
    "# Download and load the validation split of COCO-2017\n",
    "fo_dataset = foz.load_zoo_dataset(\"coco-2017\", split=\"validation\",\n",
    "                               dataset_dir='/mnt/heap')"
   ]
  },
  {
   "cell_type": "markdown",
   "metadata": {},
   "source": [
    "session = fo.launch_app(dataset)"
   ]
  },
  {
   "cell_type": "code",
   "execution_count": 3,
   "metadata": {},
   "outputs": [],
   "source": [
    "fo_dataset.compute_metadata()"
   ]
  },
  {
   "cell_type": "markdown",
   "metadata": {},
   "source": [
    "## Data set"
   ]
  },
  {
   "cell_type": "code",
   "execution_count": 4,
   "metadata": {},
   "outputs": [],
   "source": [
    "import torch\n",
    "from viewer import Viewer\n",
    "from PIL import Image"
   ]
  },
  {
   "cell_type": "code",
   "execution_count": 5,
   "metadata": {},
   "outputs": [],
   "source": [
    "viewer = Viewer()"
   ]
  },
  {
   "cell_type": "code",
   "execution_count": 6,
   "metadata": {},
   "outputs": [
    {
     "name": "stdout",
     "output_type": "stream",
     "text": [
      "1005\n"
     ]
    }
   ],
   "source": [
    "from fiftyone import ViewField as F\n",
    "\n",
    "person_list = ['person',\"car\", \"truck\", \"bus\",'boat']\n",
    "person_view = fo_dataset.filter_labels(\"ground_truth\",\n",
    "        F(\"label\").is_in(person_list)).match(F(\"ground_truth.detections\").length() == 1)\n",
    "print(len(person_view))"
   ]
  },
  {
   "cell_type": "markdown",
   "metadata": {},
   "source": [
    "## Data loader"
   ]
  },
  {
   "cell_type": "code",
   "execution_count": 7,
   "metadata": {},
   "outputs": [],
   "source": [
    "import torchvision.transforms as T\n",
    "\n",
    "img_size = (256, 256)\n",
    "train_transforms = T.Compose([T.Resize(img_size),\n",
    "                              T.ToTensor()])\n",
    "test_transforms = T.Compose([T.Resize(img_size),\n",
    "                             T.ToTensor()])"
   ]
  },
  {
   "cell_type": "code",
   "execution_count": 8,
   "metadata": {},
   "outputs": [],
   "source": [
    "# split the dataset in train and test set\n",
    "train_view = person_view.take(len(person_view) * 0.75, seed=51)\n",
    "test_view = person_view.exclude([s.id for s in train_view])"
   ]
  },
  {
   "cell_type": "code",
   "execution_count": 9,
   "metadata": {},
   "outputs": [],
   "source": [
    "torch_dataset = FiftyOneTorchDataset(train_view, train_transforms,\n",
    "        classes=person_list)\n",
    "torch_dataset_test = FiftyOneTorchDataset(test_view, test_transforms, \n",
    "        classes=person_list)"
   ]
  },
  {
   "cell_type": "code",
   "execution_count": 10,
   "metadata": {},
   "outputs": [
    {
     "data": {
      "text/plain": [
       "753"
      ]
     },
     "execution_count": 10,
     "metadata": {},
     "output_type": "execute_result"
    }
   ],
   "source": [
    "len(torch_dataset)"
   ]
  },
  {
   "cell_type": "code",
   "execution_count": 11,
   "metadata": {},
   "outputs": [
    {
     "data": {
      "text/plain": [
       "252"
      ]
     },
     "execution_count": 11,
     "metadata": {},
     "output_type": "execute_result"
    }
   ],
   "source": [
    "len(torch_dataset_test)"
   ]
  },
  {
   "cell_type": "code",
   "execution_count": 12,
   "metadata": {},
   "outputs": [],
   "source": [
    "# define training and validation data loaders\n",
    "data_loader = torch.utils.data.DataLoader(\n",
    "        torch_dataset, batch_size=64, shuffle=True)\n",
    "    \n",
    "data_loader_test = torch.utils.data.DataLoader(\n",
    "        torch_dataset_test, batch_size=64, shuffle=False)"
   ]
  },
  {
   "cell_type": "markdown",
   "metadata": {},
   "source": [
    "# Баланс классов"
   ]
  },
  {
   "cell_type": "markdown",
   "metadata": {},
   "source": [
    "with_person = 0\n",
    "without_person = 0\n",
    "for i in range(len(torch_dataset)):\n",
    "    _, target = torch_dataset[i]\n",
    "    if target['img_has_person']:\n",
    "        with_person += 1\n",
    "    else:\n",
    "        without_person += 1"
   ]
  },
  {
   "cell_type": "markdown",
   "metadata": {},
   "source": [
    "with_person"
   ]
  },
  {
   "cell_type": "markdown",
   "metadata": {},
   "source": [
    "without_person"
   ]
  },
  {
   "cell_type": "markdown",
   "metadata": {},
   "source": [
    "pp = [with_person,without_person]"
   ]
  },
  {
   "cell_type": "code",
   "execution_count": 13,
   "metadata": {},
   "outputs": [],
   "source": [
    "import seaborn as sns\n",
    "import pandas as pd"
   ]
  },
  {
   "cell_type": "markdown",
   "metadata": {},
   "source": [
    "data=pd.DataFrame([with_person,without_person], columns = ['class'], \n",
    "                  index =['with_person','without_person'])"
   ]
  },
  {
   "cell_type": "markdown",
   "metadata": {},
   "source": [
    "data.plot(kind='pie', y='class', title='Зависимость целями и возвратом кредита в срок', autopct='%1.1f%%')"
   ]
  },
  {
   "cell_type": "markdown",
   "metadata": {},
   "source": [
    "# Train loop"
   ]
  },
  {
   "cell_type": "code",
   "execution_count": 14,
   "metadata": {},
   "outputs": [],
   "source": [
    "from itertools import product\n",
    "from pytorch_helper import PyTorchHelper"
   ]
  },
  {
   "cell_type": "code",
   "execution_count": 15,
   "metadata": {},
   "outputs": [],
   "source": [
    "from extended_model import ExtendedModel"
   ]
  },
  {
   "cell_type": "code",
   "execution_count": 16,
   "metadata": {},
   "outputs": [],
   "source": [
    "from pytorch_helper import PyTorchHelper\n",
    "\n",
    "def find_hyperparameters(config):\n",
    "    learning_rates = [1e-1]\n",
    "    anneal_coeff = 0.5\n",
    "    anneal_epochs = [5]\n",
    "    regs = config['regs']\n",
    "    optimizers = config['optimizers']\n",
    "\n",
    "    batch_size = 64\n",
    "    epoch_num = 40\n",
    "\n",
    "    run_record = {} \n",
    "    \n",
    "    helper = PyTorchHelper(8,  None)\n",
    "\n",
    "    lenet_model = None\n",
    "    val_loss = 8\n",
    "    loss_history = None\n",
    "    for lr, reg, anneal_epoch, optimizer in product(learning_rates, regs, anneal_epochs, optimizers):\n",
    "        \n",
    "        lenet_model = ExtendedModel(config['model'](), config['need_train'], config['model_name'])\n",
    "        if not lenet_model.need_train:\n",
    "            if lenet_model.load_model():\n",
    "                return lenet_model\n",
    "        \n",
    "        optimizer = optimizer(lenet_model.torch_model.parameters(), lr=lr, weight_decay=reg)\n",
    "        scheduler = optim.lr_scheduler.StepLR(optimizer, step_size=anneal_epoch, gamma=anneal_coeff)\n",
    "\n",
    "        model, train_loss_history, val_loss_history, train_metric_history, val_metric_history = helper.train_model(lenet_model.torch_model, data_loader, data_loader_test, optimizer, epoch_num, scheduler)\n",
    "        lenet_model.add_history(train_loss_history, val_loss_history, train_metric_history, val_metric_history)\n",
    "\n",
    "    return lenet_model"
   ]
  },
  {
   "cell_type": "code",
   "execution_count": 17,
   "metadata": {},
   "outputs": [],
   "source": [
    "import torch\n",
    "import torch.nn as nn\n",
    "import torch.optim as optim\n",
    "\n",
    "from torchvision.models import resnet18"
   ]
  },
  {
   "cell_type": "code",
   "execution_count": 18,
   "metadata": {},
   "outputs": [],
   "source": [
    "def net():\n",
    "    model = resnet18(pretrained=True)\n",
    "    model.fc = nn.Linear(in_features=512, out_features=5)\n",
    "    return model"
   ]
  },
  {
   "cell_type": "code",
   "execution_count": 19,
   "metadata": {},
   "outputs": [],
   "source": [
    "config = {\n",
    "    'need_train': True,\n",
    "    'regs': [0.001],\n",
    "    'optimizers': [optim.Adam],\n",
    "    'model': net,\n",
    "    'model_name': 'best_lenet'    \n",
    "}"
   ]
  },
  {
   "cell_type": "code",
   "execution_count": 20,
   "metadata": {},
   "outputs": [],
   "source": [
    "from resource_monitor import ResourceMonitor\n",
    "resourceMonitor = ResourceMonitor()"
   ]
  },
  {
   "cell_type": "code",
   "execution_count": 21,
   "metadata": {},
   "outputs": [
    {
     "name": "stdout",
     "output_type": "stream",
     "text": [
      "memory_allocated: 0.0\n",
      "max_memory_allocated: 0.0\n",
      "memory_reserved: 0.0\n",
      "max_memory_reserved: 0.0\n"
     ]
    }
   ],
   "source": [
    "resourceMonitor.print_statistics('MB')"
   ]
  },
  {
   "cell_type": "code",
   "execution_count": 22,
   "metadata": {},
   "outputs": [
    {
     "name": "stdout",
     "output_type": "stream",
     "text": [
      "==============================\n",
      "Start train:\n",
      "memory_allocated: 42.69677734375\n",
      "max_memory_allocated: 42.69677734375\n",
      "memory_reserved: 64.0\n",
      "max_memory_reserved: 64.0\n",
      "==============================\n",
      "Epoch 0/39\n",
      "----------\n",
      "Step 0/12 Loss 1.3061760663986206\n",
      "Step 1/12 Loss 1686.184326171875\n",
      "Step 2/12 Loss 74.05706787109375\n",
      "Step 3/12 Loss 58.68342971801758\n",
      "Step 4/12 Loss 94.9720687866211\n",
      "Step 5/12 Loss 93.67206573486328\n",
      "Step 6/12 Loss 45.15812683105469\n",
      "Step 7/12 Loss 1142.7156982421875\n",
      "Step 8/12 Loss 47.849395751953125\n",
      "Step 9/12 Loss 16.250244140625\n",
      "Step 10/12 Loss 4.975103378295898\n",
      "Step 11/12 Loss 3.4370627403259277\n",
      "==============================\n",
      "Average loss train: 297.205536\n",
      "Train map: 0.000000\n",
      "Average loss test: 11538637258752.000000\n",
      "Test map: 0.000000\n",
      "==============================\n",
      "memory_allocated: 174.14208984375\n",
      "max_memory_allocated: 3774.27001953125\n",
      "memory_reserved: 4060.0\n",
      "max_memory_reserved: 4060.0\n",
      "==============================\n",
      "Epoch 1/39\n",
      "----------\n",
      "Step 0/12 Loss 1.7418262958526611\n",
      "Step 1/12 Loss 1.6489754915237427\n",
      "Step 2/12 Loss 1.361891746520996\n",
      "Step 3/12 Loss 1.237083911895752\n",
      "Step 4/12 Loss 1.1393698453903198\n",
      "Step 5/12 Loss 1.0235481262207031\n",
      "Step 6/12 Loss 1.171661376953125\n",
      "Step 7/12 Loss 0.8997828364372253\n",
      "Step 8/12 Loss 0.8504703044891357\n",
      "Step 9/12 Loss 0.8041364550590515\n",
      "Step 10/12 Loss 0.6803060173988342\n",
      "Step 11/12 Loss 0.6995691657066345\n",
      "==============================\n",
      "Average loss train: 1.205329\n",
      "Train map: 0.000000\n",
      "Average loss test: 4196782.000000\n",
      "Test map: 0.000000\n",
      "==============================\n",
      "memory_allocated: 174.14208984375\n",
      "max_memory_allocated: 3774.27001953125\n",
      "memory_reserved: 4060.0\n",
      "max_memory_reserved: 4060.0\n",
      "==============================\n",
      "Epoch 2/39\n",
      "----------\n",
      "Step 0/12 Loss 0.7491246461868286\n",
      "Step 1/12 Loss 0.6359419822692871\n",
      "Step 2/12 Loss 0.9153183698654175\n",
      "Step 3/12 Loss 0.6018159985542297\n",
      "Step 4/12 Loss 1.7864353656768799\n",
      "Step 5/12 Loss 0.6797173023223877\n",
      "Step 6/12 Loss 0.9706071615219116\n",
      "Step 7/12 Loss 0.6562538146972656\n",
      "Step 8/12 Loss 0.6822735071182251\n",
      "Step 9/12 Loss 1.0428885221481323\n",
      "Step 10/12 Loss 1.1375083923339844\n",
      "Step 11/12 Loss 0.6565477848052979\n",
      "==============================\n",
      "Average loss train: 0.955858\n",
      "Train map: 0.000000\n",
      "Average loss test: 72640.078125\n",
      "Test map: 0.000000\n",
      "==============================\n",
      "memory_allocated: 174.14208984375\n",
      "max_memory_allocated: 3774.27001953125\n",
      "memory_reserved: 4060.0\n",
      "max_memory_reserved: 4060.0\n",
      "==============================\n",
      "Epoch 3/39\n",
      "----------\n",
      "Step 0/12 Loss 1.57231867313385\n",
      "Step 1/12 Loss 0.47280746698379517\n",
      "Step 2/12 Loss 0.7021191120147705\n",
      "Step 3/12 Loss 0.48489701747894287\n",
      "Step 4/12 Loss 0.531827449798584\n",
      "Step 5/12 Loss 0.5355095863342285\n",
      "Step 6/12 Loss 0.8631672859191895\n",
      "Step 7/12 Loss 0.64387047290802\n",
      "Step 8/12 Loss 0.5413767099380493\n",
      "Step 9/12 Loss 0.8226860761642456\n",
      "Step 10/12 Loss 0.7491288185119629\n",
      "Step 11/12 Loss 0.5132995247840881\n",
      "==============================\n",
      "Average loss train: 0.766637\n",
      "Train map: 0.017264\n",
      "Average loss test: 541.415955\n",
      "Test map: 0.047619\n",
      "==============================\n",
      "memory_allocated: 174.14208984375\n",
      "max_memory_allocated: 3774.271484375\n",
      "memory_reserved: 4060.0\n",
      "max_memory_reserved: 4060.0\n",
      "==============================\n",
      "Epoch 4/39\n",
      "----------\n",
      "Step 0/12 Loss 0.6809194087982178\n",
      "Step 1/12 Loss 0.40116703510284424\n",
      "Step 2/12 Loss 0.6188741326332092\n",
      "Step 3/12 Loss 0.6188327074050903\n",
      "Step 4/12 Loss 0.7263268232345581\n",
      "Step 5/12 Loss 0.49482423067092896\n",
      "Step 6/12 Loss 0.6411390900611877\n",
      "Step 7/12 Loss 0.8849497437477112\n",
      "Step 8/12 Loss 0.5181732773780823\n",
      "Step 9/12 Loss 0.7063632607460022\n",
      "Step 10/12 Loss 1.0499789714813232\n",
      "Step 11/12 Loss 0.6250044703483582\n",
      "==============================\n",
      "Average loss train: 0.724232\n",
      "Train map: 0.126162\n",
      "Average loss test: 15.578611\n",
      "Test map: 0.123016\n",
      "==============================\n",
      "memory_allocated: 174.14208984375\n",
      "max_memory_allocated: 3774.271484375\n",
      "memory_reserved: 4060.0\n",
      "max_memory_reserved: 4060.0\n",
      "==============================\n",
      "Epoch 5/39\n",
      "----------\n",
      "Step 0/12 Loss 1.2212855815887451\n",
      "Step 1/12 Loss 0.5615360140800476\n",
      "Step 2/12 Loss 0.7598010301589966\n",
      "Step 3/12 Loss 0.5065931081771851\n",
      "Step 4/12 Loss 0.6269880533218384\n",
      "Step 5/12 Loss 0.616162896156311\n",
      "Step 6/12 Loss 0.701752781867981\n",
      "Step 7/12 Loss 0.6757820844650269\n",
      "Step 8/12 Loss 0.6006661653518677\n",
      "Step 9/12 Loss 0.6030234098434448\n",
      "Step 10/12 Loss 0.40009087324142456\n",
      "Step 11/12 Loss 0.4484218955039978\n",
      "==============================\n",
      "Average loss train: 0.702009\n",
      "Train map: 0.122178\n",
      "Average loss test: 6.889425\n",
      "Test map: 0.119048\n",
      "==============================\n",
      "memory_allocated: 174.14208984375\n",
      "max_memory_allocated: 3774.271484375\n",
      "memory_reserved: 4060.0\n",
      "max_memory_reserved: 4060.0\n",
      "==============================\n",
      "Epoch 6/39\n",
      "----------\n",
      "Step 0/12 Loss 0.47682034969329834\n",
      "Step 1/12 Loss 0.3813358545303345\n",
      "Step 2/12 Loss 0.5849637389183044\n",
      "Step 3/12 Loss 0.43946534395217896\n",
      "Step 4/12 Loss 0.5203444361686707\n",
      "Step 5/12 Loss 0.44578731060028076\n",
      "Step 6/12 Loss 0.5850011110305786\n",
      "Step 7/12 Loss 0.5993237495422363\n",
      "Step 8/12 Loss 0.49564552307128906\n",
      "Step 9/12 Loss 0.5857874155044556\n",
      "Step 10/12 Loss 0.4052754342556\n",
      "Step 11/12 Loss 0.5390520095825195\n",
      "==============================\n",
      "Average loss train: 0.550800\n",
      "Train map: 0.122178\n",
      "Average loss test: 1.088752\n",
      "Test map: 0.154762\n",
      "==============================\n",
      "memory_allocated: 174.14208984375\n",
      "max_memory_allocated: 3774.271484375\n",
      "memory_reserved: 4060.0\n",
      "max_memory_reserved: 4060.0\n",
      "==============================\n",
      "Epoch 7/39\n",
      "----------\n",
      "Step 0/12 Loss 0.46973809599876404\n",
      "Step 1/12 Loss 0.41661739349365234\n",
      "Step 2/12 Loss 0.5878288745880127\n",
      "Step 3/12 Loss 0.433940052986145\n",
      "Step 4/12 Loss 0.590498149394989\n",
      "Step 5/12 Loss 0.5512728691101074\n",
      "Step 6/12 Loss 0.6086437106132507\n",
      "Step 7/12 Loss 0.4381066858768463\n",
      "Step 8/12 Loss 0.48686638474464417\n",
      "Step 9/12 Loss 0.5261170268058777\n",
      "Step 10/12 Loss 0.39316821098327637\n",
      "Step 11/12 Loss 0.44063180685043335\n",
      "==============================\n",
      "Average loss train: 0.540312\n",
      "Train map: 0.179283\n",
      "Average loss test: 1.162340\n",
      "Test map: 0.174603\n",
      "==============================\n",
      "memory_allocated: 174.14208984375\n",
      "max_memory_allocated: 3774.271484375\n",
      "memory_reserved: 4060.0\n",
      "max_memory_reserved: 4060.0\n",
      "==============================\n",
      "Epoch 8/39\n",
      "----------\n",
      "Step 0/12 Loss 0.617908239364624\n",
      "Step 1/12 Loss 0.35378384590148926\n",
      "Step 2/12 Loss 0.6361129283905029\n",
      "Step 3/12 Loss 0.4643988311290741\n",
      "Step 4/12 Loss 0.5483382940292358\n",
      "Step 5/12 Loss 0.5189119577407837\n",
      "Step 6/12 Loss 0.6304020881652832\n",
      "Step 7/12 Loss 0.44987544417381287\n",
      "Step 8/12 Loss 0.6124357581138611\n",
      "Step 9/12 Loss 0.5623683929443359\n",
      "Step 10/12 Loss 0.39397409558296204\n",
      "Step 11/12 Loss 0.43221402168273926\n",
      "==============================\n",
      "Average loss train: 0.565520\n",
      "Train map: 0.243028\n",
      "Average loss test: 0.714875\n",
      "Test map: 0.250000\n",
      "==============================\n",
      "memory_allocated: 174.14208984375\n",
      "max_memory_allocated: 3774.271484375\n",
      "memory_reserved: 4060.0\n",
      "max_memory_reserved: 4060.0\n",
      "==============================\n",
      "Epoch 9/39\n",
      "----------\n",
      "Step 0/12 Loss 0.45748648047447205\n",
      "Step 1/12 Loss 0.3454047441482544\n",
      "Step 2/12 Loss 0.5644310712814331\n",
      "Step 3/12 Loss 0.46846193075180054\n",
      "Step 4/12 Loss 0.5385617613792419\n",
      "Step 5/12 Loss 0.42973923683166504\n",
      "Step 6/12 Loss 0.5814679265022278\n",
      "Step 7/12 Loss 0.4671142101287842\n",
      "Step 8/12 Loss 0.5748789310455322\n",
      "Step 9/12 Loss 0.6241804361343384\n",
      "Step 10/12 Loss 0.3838060796260834\n",
      "Step 11/12 Loss 0.4874955117702484\n",
      "==============================\n",
      "Average loss train: 0.538457\n",
      "Train map: 0.199203\n",
      "Average loss test: 0.705412\n",
      "Test map: 0.202381\n",
      "==============================\n",
      "memory_allocated: 174.14208984375\n",
      "max_memory_allocated: 3774.271484375\n",
      "memory_reserved: 4060.0\n",
      "max_memory_reserved: 4060.0\n",
      "==============================\n",
      "Epoch 10/39\n",
      "----------\n",
      "Step 0/12 Loss 0.47571492195129395\n",
      "Step 1/12 Loss 0.3735736310482025\n",
      "Step 2/12 Loss 0.5689854621887207\n",
      "Step 3/12 Loss 0.4135991334915161\n",
      "Step 4/12 Loss 0.5021419525146484\n",
      "Step 5/12 Loss 0.4774249792098999\n",
      "Step 6/12 Loss 0.584239661693573\n",
      "Step 7/12 Loss 0.4387871325016022\n",
      "Step 8/12 Loss 0.5144530534744263\n",
      "Step 9/12 Loss 0.5002005100250244\n",
      "Step 10/12 Loss 0.3790687620639801\n",
      "Step 11/12 Loss 0.4789467453956604\n",
      "==============================\n",
      "Average loss train: 0.518831\n",
      "Train map: 0.207171\n",
      "Average loss test: 0.868073\n",
      "Test map: 0.210317\n",
      "==============================\n",
      "memory_allocated: 174.14208984375\n",
      "max_memory_allocated: 3774.271484375\n",
      "memory_reserved: 4060.0\n",
      "max_memory_reserved: 4060.0\n",
      "==============================\n",
      "Epoch 11/39\n",
      "----------\n",
      "Step 0/12 Loss 0.4609043002128601\n",
      "Step 1/12 Loss 0.351764440536499\n",
      "Step 2/12 Loss 0.6018354892730713\n",
      "Step 3/12 Loss 0.4100872874259949\n",
      "Step 4/12 Loss 0.5189768671989441\n",
      "Step 5/12 Loss 0.41949474811553955\n",
      "Step 6/12 Loss 0.5571739673614502\n",
      "Step 7/12 Loss 0.4303998649120331\n",
      "Step 8/12 Loss 0.4697017967700958\n",
      "Step 9/12 Loss 0.5071495175361633\n",
      "Step 10/12 Loss 0.3620881140232086\n",
      "Step 11/12 Loss 0.4337788224220276\n",
      "==============================\n",
      "Average loss train: 0.502123\n",
      "Train map: 0.274900\n",
      "Average loss test: 0.710047\n",
      "Test map: 0.265873\n",
      "==============================\n",
      "memory_allocated: 174.14208984375\n",
      "max_memory_allocated: 3774.271484375\n",
      "memory_reserved: 4060.0\n",
      "max_memory_reserved: 4060.0\n",
      "==============================\n",
      "Epoch 12/39\n",
      "----------\n",
      "Step 0/12 Loss 0.458450049161911\n",
      "Step 1/12 Loss 0.3380087614059448\n",
      "Step 2/12 Loss 0.5722897052764893\n",
      "Step 3/12 Loss 0.4180058240890503\n",
      "Step 4/12 Loss 0.4590875804424286\n",
      "Step 5/12 Loss 0.4233749508857727\n",
      "Step 6/12 Loss 0.574736475944519\n",
      "Step 7/12 Loss 0.4774288833141327\n",
      "Step 8/12 Loss 0.4685733914375305\n",
      "Step 9/12 Loss 0.5760400295257568\n",
      "Step 10/12 Loss 0.3830781877040863\n",
      "Step 11/12 Loss 0.5277204513549805\n",
      "==============================\n",
      "Average loss train: 0.516072\n",
      "Train map: 0.258964\n",
      "Average loss test: 0.708949\n",
      "Test map: 0.265873\n",
      "==============================\n",
      "memory_allocated: 174.14208984375\n",
      "max_memory_allocated: 3774.271484375\n",
      "memory_reserved: 4060.0\n",
      "max_memory_reserved: 4060.0\n",
      "==============================\n",
      "Epoch 13/39\n",
      "----------\n",
      "Step 0/12 Loss 0.4662614166736603\n",
      "Step 1/12 Loss 0.35164934396743774\n",
      "Step 2/12 Loss 0.5621546506881714\n",
      "Step 3/12 Loss 0.42838558554649353\n",
      "Step 4/12 Loss 0.4673885107040405\n",
      "Step 5/12 Loss 0.4273732304573059\n",
      "Step 6/12 Loss 0.5555115342140198\n",
      "Step 7/12 Loss 0.43510234355926514\n",
      "Step 8/12 Loss 0.4847428798675537\n",
      "Step 9/12 Loss 0.4906114637851715\n",
      "Step 10/12 Loss 0.36261069774627686\n",
      "Step 11/12 Loss 0.4169181287288666\n",
      "==============================\n",
      "Average loss train: 0.495337\n",
      "Train map: 0.243028\n",
      "Average loss test: 0.725912\n",
      "Test map: 0.281746\n",
      "==============================\n",
      "memory_allocated: 174.14208984375\n",
      "max_memory_allocated: 3774.271484375\n",
      "memory_reserved: 4060.0\n",
      "max_memory_reserved: 4060.0\n",
      "==============================\n",
      "Epoch 14/39\n",
      "----------\n",
      "Step 0/12 Loss 0.46143385767936707\n",
      "Step 1/12 Loss 0.3357936441898346\n",
      "Step 2/12 Loss 0.5700162649154663\n",
      "Step 3/12 Loss 0.4112047553062439\n",
      "Step 4/12 Loss 0.4844133257865906\n",
      "Step 5/12 Loss 0.4245930314064026\n",
      "Step 6/12 Loss 0.5684394240379333\n",
      "Step 7/12 Loss 0.46303972601890564\n",
      "Step 8/12 Loss 0.5162796974182129\n",
      "Step 9/12 Loss 0.5117580890655518\n",
      "Step 10/12 Loss 0.40130600333213806\n",
      "Step 11/12 Loss 0.43539726734161377\n",
      "==============================\n",
      "Average loss train: 0.507607\n",
      "Train map: 0.253652\n",
      "Average loss test: 1.041626\n",
      "Test map: 0.253968\n",
      "==============================\n",
      "memory_allocated: 174.14208984375\n",
      "max_memory_allocated: 3774.271484375\n",
      "memory_reserved: 4060.0\n",
      "max_memory_reserved: 4060.0\n",
      "==============================\n",
      "Epoch 15/39\n",
      "----------\n",
      "Step 0/12 Loss 0.48700782656669617\n",
      "Step 1/12 Loss 0.3420144319534302\n",
      "Step 2/12 Loss 0.5626186728477478\n",
      "Step 3/12 Loss 0.413286030292511\n",
      "Step 4/12 Loss 0.47645941376686096\n",
      "Step 5/12 Loss 0.4172903299331665\n",
      "Step 6/12 Loss 0.5405045747756958\n",
      "Step 7/12 Loss 0.43059319257736206\n",
      "Step 8/12 Loss 0.46295204758644104\n",
      "Step 9/12 Loss 0.5115534067153931\n",
      "Step 10/12 Loss 0.3647633194923401\n",
      "Step 11/12 Loss 0.42009395360946655\n",
      "==============================\n",
      "Average loss train: 0.493558\n",
      "Train map: 0.256308\n",
      "Average loss test: 0.852628\n",
      "Test map: 0.230159\n",
      "==============================\n",
      "memory_allocated: 174.14208984375\n",
      "max_memory_allocated: 3774.271484375\n",
      "memory_reserved: 4060.0\n",
      "max_memory_reserved: 4060.0\n",
      "==============================\n",
      "Epoch 16/39\n",
      "----------\n",
      "Step 0/12 Loss 0.4692274034023285\n",
      "Step 1/12 Loss 0.37835240364074707\n",
      "Step 2/12 Loss 0.5564299821853638\n",
      "Step 3/12 Loss 0.4013720154762268\n",
      "Step 4/12 Loss 0.4541468918323517\n",
      "Step 5/12 Loss 0.42996981739997864\n",
      "Step 6/12 Loss 0.5450641512870789\n",
      "Step 7/12 Loss 0.427783340215683\n",
      "Step 8/12 Loss 0.4680625796318054\n",
      "Step 9/12 Loss 0.493108868598938\n",
      "Step 10/12 Loss 0.3501810133457184\n",
      "Step 11/12 Loss 0.42189544439315796\n",
      "==============================\n",
      "Average loss train: 0.490509\n",
      "Train map: 0.241700\n",
      "Average loss test: 0.724168\n",
      "Test map: 0.309524\n",
      "==============================\n",
      "memory_allocated: 174.14208984375\n",
      "max_memory_allocated: 3774.271484375\n",
      "memory_reserved: 4060.0\n",
      "max_memory_reserved: 4060.0\n",
      "==============================\n",
      "Epoch 17/39\n",
      "----------\n",
      "Step 0/12 Loss 0.4603843092918396\n",
      "Step 1/12 Loss 0.3375036120414734\n",
      "Step 2/12 Loss 0.5538666248321533\n",
      "Step 3/12 Loss 0.4074566066265106\n",
      "Step 4/12 Loss 0.4541073143482208\n",
      "Step 5/12 Loss 0.42372825741767883\n",
      "Step 6/12 Loss 0.5363785624504089\n",
      "Step 7/12 Loss 0.4288415312767029\n",
      "Step 8/12 Loss 0.45968249440193176\n",
      "Step 9/12 Loss 0.49420857429504395\n",
      "Step 10/12 Loss 0.3528619408607483\n",
      "Step 11/12 Loss 0.40443146228790283\n",
      "==============================\n",
      "Average loss train: 0.483041\n",
      "Train map: 0.249668\n",
      "Average loss test: 0.721181\n",
      "Test map: 0.317460\n",
      "==============================\n",
      "memory_allocated: 174.14208984375\n",
      "max_memory_allocated: 3774.271484375\n",
      "memory_reserved: 4060.0\n",
      "max_memory_reserved: 4060.0\n",
      "==============================\n",
      "Epoch 18/39\n",
      "----------\n",
      "Step 0/12 Loss 0.46033811569213867\n",
      "Step 1/12 Loss 0.35088589787483215\n",
      "Step 2/12 Loss 0.5533372163772583\n",
      "Step 3/12 Loss 0.40026021003723145\n",
      "Step 4/12 Loss 0.45878368616104126\n",
      "Step 5/12 Loss 0.41542157530784607\n",
      "Step 6/12 Loss 0.5363264083862305\n",
      "Step 7/12 Loss 0.44341519474983215\n",
      "Step 8/12 Loss 0.46488022804260254\n",
      "Step 9/12 Loss 0.5062107443809509\n",
      "Step 10/12 Loss 0.34908974170684814\n",
      "Step 11/12 Loss 0.4742164611816406\n",
      "==============================\n",
      "Average loss train: 0.492106\n",
      "Train map: 0.228420\n",
      "Average loss test: 1.431430\n",
      "Test map: 0.277778\n",
      "==============================\n",
      "memory_allocated: 174.14208984375\n",
      "max_memory_allocated: 3774.271484375\n",
      "memory_reserved: 4060.0\n",
      "max_memory_reserved: 4060.0\n",
      "==============================\n",
      "Epoch 19/39\n",
      "----------\n",
      "Step 0/12 Loss 0.4626186788082123\n",
      "Step 1/12 Loss 0.3400564193725586\n",
      "Step 2/12 Loss 0.5715449452400208\n",
      "Step 3/12 Loss 0.4144666790962219\n",
      "Step 4/12 Loss 0.4674791097640991\n",
      "Step 5/12 Loss 0.4170226752758026\n",
      "Step 6/12 Loss 0.5283610224723816\n",
      "Step 7/12 Loss 0.4264129102230072\n",
      "Step 8/12 Loss 0.4720195531845093\n",
      "Step 9/12 Loss 0.4886045455932617\n",
      "Step 10/12 Loss 0.37073588371276855\n",
      "Step 11/12 Loss 0.40692031383514404\n",
      "==============================\n",
      "Average loss train: 0.487840\n",
      "Train map: 0.296149\n",
      "Average loss test: 0.683101\n",
      "Test map: 0.281746\n",
      "==============================\n",
      "memory_allocated: 174.14208984375\n",
      "max_memory_allocated: 3774.271484375\n",
      "memory_reserved: 4060.0\n",
      "max_memory_reserved: 4060.0\n",
      "==============================\n",
      "Epoch 20/39\n",
      "----------\n",
      "Step 0/12 Loss 0.4561327397823334\n",
      "Step 1/12 Loss 0.3435736298561096\n",
      "Step 2/12 Loss 0.5544295310974121\n",
      "Step 3/12 Loss 0.40140098333358765\n",
      "Step 4/12 Loss 0.4568161368370056\n",
      "Step 5/12 Loss 0.4121999740600586\n"
     ]
    },
    {
     "ename": "KeyboardInterrupt",
     "evalue": "",
     "output_type": "error",
     "traceback": [
      "\u001b[0;31m---------------------------------------------------------------------------\u001b[0m",
      "\u001b[0;31mKeyboardInterrupt\u001b[0m                         Traceback (most recent call last)",
      "\u001b[0;32m<ipython-input-22-9a9b907b1337>\u001b[0m in \u001b[0;36m<module>\u001b[0;34m\u001b[0m\n\u001b[0;32m----> 1\u001b[0;31m \u001b[0mextended_model\u001b[0m \u001b[0;34m=\u001b[0m \u001b[0mfind_hyperparameters\u001b[0m\u001b[0;34m(\u001b[0m\u001b[0mconfig\u001b[0m\u001b[0;34m)\u001b[0m\u001b[0;34m\u001b[0m\u001b[0;34m\u001b[0m\u001b[0m\n\u001b[0m",
      "\u001b[0;32m<ipython-input-16-f30d283b6838>\u001b[0m in \u001b[0;36mfind_hyperparameters\u001b[0;34m(config)\u001b[0m\n\u001b[1;32m     28\u001b[0m         \u001b[0mscheduler\u001b[0m \u001b[0;34m=\u001b[0m \u001b[0moptim\u001b[0m\u001b[0;34m.\u001b[0m\u001b[0mlr_scheduler\u001b[0m\u001b[0;34m.\u001b[0m\u001b[0mStepLR\u001b[0m\u001b[0;34m(\u001b[0m\u001b[0moptimizer\u001b[0m\u001b[0;34m,\u001b[0m \u001b[0mstep_size\u001b[0m\u001b[0;34m=\u001b[0m\u001b[0manneal_epoch\u001b[0m\u001b[0;34m,\u001b[0m \u001b[0mgamma\u001b[0m\u001b[0;34m=\u001b[0m\u001b[0manneal_coeff\u001b[0m\u001b[0;34m)\u001b[0m\u001b[0;34m\u001b[0m\u001b[0;34m\u001b[0m\u001b[0m\n\u001b[1;32m     29\u001b[0m \u001b[0;34m\u001b[0m\u001b[0m\n\u001b[0;32m---> 30\u001b[0;31m         \u001b[0mmodel\u001b[0m\u001b[0;34m,\u001b[0m \u001b[0mtrain_loss_history\u001b[0m\u001b[0;34m,\u001b[0m \u001b[0mval_loss_history\u001b[0m\u001b[0;34m,\u001b[0m \u001b[0mtrain_metric_history\u001b[0m\u001b[0;34m,\u001b[0m \u001b[0mval_metric_history\u001b[0m \u001b[0;34m=\u001b[0m \u001b[0mhelper\u001b[0m\u001b[0;34m.\u001b[0m\u001b[0mtrain_model\u001b[0m\u001b[0;34m(\u001b[0m\u001b[0mlenet_model\u001b[0m\u001b[0;34m.\u001b[0m\u001b[0mtorch_model\u001b[0m\u001b[0;34m,\u001b[0m \u001b[0mdata_loader\u001b[0m\u001b[0;34m,\u001b[0m \u001b[0mdata_loader_test\u001b[0m\u001b[0;34m,\u001b[0m \u001b[0moptimizer\u001b[0m\u001b[0;34m,\u001b[0m \u001b[0mepoch_num\u001b[0m\u001b[0;34m,\u001b[0m \u001b[0mscheduler\u001b[0m\u001b[0;34m)\u001b[0m\u001b[0;34m\u001b[0m\u001b[0;34m\u001b[0m\u001b[0m\n\u001b[0m\u001b[1;32m     31\u001b[0m         \u001b[0mlenet_model\u001b[0m\u001b[0;34m.\u001b[0m\u001b[0madd_history\u001b[0m\u001b[0;34m(\u001b[0m\u001b[0mtrain_loss_history\u001b[0m\u001b[0;34m,\u001b[0m \u001b[0mval_loss_history\u001b[0m\u001b[0;34m,\u001b[0m \u001b[0mtrain_metric_history\u001b[0m\u001b[0;34m,\u001b[0m \u001b[0mval_metric_history\u001b[0m\u001b[0;34m)\u001b[0m\u001b[0;34m\u001b[0m\u001b[0;34m\u001b[0m\u001b[0m\n\u001b[1;32m     32\u001b[0m \u001b[0;34m\u001b[0m\u001b[0m\n",
      "\u001b[0;32m~/Рабочий стол/python/yandex/study_cv/coco_person_detection/pytorch_helper.py\u001b[0m in \u001b[0;36mtrain_model\u001b[0;34m(self, model, train_loader, val_loader, optimizer, num_epochs, scheduler)\u001b[0m\n\u001b[1;32m     83\u001b[0m             \u001b[0mloss_accum\u001b[0m \u001b[0;34m=\u001b[0m \u001b[0;36m0\u001b[0m\u001b[0;34m\u001b[0m\u001b[0;34m\u001b[0m\u001b[0m\n\u001b[1;32m     84\u001b[0m             \u001b[0mstep_count\u001b[0m \u001b[0;34m=\u001b[0m \u001b[0mlen\u001b[0m\u001b[0;34m(\u001b[0m\u001b[0mtrain_loader\u001b[0m\u001b[0;34m)\u001b[0m\u001b[0;34m\u001b[0m\u001b[0;34m\u001b[0m\u001b[0m\n\u001b[0;32m---> 85\u001b[0;31m             \u001b[0;32mfor\u001b[0m \u001b[0mi_step\u001b[0m\u001b[0;34m,\u001b[0m \u001b[0;34m(\u001b[0m\u001b[0mimg\u001b[0m\u001b[0;34m,\u001b[0m \u001b[0mtarget\u001b[0m\u001b[0;34m)\u001b[0m \u001b[0;32min\u001b[0m \u001b[0menumerate\u001b[0m\u001b[0;34m(\u001b[0m\u001b[0mtrain_loader\u001b[0m\u001b[0;34m)\u001b[0m\u001b[0;34m:\u001b[0m\u001b[0;34m\u001b[0m\u001b[0;34m\u001b[0m\u001b[0m\n\u001b[0m\u001b[1;32m     86\u001b[0m \u001b[0;34m\u001b[0m\u001b[0m\n\u001b[1;32m     87\u001b[0m                 \u001b[0mloss_value\u001b[0m \u001b[0;34m=\u001b[0m \u001b[0mself\u001b[0m\u001b[0;34m.\u001b[0m\u001b[0mloss_calc\u001b[0m\u001b[0;34m(\u001b[0m\u001b[0mimg\u001b[0m\u001b[0;34m,\u001b[0m\u001b[0mtarget\u001b[0m\u001b[0;34m,\u001b[0m\u001b[0mmodel\u001b[0m\u001b[0;34m)\u001b[0m\u001b[0;34m\u001b[0m\u001b[0;34m\u001b[0m\u001b[0m\n",
      "\u001b[0;32m/usr/local/lib/python3.8/dist-packages/torch/utils/data/dataloader.py\u001b[0m in \u001b[0;36m__next__\u001b[0;34m(self)\u001b[0m\n\u001b[1;32m    515\u001b[0m             \u001b[0;32mif\u001b[0m \u001b[0mself\u001b[0m\u001b[0;34m.\u001b[0m\u001b[0m_sampler_iter\u001b[0m \u001b[0;32mis\u001b[0m \u001b[0;32mNone\u001b[0m\u001b[0;34m:\u001b[0m\u001b[0;34m\u001b[0m\u001b[0;34m\u001b[0m\u001b[0m\n\u001b[1;32m    516\u001b[0m                 \u001b[0mself\u001b[0m\u001b[0;34m.\u001b[0m\u001b[0m_reset\u001b[0m\u001b[0;34m(\u001b[0m\u001b[0;34m)\u001b[0m\u001b[0;34m\u001b[0m\u001b[0;34m\u001b[0m\u001b[0m\n\u001b[0;32m--> 517\u001b[0;31m             \u001b[0mdata\u001b[0m \u001b[0;34m=\u001b[0m \u001b[0mself\u001b[0m\u001b[0;34m.\u001b[0m\u001b[0m_next_data\u001b[0m\u001b[0;34m(\u001b[0m\u001b[0;34m)\u001b[0m\u001b[0;34m\u001b[0m\u001b[0;34m\u001b[0m\u001b[0m\n\u001b[0m\u001b[1;32m    518\u001b[0m             \u001b[0mself\u001b[0m\u001b[0;34m.\u001b[0m\u001b[0m_num_yielded\u001b[0m \u001b[0;34m+=\u001b[0m \u001b[0;36m1\u001b[0m\u001b[0;34m\u001b[0m\u001b[0;34m\u001b[0m\u001b[0m\n\u001b[1;32m    519\u001b[0m             \u001b[0;32mif\u001b[0m \u001b[0mself\u001b[0m\u001b[0;34m.\u001b[0m\u001b[0m_dataset_kind\u001b[0m \u001b[0;34m==\u001b[0m \u001b[0m_DatasetKind\u001b[0m\u001b[0;34m.\u001b[0m\u001b[0mIterable\u001b[0m \u001b[0;32mand\u001b[0m\u001b[0;31m \u001b[0m\u001b[0;31m\\\u001b[0m\u001b[0;34m\u001b[0m\u001b[0;34m\u001b[0m\u001b[0m\n",
      "\u001b[0;32m/usr/local/lib/python3.8/dist-packages/torch/utils/data/dataloader.py\u001b[0m in \u001b[0;36m_next_data\u001b[0;34m(self)\u001b[0m\n\u001b[1;32m    555\u001b[0m     \u001b[0;32mdef\u001b[0m \u001b[0m_next_data\u001b[0m\u001b[0;34m(\u001b[0m\u001b[0mself\u001b[0m\u001b[0;34m)\u001b[0m\u001b[0;34m:\u001b[0m\u001b[0;34m\u001b[0m\u001b[0;34m\u001b[0m\u001b[0m\n\u001b[1;32m    556\u001b[0m         \u001b[0mindex\u001b[0m \u001b[0;34m=\u001b[0m \u001b[0mself\u001b[0m\u001b[0;34m.\u001b[0m\u001b[0m_next_index\u001b[0m\u001b[0;34m(\u001b[0m\u001b[0;34m)\u001b[0m  \u001b[0;31m# may raise StopIteration\u001b[0m\u001b[0;34m\u001b[0m\u001b[0;34m\u001b[0m\u001b[0m\n\u001b[0;32m--> 557\u001b[0;31m         \u001b[0mdata\u001b[0m \u001b[0;34m=\u001b[0m \u001b[0mself\u001b[0m\u001b[0;34m.\u001b[0m\u001b[0m_dataset_fetcher\u001b[0m\u001b[0;34m.\u001b[0m\u001b[0mfetch\u001b[0m\u001b[0;34m(\u001b[0m\u001b[0mindex\u001b[0m\u001b[0;34m)\u001b[0m  \u001b[0;31m# may raise StopIteration\u001b[0m\u001b[0;34m\u001b[0m\u001b[0;34m\u001b[0m\u001b[0m\n\u001b[0m\u001b[1;32m    558\u001b[0m         \u001b[0;32mif\u001b[0m \u001b[0mself\u001b[0m\u001b[0;34m.\u001b[0m\u001b[0m_pin_memory\u001b[0m\u001b[0;34m:\u001b[0m\u001b[0;34m\u001b[0m\u001b[0;34m\u001b[0m\u001b[0m\n\u001b[1;32m    559\u001b[0m             \u001b[0mdata\u001b[0m \u001b[0;34m=\u001b[0m \u001b[0m_utils\u001b[0m\u001b[0;34m.\u001b[0m\u001b[0mpin_memory\u001b[0m\u001b[0;34m.\u001b[0m\u001b[0mpin_memory\u001b[0m\u001b[0;34m(\u001b[0m\u001b[0mdata\u001b[0m\u001b[0;34m)\u001b[0m\u001b[0;34m\u001b[0m\u001b[0;34m\u001b[0m\u001b[0m\n",
      "\u001b[0;32m/usr/local/lib/python3.8/dist-packages/torch/utils/data/_utils/fetch.py\u001b[0m in \u001b[0;36mfetch\u001b[0;34m(self, possibly_batched_index)\u001b[0m\n\u001b[1;32m     42\u001b[0m     \u001b[0;32mdef\u001b[0m \u001b[0mfetch\u001b[0m\u001b[0;34m(\u001b[0m\u001b[0mself\u001b[0m\u001b[0;34m,\u001b[0m \u001b[0mpossibly_batched_index\u001b[0m\u001b[0;34m)\u001b[0m\u001b[0;34m:\u001b[0m\u001b[0;34m\u001b[0m\u001b[0;34m\u001b[0m\u001b[0m\n\u001b[1;32m     43\u001b[0m         \u001b[0;32mif\u001b[0m \u001b[0mself\u001b[0m\u001b[0;34m.\u001b[0m\u001b[0mauto_collation\u001b[0m\u001b[0;34m:\u001b[0m\u001b[0;34m\u001b[0m\u001b[0;34m\u001b[0m\u001b[0m\n\u001b[0;32m---> 44\u001b[0;31m             \u001b[0mdata\u001b[0m \u001b[0;34m=\u001b[0m \u001b[0;34m[\u001b[0m\u001b[0mself\u001b[0m\u001b[0;34m.\u001b[0m\u001b[0mdataset\u001b[0m\u001b[0;34m[\u001b[0m\u001b[0midx\u001b[0m\u001b[0;34m]\u001b[0m \u001b[0;32mfor\u001b[0m \u001b[0midx\u001b[0m \u001b[0;32min\u001b[0m \u001b[0mpossibly_batched_index\u001b[0m\u001b[0;34m]\u001b[0m\u001b[0;34m\u001b[0m\u001b[0;34m\u001b[0m\u001b[0m\n\u001b[0m\u001b[1;32m     45\u001b[0m         \u001b[0;32melse\u001b[0m\u001b[0;34m:\u001b[0m\u001b[0;34m\u001b[0m\u001b[0;34m\u001b[0m\u001b[0m\n\u001b[1;32m     46\u001b[0m             \u001b[0mdata\u001b[0m \u001b[0;34m=\u001b[0m \u001b[0mself\u001b[0m\u001b[0;34m.\u001b[0m\u001b[0mdataset\u001b[0m\u001b[0;34m[\u001b[0m\u001b[0mpossibly_batched_index\u001b[0m\u001b[0;34m]\u001b[0m\u001b[0;34m\u001b[0m\u001b[0;34m\u001b[0m\u001b[0m\n",
      "\u001b[0;32m/usr/local/lib/python3.8/dist-packages/torch/utils/data/_utils/fetch.py\u001b[0m in \u001b[0;36m<listcomp>\u001b[0;34m(.0)\u001b[0m\n\u001b[1;32m     42\u001b[0m     \u001b[0;32mdef\u001b[0m \u001b[0mfetch\u001b[0m\u001b[0;34m(\u001b[0m\u001b[0mself\u001b[0m\u001b[0;34m,\u001b[0m \u001b[0mpossibly_batched_index\u001b[0m\u001b[0;34m)\u001b[0m\u001b[0;34m:\u001b[0m\u001b[0;34m\u001b[0m\u001b[0;34m\u001b[0m\u001b[0m\n\u001b[1;32m     43\u001b[0m         \u001b[0;32mif\u001b[0m \u001b[0mself\u001b[0m\u001b[0;34m.\u001b[0m\u001b[0mauto_collation\u001b[0m\u001b[0;34m:\u001b[0m\u001b[0;34m\u001b[0m\u001b[0;34m\u001b[0m\u001b[0m\n\u001b[0;32m---> 44\u001b[0;31m             \u001b[0mdata\u001b[0m \u001b[0;34m=\u001b[0m \u001b[0;34m[\u001b[0m\u001b[0mself\u001b[0m\u001b[0;34m.\u001b[0m\u001b[0mdataset\u001b[0m\u001b[0;34m[\u001b[0m\u001b[0midx\u001b[0m\u001b[0;34m]\u001b[0m \u001b[0;32mfor\u001b[0m \u001b[0midx\u001b[0m \u001b[0;32min\u001b[0m \u001b[0mpossibly_batched_index\u001b[0m\u001b[0;34m]\u001b[0m\u001b[0;34m\u001b[0m\u001b[0;34m\u001b[0m\u001b[0m\n\u001b[0m\u001b[1;32m     45\u001b[0m         \u001b[0;32melse\u001b[0m\u001b[0;34m:\u001b[0m\u001b[0;34m\u001b[0m\u001b[0;34m\u001b[0m\u001b[0m\n\u001b[1;32m     46\u001b[0m             \u001b[0mdata\u001b[0m \u001b[0;34m=\u001b[0m \u001b[0mself\u001b[0m\u001b[0;34m.\u001b[0m\u001b[0mdataset\u001b[0m\u001b[0;34m[\u001b[0m\u001b[0mpossibly_batched_index\u001b[0m\u001b[0;34m]\u001b[0m\u001b[0;34m\u001b[0m\u001b[0;34m\u001b[0m\u001b[0m\n",
      "\u001b[0;32m~/Рабочий стол/python/yandex/study_cv/coco_person_detection/dataset.py\u001b[0m in \u001b[0;36m__getitem__\u001b[0;34m(self, idx)\u001b[0m\n\u001b[1;32m     32\u001b[0m     \u001b[0;32mdef\u001b[0m \u001b[0m__getitem__\u001b[0m\u001b[0;34m(\u001b[0m\u001b[0mself\u001b[0m\u001b[0;34m,\u001b[0m \u001b[0midx\u001b[0m\u001b[0;34m)\u001b[0m\u001b[0;34m:\u001b[0m\u001b[0;34m\u001b[0m\u001b[0;34m\u001b[0m\u001b[0m\n\u001b[1;32m     33\u001b[0m         \u001b[0mimg_path\u001b[0m \u001b[0;34m=\u001b[0m \u001b[0mself\u001b[0m\u001b[0;34m.\u001b[0m\u001b[0mimg_paths\u001b[0m\u001b[0;34m[\u001b[0m\u001b[0midx\u001b[0m\u001b[0;34m]\u001b[0m\u001b[0;34m\u001b[0m\u001b[0;34m\u001b[0m\u001b[0m\n\u001b[0;32m---> 34\u001b[0;31m         \u001b[0msample\u001b[0m \u001b[0;34m=\u001b[0m \u001b[0mself\u001b[0m\u001b[0;34m.\u001b[0m\u001b[0msamples\u001b[0m\u001b[0;34m[\u001b[0m\u001b[0mimg_path\u001b[0m\u001b[0;34m]\u001b[0m\u001b[0;34m\u001b[0m\u001b[0;34m\u001b[0m\u001b[0m\n\u001b[0m\u001b[1;32m     35\u001b[0m         \u001b[0mmetadata\u001b[0m \u001b[0;34m=\u001b[0m \u001b[0msample\u001b[0m\u001b[0;34m.\u001b[0m\u001b[0mmetadata\u001b[0m\u001b[0;34m\u001b[0m\u001b[0;34m\u001b[0m\u001b[0m\n\u001b[1;32m     36\u001b[0m         \u001b[0mimg\u001b[0m \u001b[0;34m=\u001b[0m \u001b[0mImage\u001b[0m\u001b[0;34m.\u001b[0m\u001b[0mopen\u001b[0m\u001b[0;34m(\u001b[0m\u001b[0mimg_path\u001b[0m\u001b[0;34m)\u001b[0m\u001b[0;34m.\u001b[0m\u001b[0mconvert\u001b[0m\u001b[0;34m(\u001b[0m\u001b[0;34m\"RGB\"\u001b[0m\u001b[0;34m)\u001b[0m\u001b[0;34m\u001b[0m\u001b[0;34m\u001b[0m\u001b[0m\n",
      "\u001b[0;32m/usr/local/lib/python3.8/dist-packages/fiftyone/core/view.py\u001b[0m in \u001b[0;36m__getitem__\u001b[0;34m(self, id_filepath_slice)\u001b[0m\n\u001b[1;32m     93\u001b[0m \u001b[0;34m\u001b[0m\u001b[0m\n\u001b[1;32m     94\u001b[0m         \u001b[0;32mtry\u001b[0m\u001b[0;34m:\u001b[0m\u001b[0;34m\u001b[0m\u001b[0;34m\u001b[0m\u001b[0m\n\u001b[0;32m---> 95\u001b[0;31m             \u001b[0;32mreturn\u001b[0m \u001b[0mnext\u001b[0m\u001b[0;34m(\u001b[0m\u001b[0miter\u001b[0m\u001b[0;34m(\u001b[0m\u001b[0mview\u001b[0m\u001b[0;34m)\u001b[0m\u001b[0;34m)\u001b[0m\u001b[0;34m\u001b[0m\u001b[0;34m\u001b[0m\u001b[0m\n\u001b[0m\u001b[1;32m     96\u001b[0m         \u001b[0;32mexcept\u001b[0m \u001b[0mStopIteration\u001b[0m\u001b[0;34m:\u001b[0m\u001b[0;34m\u001b[0m\u001b[0;34m\u001b[0m\u001b[0m\n\u001b[1;32m     97\u001b[0m             \u001b[0mfield\u001b[0m \u001b[0;34m=\u001b[0m \u001b[0;34m\"ID\"\u001b[0m \u001b[0;32mif\u001b[0m \u001b[0moid\u001b[0m \u001b[0;32mis\u001b[0m \u001b[0;32mnot\u001b[0m \u001b[0;32mNone\u001b[0m \u001b[0;32melse\u001b[0m \u001b[0;34m\"filepath\"\u001b[0m\u001b[0;34m\u001b[0m\u001b[0;34m\u001b[0m\u001b[0m\n",
      "\u001b[0;32m/usr/local/lib/python3.8/dist-packages/fiftyone/core/view.py\u001b[0m in \u001b[0;36miter_samples\u001b[0;34m(self, progress)\u001b[0m\n\u001b[1;32m    283\u001b[0m                     \u001b[0;32myield\u001b[0m \u001b[0msample\u001b[0m\u001b[0;34m\u001b[0m\u001b[0;34m\u001b[0m\u001b[0m\n\u001b[1;32m    284\u001b[0m         \u001b[0;32melse\u001b[0m\u001b[0;34m:\u001b[0m\u001b[0;34m\u001b[0m\u001b[0;34m\u001b[0m\u001b[0m\n\u001b[0;32m--> 285\u001b[0;31m             \u001b[0;32mfor\u001b[0m \u001b[0msample\u001b[0m \u001b[0;32min\u001b[0m \u001b[0mself\u001b[0m\u001b[0;34m.\u001b[0m\u001b[0m_iter_samples\u001b[0m\u001b[0;34m(\u001b[0m\u001b[0;34m)\u001b[0m\u001b[0;34m:\u001b[0m\u001b[0;34m\u001b[0m\u001b[0;34m\u001b[0m\u001b[0m\n\u001b[0m\u001b[1;32m    286\u001b[0m                 \u001b[0;32myield\u001b[0m \u001b[0msample\u001b[0m\u001b[0;34m\u001b[0m\u001b[0;34m\u001b[0m\u001b[0m\n\u001b[1;32m    287\u001b[0m \u001b[0;34m\u001b[0m\u001b[0m\n",
      "\u001b[0;32m/usr/local/lib/python3.8/dist-packages/fiftyone/core/view.py\u001b[0m in \u001b[0;36m_iter_samples\u001b[0;34m(self)\u001b[0m\n\u001b[1;32m    294\u001b[0m \u001b[0;34m\u001b[0m\u001b[0m\n\u001b[1;32m    295\u001b[0m         \u001b[0;32mtry\u001b[0m\u001b[0;34m:\u001b[0m\u001b[0;34m\u001b[0m\u001b[0;34m\u001b[0m\u001b[0m\n\u001b[0;32m--> 296\u001b[0;31m             \u001b[0;32mfor\u001b[0m \u001b[0md\u001b[0m \u001b[0;32min\u001b[0m \u001b[0mself\u001b[0m\u001b[0;34m.\u001b[0m\u001b[0m_aggregate\u001b[0m\u001b[0;34m(\u001b[0m\u001b[0mdetach_frames\u001b[0m\u001b[0;34m=\u001b[0m\u001b[0;32mTrue\u001b[0m\u001b[0;34m)\u001b[0m\u001b[0;34m:\u001b[0m\u001b[0;34m\u001b[0m\u001b[0;34m\u001b[0m\u001b[0m\n\u001b[0m\u001b[1;32m    297\u001b[0m                 \u001b[0;32mtry\u001b[0m\u001b[0;34m:\u001b[0m\u001b[0;34m\u001b[0m\u001b[0;34m\u001b[0m\u001b[0m\n\u001b[1;32m    298\u001b[0m                     \u001b[0mdoc\u001b[0m \u001b[0;34m=\u001b[0m \u001b[0mself\u001b[0m\u001b[0;34m.\u001b[0m\u001b[0m_dataset\u001b[0m\u001b[0;34m.\u001b[0m\u001b[0m_sample_dict_to_doc\u001b[0m\u001b[0;34m(\u001b[0m\u001b[0md\u001b[0m\u001b[0;34m)\u001b[0m\u001b[0;34m\u001b[0m\u001b[0;34m\u001b[0m\u001b[0m\n",
      "\u001b[0;32m/usr/local/lib/python3.8/dist-packages/fiftyone/core/view.py\u001b[0m in \u001b[0;36m_aggregate\u001b[0;34m(self, pipeline, attach_frames, detach_frames, frames_only)\u001b[0m\n\u001b[1;32m    743\u001b[0m             \u001b[0mframes_only\u001b[0m\u001b[0;34m=\u001b[0m\u001b[0mframes_only\u001b[0m\u001b[0;34m,\u001b[0m\u001b[0;34m\u001b[0m\u001b[0;34m\u001b[0m\u001b[0m\n\u001b[1;32m    744\u001b[0m         )\n\u001b[0;32m--> 745\u001b[0;31m         \u001b[0;32mreturn\u001b[0m \u001b[0mfoo\u001b[0m\u001b[0;34m.\u001b[0m\u001b[0maggregate\u001b[0m\u001b[0;34m(\u001b[0m\u001b[0mself\u001b[0m\u001b[0;34m.\u001b[0m\u001b[0m_dataset\u001b[0m\u001b[0;34m.\u001b[0m\u001b[0m_sample_collection\u001b[0m\u001b[0;34m,\u001b[0m \u001b[0m_pipeline\u001b[0m\u001b[0;34m)\u001b[0m\u001b[0;34m\u001b[0m\u001b[0;34m\u001b[0m\u001b[0m\n\u001b[0m\u001b[1;32m    746\u001b[0m \u001b[0;34m\u001b[0m\u001b[0m\n\u001b[1;32m    747\u001b[0m     \u001b[0;32mdef\u001b[0m \u001b[0m_serialize\u001b[0m\u001b[0;34m(\u001b[0m\u001b[0mself\u001b[0m\u001b[0;34m,\u001b[0m \u001b[0minclude_uuids\u001b[0m\u001b[0;34m=\u001b[0m\u001b[0;32mTrue\u001b[0m\u001b[0;34m)\u001b[0m\u001b[0;34m:\u001b[0m\u001b[0;34m\u001b[0m\u001b[0;34m\u001b[0m\u001b[0m\n",
      "\u001b[0;32m/usr/local/lib/python3.8/dist-packages/fiftyone/core/odm/database.py\u001b[0m in \u001b[0;36maggregate\u001b[0;34m(collection, pipelines)\u001b[0m\n\u001b[1;32m    165\u001b[0m \u001b[0;34m\u001b[0m\u001b[0m\n\u001b[1;32m    166\u001b[0m     \u001b[0;32mif\u001b[0m \u001b[0mnum_pipelines\u001b[0m \u001b[0;34m==\u001b[0m \u001b[0;36m1\u001b[0m\u001b[0;34m:\u001b[0m\u001b[0;34m\u001b[0m\u001b[0;34m\u001b[0m\u001b[0m\n\u001b[0;32m--> 167\u001b[0;31m         \u001b[0mresult\u001b[0m \u001b[0;34m=\u001b[0m \u001b[0mcollection\u001b[0m\u001b[0;34m.\u001b[0m\u001b[0maggregate\u001b[0m\u001b[0;34m(\u001b[0m\u001b[0mpipelines\u001b[0m\u001b[0;34m[\u001b[0m\u001b[0;36m0\u001b[0m\u001b[0;34m]\u001b[0m\u001b[0;34m,\u001b[0m \u001b[0mallowDiskUse\u001b[0m\u001b[0;34m=\u001b[0m\u001b[0;32mTrue\u001b[0m\u001b[0;34m)\u001b[0m\u001b[0;34m\u001b[0m\u001b[0;34m\u001b[0m\u001b[0m\n\u001b[0m\u001b[1;32m    168\u001b[0m         \u001b[0;32mreturn\u001b[0m \u001b[0;34m[\u001b[0m\u001b[0mresult\u001b[0m\u001b[0;34m]\u001b[0m \u001b[0;32mif\u001b[0m \u001b[0mis_list\u001b[0m \u001b[0;32melse\u001b[0m \u001b[0mresult\u001b[0m\u001b[0;34m\u001b[0m\u001b[0;34m\u001b[0m\u001b[0m\n\u001b[1;32m    169\u001b[0m \u001b[0;34m\u001b[0m\u001b[0m\n",
      "\u001b[0;32m/usr/local/lib/python3.8/dist-packages/pymongo/collection.py\u001b[0m in \u001b[0;36maggregate\u001b[0;34m(self, pipeline, session, **kwargs)\u001b[0m\n\u001b[1;32m   2494\u001b[0m         \"\"\"\n\u001b[1;32m   2495\u001b[0m         \u001b[0;32mwith\u001b[0m \u001b[0mself\u001b[0m\u001b[0;34m.\u001b[0m\u001b[0m__database\u001b[0m\u001b[0;34m.\u001b[0m\u001b[0mclient\u001b[0m\u001b[0;34m.\u001b[0m\u001b[0m_tmp_session\u001b[0m\u001b[0;34m(\u001b[0m\u001b[0msession\u001b[0m\u001b[0;34m,\u001b[0m \u001b[0mclose\u001b[0m\u001b[0;34m=\u001b[0m\u001b[0;32mFalse\u001b[0m\u001b[0;34m)\u001b[0m \u001b[0;32mas\u001b[0m \u001b[0ms\u001b[0m\u001b[0;34m:\u001b[0m\u001b[0;34m\u001b[0m\u001b[0;34m\u001b[0m\u001b[0m\n\u001b[0;32m-> 2496\u001b[0;31m             return self._aggregate(_CollectionAggregationCommand,\n\u001b[0m\u001b[1;32m   2497\u001b[0m                                    \u001b[0mpipeline\u001b[0m\u001b[0;34m,\u001b[0m\u001b[0;34m\u001b[0m\u001b[0;34m\u001b[0m\u001b[0m\n\u001b[1;32m   2498\u001b[0m                                    \u001b[0mCommandCursor\u001b[0m\u001b[0;34m,\u001b[0m\u001b[0;34m\u001b[0m\u001b[0;34m\u001b[0m\u001b[0m\n",
      "\u001b[0;32m/usr/local/lib/python3.8/dist-packages/pymongo/collection.py\u001b[0m in \u001b[0;36m_aggregate\u001b[0;34m(self, aggregation_command, pipeline, cursor_class, session, explicit_session, **kwargs)\u001b[0m\n\u001b[1;32m   2416\u001b[0m             \u001b[0mself\u001b[0m\u001b[0;34m,\u001b[0m \u001b[0mcursor_class\u001b[0m\u001b[0;34m,\u001b[0m \u001b[0mpipeline\u001b[0m\u001b[0;34m,\u001b[0m \u001b[0mkwargs\u001b[0m\u001b[0;34m,\u001b[0m \u001b[0mexplicit_session\u001b[0m\u001b[0;34m,\u001b[0m\u001b[0;34m\u001b[0m\u001b[0;34m\u001b[0m\u001b[0m\n\u001b[1;32m   2417\u001b[0m             user_fields={'cursor': {'firstBatch': 1}}, use_cursor=use_cursor)\n\u001b[0;32m-> 2418\u001b[0;31m         return self.__database.client._retryable_read(\n\u001b[0m\u001b[1;32m   2419\u001b[0m             \u001b[0mcmd\u001b[0m\u001b[0;34m.\u001b[0m\u001b[0mget_cursor\u001b[0m\u001b[0;34m,\u001b[0m \u001b[0mcmd\u001b[0m\u001b[0;34m.\u001b[0m\u001b[0mget_read_preference\u001b[0m\u001b[0;34m(\u001b[0m\u001b[0msession\u001b[0m\u001b[0;34m)\u001b[0m\u001b[0;34m,\u001b[0m \u001b[0msession\u001b[0m\u001b[0;34m,\u001b[0m\u001b[0;34m\u001b[0m\u001b[0;34m\u001b[0m\u001b[0m\n\u001b[1;32m   2420\u001b[0m             retryable=not cmd._performs_write)\n",
      "\u001b[0;32m/usr/local/lib/python3.8/dist-packages/pymongo/mongo_client.py\u001b[0m in \u001b[0;36m_retryable_read\u001b[0;34m(self, func, read_pref, session, address, retryable)\u001b[0m\n\u001b[1;32m   1523\u001b[0m                         \u001b[0;31m# not support retryable reads, raise the last error.\u001b[0m\u001b[0;34m\u001b[0m\u001b[0;34m\u001b[0m\u001b[0;34m\u001b[0m\u001b[0m\n\u001b[1;32m   1524\u001b[0m                         \u001b[0;32mraise\u001b[0m \u001b[0mlast_error\u001b[0m\u001b[0;34m\u001b[0m\u001b[0;34m\u001b[0m\u001b[0m\n\u001b[0;32m-> 1525\u001b[0;31m                     \u001b[0;32mreturn\u001b[0m \u001b[0mfunc\u001b[0m\u001b[0;34m(\u001b[0m\u001b[0msession\u001b[0m\u001b[0;34m,\u001b[0m \u001b[0mserver\u001b[0m\u001b[0;34m,\u001b[0m \u001b[0msock_info\u001b[0m\u001b[0;34m,\u001b[0m \u001b[0msecondary_ok\u001b[0m\u001b[0;34m)\u001b[0m\u001b[0;34m\u001b[0m\u001b[0;34m\u001b[0m\u001b[0m\n\u001b[0m\u001b[1;32m   1526\u001b[0m             \u001b[0;32mexcept\u001b[0m \u001b[0mServerSelectionTimeoutError\u001b[0m\u001b[0;34m:\u001b[0m\u001b[0;34m\u001b[0m\u001b[0;34m\u001b[0m\u001b[0m\n\u001b[1;32m   1527\u001b[0m                 \u001b[0;32mif\u001b[0m \u001b[0mretrying\u001b[0m\u001b[0;34m:\u001b[0m\u001b[0;34m\u001b[0m\u001b[0;34m\u001b[0m\u001b[0m\n",
      "\u001b[0;32m/usr/local/lib/python3.8/dist-packages/pymongo/aggregation.py\u001b[0m in \u001b[0;36mget_cursor\u001b[0;34m(self, session, server, sock_info, secondary_ok)\u001b[0m\n\u001b[1;32m    135\u001b[0m \u001b[0;34m\u001b[0m\u001b[0m\n\u001b[1;32m    136\u001b[0m         \u001b[0;31m# Run command.\u001b[0m\u001b[0;34m\u001b[0m\u001b[0;34m\u001b[0m\u001b[0;34m\u001b[0m\u001b[0m\n\u001b[0;32m--> 137\u001b[0;31m         result = sock_info.command(\n\u001b[0m\u001b[1;32m    138\u001b[0m             \u001b[0mself\u001b[0m\u001b[0;34m.\u001b[0m\u001b[0m_database\u001b[0m\u001b[0;34m.\u001b[0m\u001b[0mname\u001b[0m\u001b[0;34m,\u001b[0m\u001b[0;34m\u001b[0m\u001b[0;34m\u001b[0m\u001b[0m\n\u001b[1;32m    139\u001b[0m             \u001b[0mcmd\u001b[0m\u001b[0;34m,\u001b[0m\u001b[0;34m\u001b[0m\u001b[0;34m\u001b[0m\u001b[0m\n",
      "\u001b[0;32m/usr/local/lib/python3.8/dist-packages/pymongo/pool.py\u001b[0m in \u001b[0;36mcommand\u001b[0;34m(self, dbname, spec, secondary_ok, read_preference, codec_options, check, allowable_errors, check_keys, read_concern, write_concern, parse_write_concern_error, collation, session, client, retryable_write, publish_events, user_fields, exhaust_allowed)\u001b[0m\n\u001b[1;32m    724\u001b[0m         \u001b[0;31m# Catch socket.error, KeyboardInterrupt, etc. and close ourselves.\u001b[0m\u001b[0;34m\u001b[0m\u001b[0;34m\u001b[0m\u001b[0;34m\u001b[0m\u001b[0m\n\u001b[1;32m    725\u001b[0m         \u001b[0;32mexcept\u001b[0m \u001b[0mBaseException\u001b[0m \u001b[0;32mas\u001b[0m \u001b[0merror\u001b[0m\u001b[0;34m:\u001b[0m\u001b[0;34m\u001b[0m\u001b[0;34m\u001b[0m\u001b[0m\n\u001b[0;32m--> 726\u001b[0;31m             \u001b[0mself\u001b[0m\u001b[0;34m.\u001b[0m\u001b[0m_raise_connection_failure\u001b[0m\u001b[0;34m(\u001b[0m\u001b[0merror\u001b[0m\u001b[0;34m)\u001b[0m\u001b[0;34m\u001b[0m\u001b[0;34m\u001b[0m\u001b[0m\n\u001b[0m\u001b[1;32m    727\u001b[0m \u001b[0;34m\u001b[0m\u001b[0m\n\u001b[1;32m    728\u001b[0m     \u001b[0;32mdef\u001b[0m \u001b[0msend_message\u001b[0m\u001b[0;34m(\u001b[0m\u001b[0mself\u001b[0m\u001b[0;34m,\u001b[0m \u001b[0mmessage\u001b[0m\u001b[0;34m,\u001b[0m \u001b[0mmax_doc_size\u001b[0m\u001b[0;34m)\u001b[0m\u001b[0;34m:\u001b[0m\u001b[0;34m\u001b[0m\u001b[0;34m\u001b[0m\u001b[0m\n",
      "\u001b[0;32m/usr/local/lib/python3.8/dist-packages/pymongo/pool.py\u001b[0m in \u001b[0;36mcommand\u001b[0;34m(self, dbname, spec, secondary_ok, read_preference, codec_options, check, allowable_errors, check_keys, read_concern, write_concern, parse_write_concern_error, collation, session, client, retryable_write, publish_events, user_fields, exhaust_allowed)\u001b[0m\n\u001b[1;32m    708\u001b[0m             \u001b[0mself\u001b[0m\u001b[0;34m.\u001b[0m\u001b[0m_raise_if_not_writable\u001b[0m\u001b[0;34m(\u001b[0m\u001b[0munacknowledged\u001b[0m\u001b[0;34m)\u001b[0m\u001b[0;34m\u001b[0m\u001b[0;34m\u001b[0m\u001b[0m\n\u001b[1;32m    709\u001b[0m         \u001b[0;32mtry\u001b[0m\u001b[0;34m:\u001b[0m\u001b[0;34m\u001b[0m\u001b[0;34m\u001b[0m\u001b[0m\n\u001b[0;32m--> 710\u001b[0;31m             return command(self, dbname, spec, secondary_ok,\n\u001b[0m\u001b[1;32m    711\u001b[0m                            \u001b[0mself\u001b[0m\u001b[0;34m.\u001b[0m\u001b[0mis_mongos\u001b[0m\u001b[0;34m,\u001b[0m \u001b[0mread_preference\u001b[0m\u001b[0;34m,\u001b[0m \u001b[0mcodec_options\u001b[0m\u001b[0;34m,\u001b[0m\u001b[0;34m\u001b[0m\u001b[0;34m\u001b[0m\u001b[0m\n\u001b[1;32m    712\u001b[0m                            \u001b[0msession\u001b[0m\u001b[0;34m,\u001b[0m \u001b[0mclient\u001b[0m\u001b[0;34m,\u001b[0m \u001b[0mcheck\u001b[0m\u001b[0;34m,\u001b[0m \u001b[0mallowable_errors\u001b[0m\u001b[0;34m,\u001b[0m\u001b[0;34m\u001b[0m\u001b[0;34m\u001b[0m\u001b[0m\n",
      "\u001b[0;32m/usr/local/lib/python3.8/dist-packages/pymongo/network.py\u001b[0m in \u001b[0;36mcommand\u001b[0;34m(sock_info, dbname, spec, secondary_ok, is_mongos, read_preference, codec_options, session, client, check, allowable_errors, address, check_keys, listeners, max_bson_size, read_concern, parse_write_concern_error, collation, compression_ctx, use_op_msg, unacknowledged, user_fields, exhaust_allowed)\u001b[0m\n\u001b[1;32m    147\u001b[0m             \u001b[0mresponse_doc\u001b[0m \u001b[0;34m=\u001b[0m \u001b[0;34m{\u001b[0m\u001b[0;34m\"ok\"\u001b[0m\u001b[0;34m:\u001b[0m \u001b[0;36m1\u001b[0m\u001b[0;34m}\u001b[0m\u001b[0;34m\u001b[0m\u001b[0;34m\u001b[0m\u001b[0m\n\u001b[1;32m    148\u001b[0m         \u001b[0;32melse\u001b[0m\u001b[0;34m:\u001b[0m\u001b[0;34m\u001b[0m\u001b[0;34m\u001b[0m\u001b[0m\n\u001b[0;32m--> 149\u001b[0;31m             \u001b[0mreply\u001b[0m \u001b[0;34m=\u001b[0m \u001b[0mreceive_message\u001b[0m\u001b[0;34m(\u001b[0m\u001b[0msock_info\u001b[0m\u001b[0;34m,\u001b[0m \u001b[0mrequest_id\u001b[0m\u001b[0;34m)\u001b[0m\u001b[0;34m\u001b[0m\u001b[0;34m\u001b[0m\u001b[0m\n\u001b[0m\u001b[1;32m    150\u001b[0m             \u001b[0msock_info\u001b[0m\u001b[0;34m.\u001b[0m\u001b[0mmore_to_come\u001b[0m \u001b[0;34m=\u001b[0m \u001b[0mreply\u001b[0m\u001b[0;34m.\u001b[0m\u001b[0mmore_to_come\u001b[0m\u001b[0;34m\u001b[0m\u001b[0;34m\u001b[0m\u001b[0m\n\u001b[1;32m    151\u001b[0m             unpacked_docs = reply.unpack_response(\n",
      "\u001b[0;32m/usr/local/lib/python3.8/dist-packages/pymongo/network.py\u001b[0m in \u001b[0;36mreceive_message\u001b[0;34m(sock_info, request_id, max_message_size)\u001b[0m\n\u001b[1;32m    194\u001b[0m     \u001b[0;31m# Ignore the response's request id.\u001b[0m\u001b[0;34m\u001b[0m\u001b[0;34m\u001b[0m\u001b[0;34m\u001b[0m\u001b[0m\n\u001b[1;32m    195\u001b[0m     length, _, response_to, op_code = _UNPACK_HEADER(\n\u001b[0;32m--> 196\u001b[0;31m         _receive_data_on_socket(sock_info, 16, deadline))\n\u001b[0m\u001b[1;32m    197\u001b[0m     \u001b[0;31m# No request_id for exhaust cursor \"getMore\".\u001b[0m\u001b[0;34m\u001b[0m\u001b[0;34m\u001b[0m\u001b[0;34m\u001b[0m\u001b[0m\n\u001b[1;32m    198\u001b[0m     \u001b[0;32mif\u001b[0m \u001b[0mrequest_id\u001b[0m \u001b[0;32mis\u001b[0m \u001b[0;32mnot\u001b[0m \u001b[0;32mNone\u001b[0m\u001b[0;34m:\u001b[0m\u001b[0;34m\u001b[0m\u001b[0;34m\u001b[0m\u001b[0m\n",
      "\u001b[0;32m/usr/local/lib/python3.8/dist-packages/pymongo/network.py\u001b[0m in \u001b[0;36m_receive_data_on_socket\u001b[0;34m(sock_info, length, deadline)\u001b[0m\n\u001b[1;32m    285\u001b[0m             \u001b[0;32mtry\u001b[0m\u001b[0;34m:\u001b[0m\u001b[0;34m\u001b[0m\u001b[0;34m\u001b[0m\u001b[0m\n\u001b[1;32m    286\u001b[0m                 \u001b[0mwait_for_read\u001b[0m\u001b[0;34m(\u001b[0m\u001b[0msock_info\u001b[0m\u001b[0;34m,\u001b[0m \u001b[0mdeadline\u001b[0m\u001b[0;34m)\u001b[0m\u001b[0;34m\u001b[0m\u001b[0;34m\u001b[0m\u001b[0m\n\u001b[0;32m--> 287\u001b[0;31m                 \u001b[0mchunk_length\u001b[0m \u001b[0;34m=\u001b[0m \u001b[0msock_info\u001b[0m\u001b[0;34m.\u001b[0m\u001b[0msock\u001b[0m\u001b[0;34m.\u001b[0m\u001b[0mrecv_into\u001b[0m\u001b[0;34m(\u001b[0m\u001b[0mmv\u001b[0m\u001b[0;34m[\u001b[0m\u001b[0mbytes_read\u001b[0m\u001b[0;34m:\u001b[0m\u001b[0;34m]\u001b[0m\u001b[0;34m)\u001b[0m\u001b[0;34m\u001b[0m\u001b[0;34m\u001b[0m\u001b[0m\n\u001b[0m\u001b[1;32m    288\u001b[0m             \u001b[0;32mexcept\u001b[0m \u001b[0;34m(\u001b[0m\u001b[0mIOError\u001b[0m\u001b[0;34m,\u001b[0m \u001b[0mOSError\u001b[0m\u001b[0;34m)\u001b[0m \u001b[0;32mas\u001b[0m \u001b[0mexc\u001b[0m\u001b[0;34m:\u001b[0m\u001b[0;34m\u001b[0m\u001b[0;34m\u001b[0m\u001b[0m\n\u001b[1;32m    289\u001b[0m                 \u001b[0;32mif\u001b[0m \u001b[0m_errno_from_exception\u001b[0m\u001b[0;34m(\u001b[0m\u001b[0mexc\u001b[0m\u001b[0;34m)\u001b[0m \u001b[0;34m==\u001b[0m \u001b[0merrno\u001b[0m\u001b[0;34m.\u001b[0m\u001b[0mEINTR\u001b[0m\u001b[0;34m:\u001b[0m\u001b[0;34m\u001b[0m\u001b[0;34m\u001b[0m\u001b[0m\n",
      "\u001b[0;31mKeyboardInterrupt\u001b[0m: "
     ]
    }
   ],
   "source": [
    "extended_model = find_hyperparameters(config)"
   ]
  },
  {
   "cell_type": "code",
   "execution_count": null,
   "metadata": {},
   "outputs": [],
   "source": [
    "from matplotlib import pyplot as plt"
   ]
  },
  {
   "cell_type": "code",
   "execution_count": null,
   "metadata": {},
   "outputs": [],
   "source": [
    "viewer.visualize_loss_history(extended_model)"
   ]
  },
  {
   "cell_type": "code",
   "execution_count": null,
   "metadata": {},
   "outputs": [],
   "source": [
    "viewer.visualize_metric_history(extended_model)"
   ]
  },
  {
   "cell_type": "code",
   "execution_count": null,
   "metadata": {},
   "outputs": [],
   "source": [
    "resourceMonitor.print_statistics('MB')"
   ]
  },
  {
   "cell_type": "code",
   "execution_count": null,
   "metadata": {},
   "outputs": [],
   "source": [
    "==============================================="
   ]
  },
  {
   "cell_type": "code",
   "execution_count": null,
   "metadata": {},
   "outputs": [],
   "source": [
    "extended_model.save_best_model()"
   ]
  },
  {
   "cell_type": "code",
   "execution_count": null,
   "metadata": {},
   "outputs": [],
   "source": [
    "extended_model.deployment_best_model()"
   ]
  },
  {
   "cell_type": "code",
   "execution_count": null,
   "metadata": {},
   "outputs": [],
   "source": [
    "==============================================="
   ]
  },
  {
   "cell_type": "code",
   "execution_count": null,
   "metadata": {},
   "outputs": [],
   "source": [
    "def predict(index):\n",
    "    img, target = torch_dataset[index]\n",
    "    pred = extended_model.torch_model(img.unsqueeze(0))[0]\n",
    "    \n",
    "    original_img = Image.open(target['img_path']).convert(\"RGB\")\n",
    "    viewer.print_prediction(original_img, target, pred)"
   ]
  },
  {
   "cell_type": "code",
   "execution_count": null,
   "metadata": {},
   "outputs": [],
   "source": [
    "for i in range(10, 170):\n",
    "    predict(i)"
   ]
  },
  {
   "cell_type": "code",
   "execution_count": null,
   "metadata": {},
   "outputs": [],
   "source": [
    "==============================================="
   ]
  },
  {
   "cell_type": "code",
   "execution_count": null,
   "metadata": {},
   "outputs": [],
   "source": []
  },
  {
   "cell_type": "code",
   "execution_count": null,
   "metadata": {},
   "outputs": [],
   "source": [
    "==============================================="
   ]
  },
  {
   "cell_type": "markdown",
   "metadata": {},
   "source": [
    "# Visualization"
   ]
  },
  {
   "cell_type": "code",
   "execution_count": null,
   "metadata": {},
   "outputs": [],
   "source": [
    "import fiftyone as fo\n",
    "\n",
    "def convert_torch_predictions(preds, det_id, s_id, w, h, classes):\n",
    "    # Convert the outputs of the torch model into a FiftyOne Detections object\n",
    "    dets = []\n",
    "    #if preds[0] < 0.5:\n",
    "     #   detections = fo.Detections(detections=dets)\n",
    "      #  return detections, det_id\n",
    "    \n",
    "    # Parse prediction into FiftyOne Detection object\n",
    "    x0,y0,x1,y1 = preds[1:]\n",
    "    coco_obj = fouc.COCOObject(det_id, s_id, int(1), [x0, y0, x1-x0, y1-y0])\n",
    "    det = coco_obj.to_detection((w,h), classes)\n",
    "    dets.append(det)\n",
    "    det_id += 1\n",
    "        \n",
    "    detections = fo.Detections(detections=dets)\n",
    "        \n",
    "    return detections, det_id\n",
    "\n",
    "def add_detections(model, torch_dataset, view, field_name=\"predictions\"):\n",
    "    # Run inference on a dataset and add results to FiftyOne\n",
    "    torch.set_num_threads(1)\n",
    "    device = torch.device('cuda') if torch.cuda.is_available() else torch.device('cpu')\n",
    "    print(\"Using device %s\" % device)\n",
    "\n",
    "    model.eval()\n",
    "    model.to(device)\n",
    "    image_paths = torch_dataset.img_paths\n",
    "    classes = torch_dataset.classes\n",
    "    det_id = 0\n",
    "    \n",
    "    with fo.ProgressBar() as pb:\n",
    "        for img, targets in pb(torch_dataset):\n",
    "            sample = view[targets[\"img_path\"]]\n",
    "            s_id = sample.id\n",
    "            w = sample.metadata[\"width\"]\n",
    "            h = sample.metadata[\"height\"]\n",
    "            \n",
    "            # Inference\n",
    "            preds = model(img.unsqueeze(0).to(device))[0]\n",
    "            \n",
    "            detections, det_id = convert_torch_predictions(\n",
    "                preds, \n",
    "                det_id, \n",
    "                s_id, \n",
    "                w, \n",
    "                h, \n",
    "                classes,\n",
    "            )\n",
    "            \n",
    "            sample[\"predictions\"] = detections\n",
    "            sample.save()"
   ]
  },
  {
   "cell_type": "code",
   "execution_count": null,
   "metadata": {},
   "outputs": [],
   "source": [
    "add_detections(model, torch_dataset_test, fo_dataset)"
   ]
  },
  {
   "cell_type": "code",
   "execution_count": null,
   "metadata": {},
   "outputs": [],
   "source": [
    "session = fo.launch_app(fo_dataset)"
   ]
  },
  {
   "cell_type": "code",
   "execution_count": null,
   "metadata": {},
   "outputs": [],
   "source": []
  }
 ],
 "metadata": {
  "kernelspec": {
   "display_name": "Python 3",
   "language": "python",
   "name": "python3"
  },
  "language_info": {
   "codemirror_mode": {
    "name": "ipython",
    "version": 3
   },
   "file_extension": ".py",
   "mimetype": "text/x-python",
   "name": "python",
   "nbconvert_exporter": "python",
   "pygments_lexer": "ipython3",
   "version": "3.8.10"
  },
  "toc": {
   "base_numbering": 1,
   "nav_menu": {},
   "number_sections": true,
   "sideBar": true,
   "skip_h1_title": true,
   "title_cell": "Оглавление",
   "title_sidebar": "Оглавление",
   "toc_cell": true,
   "toc_position": {},
   "toc_section_display": true,
   "toc_window_display": false
  }
 },
 "nbformat": 4,
 "nbformat_minor": 4
}
