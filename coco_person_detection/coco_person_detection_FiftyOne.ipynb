{
 "cells": [
  {
   "cell_type": "code",
   "execution_count": 1,
   "metadata": {},
   "outputs": [],
   "source": [
    "%load_ext autoreload\n",
    "%autoreload 2"
   ]
  },
  {
   "cell_type": "markdown",
   "metadata": {
    "toc": true
   },
   "source": [
    "<h1>Оглавление<span class=\"tocSkip\"></span></h1>\n",
    "<div class=\"toc\"><ul class=\"toc-item\"><li><span><a href=\"#Data-loader\" data-toc-modified-id=\"Data-loader-1\"><span class=\"toc-item-num\">1&nbsp;&nbsp;</span>Data loader</a></span></li></ul></div>"
   ]
  },
  {
   "cell_type": "markdown",
   "metadata": {},
   "source": [
    "# Подключение библиотек"
   ]
  },
  {
   "cell_type": "code",
   "execution_count": 2,
   "metadata": {},
   "outputs": [
    {
     "name": "stdout",
     "output_type": "stream",
     "text": [
      "Downloading split 'validation' to '/mnt/heap/validation' if necessary\n",
      "Found annotations at '/mnt/heap/raw/instances_val2017.json'\n",
      "Images already downloaded\n",
      "Existing download of split 'validation' is sufficient\n",
      "Loading 'coco-2017' split 'validation'\n",
      " 100% |███████████████| 5000/5000 [23.7s elapsed, 0s remaining, 215.1 samples/s]      \n",
      "Dataset 'coco-2017-validation' created\n"
     ]
    }
   ],
   "source": [
    "import fiftyone as fo\n",
    "import fiftyone.zoo as foz\n",
    "from dataset import FiftyOneTorchDataset\n",
    "\n",
    "# Download and load the validation split of COCO-2017\n",
    "fo_dataset = foz.load_zoo_dataset(\"coco-2017\", split=\"validation\",\n",
    "                               dataset_dir='/mnt/heap')"
   ]
  },
  {
   "cell_type": "markdown",
   "metadata": {},
   "source": [
    "session = fo.launch_app(dataset)"
   ]
  },
  {
   "cell_type": "code",
   "execution_count": 3,
   "metadata": {},
   "outputs": [],
   "source": [
    "fo_dataset.compute_metadata()"
   ]
  },
  {
   "cell_type": "markdown",
   "metadata": {},
   "source": [
    "## Data set"
   ]
  },
  {
   "cell_type": "code",
   "execution_count": 4,
   "metadata": {},
   "outputs": [],
   "source": [
    "import torch\n",
    "from viewer import Viewer\n",
    "from PIL import Image"
   ]
  },
  {
   "cell_type": "code",
   "execution_count": 5,
   "metadata": {},
   "outputs": [],
   "source": [
    "viewer = Viewer()"
   ]
  },
  {
   "cell_type": "code",
   "execution_count": 6,
   "metadata": {},
   "outputs": [
    {
     "name": "stdout",
     "output_type": "stream",
     "text": [
      "2930\n"
     ]
    }
   ],
   "source": [
    "from fiftyone import ViewField as F\n",
    "\n",
    "person_list = ['person',\"car\", \"truck\", \"bus\"]\n",
    "person_view = fo_dataset.filter_labels(\"ground_truth\",\n",
    "        F(\"label\").is_in(person_list)) #.match(F(\"ground_truth.detections\").length() == 1)\n",
    "print(len(person_view))"
   ]
  },
  {
   "cell_type": "markdown",
   "metadata": {},
   "source": [
    "## Data loader"
   ]
  },
  {
   "cell_type": "code",
   "execution_count": 7,
   "metadata": {},
   "outputs": [],
   "source": [
    "import torchvision.transforms as T\n",
    "\n",
    "img_size = (256, 256)\n",
    "train_transforms = T.Compose([T.Resize(img_size),\n",
    "                              T.ToTensor()])\n",
    "test_transforms = T.Compose([T.Resize(img_size),\n",
    "                             T.ToTensor()])"
   ]
  },
  {
   "cell_type": "code",
   "execution_count": 8,
   "metadata": {},
   "outputs": [],
   "source": [
    "# split the dataset in train and test set\n",
    "train_view = person_view.take(len(person_view) * 0.75, seed=51)\n",
    "test_view = person_view.exclude([s.id for s in train_view])"
   ]
  },
  {
   "cell_type": "code",
   "execution_count": 9,
   "metadata": {},
   "outputs": [],
   "source": [
    "torch_dataset = FiftyOneTorchDataset(train_view, train_transforms,\n",
    "        classes=person_list)\n",
    "torch_dataset_test = FiftyOneTorchDataset(test_view, test_transforms, \n",
    "        classes=person_list)"
   ]
  },
  {
   "cell_type": "code",
   "execution_count": 10,
   "metadata": {},
   "outputs": [
    {
     "data": {
      "text/plain": [
       "2197"
      ]
     },
     "execution_count": 10,
     "metadata": {},
     "output_type": "execute_result"
    }
   ],
   "source": [
    "len(torch_dataset)"
   ]
  },
  {
   "cell_type": "code",
   "execution_count": 11,
   "metadata": {},
   "outputs": [
    {
     "data": {
      "text/plain": [
       "733"
      ]
     },
     "execution_count": 11,
     "metadata": {},
     "output_type": "execute_result"
    }
   ],
   "source": [
    "len(torch_dataset_test)"
   ]
  },
  {
   "cell_type": "code",
   "execution_count": 12,
   "metadata": {},
   "outputs": [],
   "source": [
    "# define training and validation data loaders\n",
    "data_loader = torch.utils.data.DataLoader(\n",
    "        torch_dataset, batch_size=64)\n",
    "    \n",
    "data_loader_test = torch.utils.data.DataLoader(\n",
    "        torch_dataset_test, batch_size=64, shuffle=False)"
   ]
  },
  {
   "cell_type": "markdown",
   "metadata": {},
   "source": [
    "# Train loop"
   ]
  },
  {
   "cell_type": "code",
   "execution_count": 13,
   "metadata": {},
   "outputs": [],
   "source": [
    "from itertools import product\n",
    "from pytorch_helper import PyTorchHelper"
   ]
  },
  {
   "cell_type": "code",
   "execution_count": 14,
   "metadata": {},
   "outputs": [],
   "source": [
    "loss_function_xy = torch.nn.MSELoss()\n",
    "loss_function_bce = torch.nn.CrossEntropyLoss()"
   ]
  },
  {
   "cell_type": "code",
   "execution_count": 15,
   "metadata": {},
   "outputs": [],
   "source": [
    "from extended_model import ExtendedModel"
   ]
  },
  {
   "cell_type": "code",
   "execution_count": 28,
   "metadata": {},
   "outputs": [],
   "source": [
    "from pytorch_helper import PyTorchHelper\n",
    "\n",
    "def find_hyperparameters(config):\n",
    "    learning_rates = [1e-1]\n",
    "    anneal_coeff = 0.2\n",
    "    anneal_epochs = [10]\n",
    "    regs = config['regs']\n",
    "    optimizers = config['optimizers']\n",
    "\n",
    "    batch_size = 64\n",
    "    epoch_num = 10\n",
    "\n",
    "    run_record = {} \n",
    "    \n",
    "    helper = PyTorchHelper(8,  None)\n",
    "\n",
    "    lenet_model = None\n",
    "    val_loss = 8\n",
    "    loss_history = None\n",
    "    for lr, reg, anneal_epoch, optimizer in product(learning_rates, regs, anneal_epochs, optimizers):\n",
    "        \n",
    "        lenet_model = ExtendedModel(config['model'](), config['need_train'], config['model_name'])\n",
    "        if not lenet_model.need_train:\n",
    "            if lenet_model.load_model():\n",
    "                return lenet_model\n",
    "        \n",
    "        optimizer = optimizer(lenet_model.torch_model.parameters(), lr=lr, weight_decay=reg)\n",
    "        scheduler = optim.lr_scheduler.StepLR(optimizer, step_size=anneal_epoch, gamma=anneal_coeff)\n",
    "\n",
    "        model, train_loss_history, val_loss_history, train_metric_history, val_metric_history = helper.train_model(lenet_model.torch_model, data_loader, data_loader_test, optimizer, epoch_num, scheduler)\n",
    "        lenet_model.add_history(train_loss_history, val_loss_history, train_metric_history, val_metric_history)\n",
    "\n",
    "    return lenet_model"
   ]
  },
  {
   "cell_type": "code",
   "execution_count": 29,
   "metadata": {},
   "outputs": [],
   "source": [
    "import torch\n",
    "import torch.nn as nn\n",
    "import torch.optim as optim\n",
    "\n",
    "from torchvision.models import resnet18"
   ]
  },
  {
   "cell_type": "code",
   "execution_count": 30,
   "metadata": {},
   "outputs": [],
   "source": [
    "def net():\n",
    "    model = resnet18(pretrained=True)\n",
    "    model.fc = nn.Linear(in_features=512, out_features=5)\n",
    "    return model"
   ]
  },
  {
   "cell_type": "code",
   "execution_count": 31,
   "metadata": {},
   "outputs": [],
   "source": [
    "config = {\n",
    "    'need_train': True,\n",
    "    'regs': [0.001],\n",
    "    'optimizers': [optim.Adam],\n",
    "    'model': net,\n",
    "    'model_name': 'best_lenet'    \n",
    "}"
   ]
  },
  {
   "cell_type": "code",
   "execution_count": 32,
   "metadata": {},
   "outputs": [],
   "source": [
    "from resource_monitor import ResourceMonitor\n",
    "resourceMonitor = ResourceMonitor()"
   ]
  },
  {
   "cell_type": "code",
   "execution_count": 33,
   "metadata": {},
   "outputs": [
    {
     "name": "stdout",
     "output_type": "stream",
     "text": [
      "memory_allocated: 0.0\n",
      "max_memory_allocated: 3774.271484375\n",
      "memory_reserved: 4060.0\n",
      "max_memory_reserved: 4060.0\n"
     ]
    }
   ],
   "source": [
    "resourceMonitor.print_statistics('MB')"
   ]
  },
  {
   "cell_type": "code",
   "execution_count": null,
   "metadata": {},
   "outputs": [
    {
     "name": "stdout",
     "output_type": "stream",
     "text": [
      "==============================\n",
      "Start train:\n",
      "memory_allocated: 42.69677734375\n",
      "max_memory_allocated: 3774.271484375\n",
      "memory_reserved: 64.0\n",
      "max_memory_reserved: 4060.0\n",
      "==============================\n",
      "Epoch 0/9\n",
      "----------\n",
      "Step 0/35 Loss 1.455341100692749\n",
      "Step 1/35 Loss 26.1862850189209\n",
      "Step 2/35 Loss 22.25332260131836\n",
      "Step 3/35 Loss 11.559934616088867\n",
      "Step 4/35 Loss 5.882875442504883\n",
      "Step 5/35 Loss 3.2664132118225098\n",
      "Step 6/35 Loss 7.725990295410156\n",
      "Step 7/35 Loss 7.600934028625488\n",
      "Step 8/35 Loss 2.435040235519409\n",
      "Step 9/35 Loss 2.4079885482788086\n",
      "Step 10/35 Loss 1.6319624185562134\n",
      "Step 11/35 Loss 1.4440237283706665\n",
      "Step 12/35 Loss 1.1190686225891113\n",
      "Step 13/35 Loss 0.7402082085609436\n",
      "Step 14/35 Loss 0.6552607417106628\n",
      "Step 15/35 Loss 1.239978551864624\n",
      "Step 16/35 Loss 0.8810747861862183\n",
      "Step 17/35 Loss 1.2613413333892822\n",
      "Step 18/35 Loss 0.8352365493774414\n",
      "Step 19/35 Loss 0.8090020418167114\n",
      "Step 20/35 Loss 0.7505925893783569\n",
      "Step 21/35 Loss 0.7890568971633911\n",
      "Step 22/35 Loss 0.7824200391769409\n",
      "Step 23/35 Loss 0.6788471341133118\n",
      "Step 24/35 Loss 0.8570184111595154\n",
      "Step 25/35 Loss 0.69703209400177\n",
      "Step 26/35 Loss 0.7788286209106445\n",
      "Step 27/35 Loss 0.9532804489135742\n",
      "Step 28/35 Loss 0.6372151374816895\n",
      "Step 29/35 Loss 0.7617236375808716\n",
      "Step 30/35 Loss 0.6498445272445679\n",
      "Step 31/35 Loss 0.57242751121521\n",
      "Step 32/35 Loss 0.6907699704170227\n",
      "Step 33/35 Loss 1.0257288217544556\n",
      "Step 34/35 Loss 0.6027147769927979\n",
      "==============================\n",
      "Average loss train: 3.312317\n",
      "Train map: 0.202549\n",
      "Average loss test: 0.946884\n",
      "Test map: 0.200546\n",
      "==============================\n",
      "memory_allocated: 174.14208984375\n",
      "max_memory_allocated: 3774.271484375\n",
      "memory_reserved: 4060.0\n",
      "max_memory_reserved: 4060.0\n",
      "==============================\n",
      "Epoch 1/9\n",
      "----------\n",
      "Step 0/35 Loss 0.657474935054779\n",
      "Step 1/35 Loss 0.7939835786819458\n",
      "Step 2/35 Loss 0.7014071345329285\n",
      "Step 3/35 Loss 0.6775486469268799\n",
      "Step 4/35 Loss 0.699300229549408\n",
      "Step 5/35 Loss 0.6961519718170166\n",
      "Step 6/35 Loss 0.8996544480323792\n",
      "Step 7/35 Loss 0.7338290810585022\n",
      "Step 8/35 Loss 0.938751220703125\n",
      "Step 9/35 Loss 0.5928207039833069\n",
      "Step 10/35 Loss 0.7686100602149963\n",
      "Step 11/35 Loss 0.8208208084106445\n",
      "Step 12/35 Loss 0.7602276802062988\n",
      "Step 13/35 Loss 0.7250139713287354\n",
      "Step 14/35 Loss 0.637427806854248\n",
      "Step 15/35 Loss 1.0271775722503662\n",
      "Step 16/35 Loss 0.7319149971008301\n",
      "Step 17/35 Loss 0.6726360321044922\n",
      "Step 18/35 Loss 0.6127625703811646\n",
      "Step 19/35 Loss 0.9094792604446411\n",
      "Step 20/35 Loss 0.6579667329788208\n",
      "Step 21/35 Loss 0.7070160508155823\n",
      "Step 22/35 Loss 0.7695921659469604\n",
      "Step 23/35 Loss 0.7192060351371765\n",
      "Step 24/35 Loss 0.7367338538169861\n",
      "Step 25/35 Loss 0.647554874420166\n",
      "Step 26/35 Loss 0.8687567114830017\n",
      "Step 27/35 Loss 0.8016163110733032\n",
      "Step 28/35 Loss 0.7016149759292603\n",
      "Step 29/35 Loss 0.6811296939849854\n",
      "Step 30/35 Loss 0.6122289299964905\n",
      "Step 31/35 Loss 0.607629120349884\n",
      "Step 32/35 Loss 0.5951156616210938\n",
      "Step 33/35 Loss 0.6690155267715454\n",
      "Step 34/35 Loss 0.5286421179771423\n",
      "==============================\n",
      "Average loss train: 0.745906\n",
      "Train map: 0.595812\n",
      "Average loss test: 0.792987\n",
      "Test map: 0.581173\n",
      "==============================\n",
      "memory_allocated: 174.14208984375\n",
      "max_memory_allocated: 3774.271484375\n",
      "memory_reserved: 4060.0\n",
      "max_memory_reserved: 4060.0\n",
      "==============================\n",
      "Epoch 2/9\n",
      "----------\n",
      "Step 0/35 Loss 0.7201789617538452\n",
      "Step 1/35 Loss 0.7567480802536011\n",
      "Step 2/35 Loss 0.7047408223152161\n",
      "Step 3/35 Loss 0.577578067779541\n",
      "Step 4/35 Loss 0.6431171894073486\n",
      "Step 5/35 Loss 0.7075824737548828\n",
      "Step 6/35 Loss 0.8226546049118042\n",
      "Step 7/35 Loss 0.7579982876777649\n",
      "Step 8/35 Loss 0.6837363243103027\n",
      "Step 9/35 Loss 0.5815573930740356\n",
      "Step 10/35 Loss 0.7936038970947266\n",
      "Step 11/35 Loss 0.7480679154396057\n",
      "Step 12/35 Loss 0.7844430208206177\n",
      "Step 13/35 Loss 0.600946307182312\n",
      "Step 14/35 Loss 0.566569447517395\n",
      "Step 15/35 Loss 0.7283232808113098\n",
      "Step 16/35 Loss 0.6406747102737427\n",
      "Step 17/35 Loss 0.6993007659912109\n",
      "Step 18/35 Loss 0.5941263437271118\n",
      "Step 19/35 Loss 0.7865655422210693\n",
      "Step 20/35 Loss 0.5748458504676819\n",
      "Step 21/35 Loss 0.5958658456802368\n",
      "Step 22/35 Loss 0.7462133765220642\n",
      "Step 23/35 Loss 0.6477631330490112\n",
      "Step 24/35 Loss 0.764223575592041\n",
      "Step 25/35 Loss 0.6375032663345337\n",
      "Step 26/35 Loss 0.6532258987426758\n",
      "Step 27/35 Loss 0.7278173565864563\n",
      "Step 28/35 Loss 0.632987916469574\n",
      "Step 29/35 Loss 0.6606393456459045\n",
      "Step 30/35 Loss 0.6049178242683411\n",
      "Step 31/35 Loss 0.5719075202941895\n",
      "Step 32/35 Loss 0.5843883156776428\n",
      "Step 33/35 Loss 0.6805761456489563\n",
      "Step 34/35 Loss 0.5165762901306152\n",
      "==============================\n",
      "Average loss train: 0.691117\n"
     ]
    }
   ],
   "source": [
    "extended_model = find_hyperparameters(config)"
   ]
  },
  {
   "cell_type": "code",
   "execution_count": null,
   "metadata": {},
   "outputs": [],
   "source": [
    "from matplotlib import pyplot as plt"
   ]
  },
  {
   "cell_type": "code",
   "execution_count": null,
   "metadata": {},
   "outputs": [],
   "source": [
    "viewer.visualize_loss_history(extended_model)"
   ]
  },
  {
   "cell_type": "code",
   "execution_count": null,
   "metadata": {},
   "outputs": [],
   "source": [
    "viewer.visualize_metric_history(extended_model)"
   ]
  },
  {
   "cell_type": "code",
   "execution_count": null,
   "metadata": {},
   "outputs": [],
   "source": [
    "resourceMonitor.print_statistics('MB')"
   ]
  },
  {
   "cell_type": "code",
   "execution_count": 27,
   "metadata": {},
   "outputs": [
    {
     "ename": "SyntaxError",
     "evalue": "invalid syntax (<ipython-input-27-4873ce4e3145>, line 1)",
     "output_type": "error",
     "traceback": [
      "\u001b[0;36m  File \u001b[0;32m\"<ipython-input-27-4873ce4e3145>\"\u001b[0;36m, line \u001b[0;32m1\u001b[0m\n\u001b[0;31m    ===============================================\u001b[0m\n\u001b[0m    ^\u001b[0m\n\u001b[0;31mSyntaxError\u001b[0m\u001b[0;31m:\u001b[0m invalid syntax\n"
     ]
    }
   ],
   "source": [
    "==============================================="
   ]
  },
  {
   "cell_type": "code",
   "execution_count": null,
   "metadata": {},
   "outputs": [],
   "source": [
    "extended_model.save_best_model()"
   ]
  },
  {
   "cell_type": "code",
   "execution_count": null,
   "metadata": {},
   "outputs": [],
   "source": [
    "extended_model.deployment_best_model()"
   ]
  },
  {
   "cell_type": "code",
   "execution_count": null,
   "metadata": {},
   "outputs": [],
   "source": [
    "==============================================="
   ]
  },
  {
   "cell_type": "code",
   "execution_count": null,
   "metadata": {},
   "outputs": [],
   "source": [
    "def predict(index):\n",
    "    img, target = torch_dataset[index]\n",
    "    pred = extended_model.torch_model(img.unsqueeze(0))[0]\n",
    "    \n",
    "    original_img = Image.open(target['img_path']).convert(\"RGB\")\n",
    "    viewer.print_prediction(original_img, target, pred)"
   ]
  },
  {
   "cell_type": "code",
   "execution_count": null,
   "metadata": {},
   "outputs": [],
   "source": [
    "for i in range(10, 170):\n",
    "    predict(i)"
   ]
  },
  {
   "cell_type": "code",
   "execution_count": null,
   "metadata": {},
   "outputs": [],
   "source": [
    "==============================================="
   ]
  },
  {
   "cell_type": "code",
   "execution_count": null,
   "metadata": {},
   "outputs": [],
   "source": []
  },
  {
   "cell_type": "code",
   "execution_count": null,
   "metadata": {},
   "outputs": [],
   "source": [
    "==============================================="
   ]
  },
  {
   "cell_type": "markdown",
   "metadata": {},
   "source": [
    "# Visualization"
   ]
  },
  {
   "cell_type": "code",
   "execution_count": null,
   "metadata": {},
   "outputs": [],
   "source": [
    "import fiftyone as fo\n",
    "\n",
    "def convert_torch_predictions(preds, det_id, s_id, w, h, classes):\n",
    "    # Convert the outputs of the torch model into a FiftyOne Detections object\n",
    "    dets = []\n",
    "    #if preds[0] < 0.5:\n",
    "     #   detections = fo.Detections(detections=dets)\n",
    "      #  return detections, det_id\n",
    "    \n",
    "    # Parse prediction into FiftyOne Detection object\n",
    "    x0,y0,x1,y1 = preds[1:]\n",
    "    coco_obj = fouc.COCOObject(det_id, s_id, int(1), [x0, y0, x1-x0, y1-y0])\n",
    "    det = coco_obj.to_detection((w,h), classes)\n",
    "    dets.append(det)\n",
    "    det_id += 1\n",
    "        \n",
    "    detections = fo.Detections(detections=dets)\n",
    "        \n",
    "    return detections, det_id\n",
    "\n",
    "def add_detections(model, torch_dataset, view, field_name=\"predictions\"):\n",
    "    # Run inference on a dataset and add results to FiftyOne\n",
    "    torch.set_num_threads(1)\n",
    "    device = torch.device('cuda') if torch.cuda.is_available() else torch.device('cpu')\n",
    "    print(\"Using device %s\" % device)\n",
    "\n",
    "    model.eval()\n",
    "    model.to(device)\n",
    "    image_paths = torch_dataset.img_paths\n",
    "    classes = torch_dataset.classes\n",
    "    det_id = 0\n",
    "    \n",
    "    with fo.ProgressBar() as pb:\n",
    "        for img, targets in pb(torch_dataset):\n",
    "            sample = view[targets[\"img_path\"]]\n",
    "            s_id = sample.id\n",
    "            w = sample.metadata[\"width\"]\n",
    "            h = sample.metadata[\"height\"]\n",
    "            \n",
    "            # Inference\n",
    "            preds = model(img.unsqueeze(0).to(device))[0]\n",
    "            \n",
    "            detections, det_id = convert_torch_predictions(\n",
    "                preds, \n",
    "                det_id, \n",
    "                s_id, \n",
    "                w, \n",
    "                h, \n",
    "                classes,\n",
    "            )\n",
    "            \n",
    "            sample[\"predictions\"] = detections\n",
    "            sample.save()"
   ]
  },
  {
   "cell_type": "code",
   "execution_count": null,
   "metadata": {},
   "outputs": [],
   "source": [
    "add_detections(model, torch_dataset_test, fo_dataset)"
   ]
  },
  {
   "cell_type": "code",
   "execution_count": null,
   "metadata": {},
   "outputs": [],
   "source": [
    "session = fo.launch_app(fo_dataset)"
   ]
  },
  {
   "cell_type": "code",
   "execution_count": null,
   "metadata": {},
   "outputs": [],
   "source": []
  }
 ],
 "metadata": {
  "kernelspec": {
   "display_name": "Python 3",
   "language": "python",
   "name": "python3"
  },
  "language_info": {
   "codemirror_mode": {
    "name": "ipython",
    "version": 3
   },
   "file_extension": ".py",
   "mimetype": "text/x-python",
   "name": "python",
   "nbconvert_exporter": "python",
   "pygments_lexer": "ipython3",
   "version": "3.8.10"
  },
  "toc": {
   "base_numbering": 1,
   "nav_menu": {},
   "number_sections": true,
   "sideBar": true,
   "skip_h1_title": true,
   "title_cell": "Оглавление",
   "title_sidebar": "Оглавление",
   "toc_cell": true,
   "toc_position": {},
   "toc_section_display": true,
   "toc_window_display": false
  }
 },
 "nbformat": 4,
 "nbformat_minor": 4
}
