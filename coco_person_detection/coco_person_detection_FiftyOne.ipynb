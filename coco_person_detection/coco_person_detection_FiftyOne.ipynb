{
 "cells": [
  {
   "cell_type": "code",
   "execution_count": null,
   "metadata": {},
   "outputs": [],
   "source": [
    "%load_ext autoreload\n",
    "%autoreload 2"
   ]
  },
  {
   "cell_type": "markdown",
   "metadata": {
    "toc": true
   },
   "source": [
    "<h1>Оглавление<span class=\"tocSkip\"></span></h1>\n",
    "<div class=\"toc\"><ul class=\"toc-item\"><li><span><a href=\"#Data-loader\" data-toc-modified-id=\"Data-loader-1\"><span class=\"toc-item-num\">1&nbsp;&nbsp;</span>Data loader</a></span></li></ul></div>"
   ]
  },
  {
   "cell_type": "markdown",
   "metadata": {},
   "source": [
    "# Подключение библиотек"
   ]
  },
  {
   "cell_type": "code",
   "execution_count": 2,
   "metadata": {},
   "outputs": [
    {
     "name": "stdout",
     "output_type": "stream",
     "text": [
      "Downloading split 'validation' to '/mnt/heap/validation' if necessary\n",
      "Found annotations at '/mnt/heap/raw/instances_val2017.json'\n",
      "Images already downloaded\n",
      "Existing download of split 'validation' is sufficient\n",
      "Loading 'coco-2017' split 'validation'\n",
      " 100% |███████████████| 5000/5000 [22.2s elapsed, 0s remaining, 246.6 samples/s]      \n",
      "Dataset 'coco-2017-validation' created\n"
     ]
    }
   ],
   "source": [
    "import fiftyone as fo\n",
    "import fiftyone.zoo as foz\n",
    "from dataset import FiftyOneTorchDataset\n",
    "\n",
    "# Download and load the validation split of COCO-2017\n",
    "fo_dataset = foz.load_zoo_dataset(\"coco-2017\", split=\"validation\",\n",
    "                               dataset_dir='/mnt/heap')"
   ]
  },
  {
   "cell_type": "markdown",
   "metadata": {},
   "source": [
    "session = fo.launch_app(dataset)"
   ]
  },
  {
   "cell_type": "code",
   "execution_count": 3,
   "metadata": {},
   "outputs": [],
   "source": [
    "fo_dataset.compute_metadata()"
   ]
  },
  {
   "cell_type": "markdown",
   "metadata": {},
   "source": [
    "## Data set"
   ]
  },
  {
   "cell_type": "code",
   "execution_count": 4,
   "metadata": {},
   "outputs": [],
   "source": [
    "import torch\n",
    "from viewer import Viewer\n",
    "from PIL import Image"
   ]
  },
  {
   "cell_type": "code",
   "execution_count": 5,
   "metadata": {},
   "outputs": [],
   "source": [
    "viewer = Viewer()"
   ]
  },
  {
   "cell_type": "code",
   "execution_count": 6,
   "metadata": {},
   "outputs": [
    {
     "name": "stdout",
     "output_type": "stream",
     "text": [
      "1045\n"
     ]
    }
   ],
   "source": [
    "from fiftyone import ViewField as F\n",
    "\n",
    "person_list = [\"person\"]\n",
    "person_view = fo_dataset.filter_labels(\"ground_truth\",\n",
    "        F(\"label\").is_in(person_list)).match(F(\"ground_truth.detections\").length() == 1)\n",
    "print(len(person_view))"
   ]
  },
  {
   "cell_type": "markdown",
   "metadata": {},
   "source": [
    "## Data loader"
   ]
  },
  {
   "cell_type": "code",
   "execution_count": 7,
   "metadata": {},
   "outputs": [],
   "source": [
    "import torchvision.transforms as T\n",
    "\n",
    "img_size = (256, 256)\n",
    "train_transforms = T.Compose([T.Resize(img_size),\n",
    "                              T.ToTensor()])\n",
    "test_transforms = T.Compose([T.Resize(img_size),\n",
    "                             T.ToTensor()])"
   ]
  },
  {
   "cell_type": "code",
   "execution_count": 8,
   "metadata": {},
   "outputs": [],
   "source": [
    "# split the dataset in train and test set\n",
    "train_view = person_view.take(len(person_view) * 0.75, seed=51)\n",
    "test_view = person_view.exclude([s.id for s in train_view])"
   ]
  },
  {
   "cell_type": "code",
   "execution_count": 9,
   "metadata": {},
   "outputs": [],
   "source": [
    "torch_dataset = FiftyOneTorchDataset(train_view, train_transforms,\n",
    "        classes=person_list)\n",
    "torch_dataset_test = FiftyOneTorchDataset(test_view, test_transforms, \n",
    "        classes=person_list)"
   ]
  },
  {
   "cell_type": "code",
   "execution_count": 10,
   "metadata": {},
   "outputs": [
    {
     "data": {
      "text/plain": [
       "783"
      ]
     },
     "execution_count": 10,
     "metadata": {},
     "output_type": "execute_result"
    }
   ],
   "source": [
    "len(torch_dataset)"
   ]
  },
  {
   "cell_type": "code",
   "execution_count": 11,
   "metadata": {},
   "outputs": [
    {
     "data": {
      "text/plain": [
       "262"
      ]
     },
     "execution_count": 11,
     "metadata": {},
     "output_type": "execute_result"
    }
   ],
   "source": [
    "len(torch_dataset_test)"
   ]
  },
  {
   "cell_type": "code",
   "execution_count": 12,
   "metadata": {},
   "outputs": [],
   "source": [
    "# define training and validation data loaders\n",
    "data_loader = torch.utils.data.DataLoader(\n",
    "        torch_dataset, batch_size=64)\n",
    "    \n",
    "data_loader_test = torch.utils.data.DataLoader(\n",
    "        torch_dataset_test, batch_size=64, shuffle=False)"
   ]
  },
  {
   "cell_type": "markdown",
   "metadata": {},
   "source": [
    "# Train loop"
   ]
  },
  {
   "cell_type": "code",
   "execution_count": 13,
   "metadata": {},
   "outputs": [],
   "source": [
    "from itertools import product\n",
    "from pytorch_helper import PyTorchHelper"
   ]
  },
  {
   "cell_type": "code",
   "execution_count": 14,
   "metadata": {},
   "outputs": [],
   "source": [
    "loss_function_xy = torch.nn.MSELoss()\n",
    "loss_function_bce = torch.nn.CrossEntropyLoss()"
   ]
  },
  {
   "cell_type": "code",
   "execution_count": 15,
   "metadata": {},
   "outputs": [],
   "source": [
    "from extended_model import ExtendedModel"
   ]
  },
  {
   "cell_type": "code",
   "execution_count": 16,
   "metadata": {},
   "outputs": [],
   "source": [
    "from pytorch_helper import PyTorchHelper\n",
    "\n",
    "def find_hyperparameters(config):\n",
    "    learning_rates = [1e-1]\n",
    "    anneal_coeff = 0.2\n",
    "    anneal_epochs = [10]\n",
    "    regs = config['regs']\n",
    "    optimizers = config['optimizers']\n",
    "\n",
    "    batch_size = 64\n",
    "    epoch_num = 20\n",
    "\n",
    "    run_record = {} \n",
    "    \n",
    "    helper = PyTorchHelper(8,  None)\n",
    "\n",
    "    lenet_model = None\n",
    "    val_loss = 8\n",
    "    loss_history = None\n",
    "    for lr, reg, anneal_epoch, optimizer in product(learning_rates, regs, anneal_epochs, optimizers):\n",
    "        \n",
    "        lenet_model = ExtendedModel(config['model'](), config['need_train'], config['model_name'])\n",
    "        if not lenet_model.need_train:\n",
    "            if lenet_model.load_model():\n",
    "                return lenet_model\n",
    "        \n",
    "        optimizer = optimizer(lenet_model.torch_model.parameters(), lr=lr, weight_decay=reg)\n",
    "        scheduler = optim.lr_scheduler.StepLR(optimizer, step_size=anneal_epoch, gamma=anneal_coeff)\n",
    "\n",
    "        model, train_loss_history, val_loss_history, train_metric_history, val_metric_history = helper.train_model(lenet_model.torch_model, data_loader, data_loader_test, optimizer, epoch_num, scheduler)\n",
    "        lenet_model.add_history(train_loss_history, val_loss_history, train_metric_history, val_metric_history)\n",
    "\n",
    "    return lenet_model"
   ]
  },
  {
   "cell_type": "code",
   "execution_count": 17,
   "metadata": {},
   "outputs": [],
   "source": [
    "import torch\n",
    "import torch.nn as nn\n",
    "import torch.optim as optim\n",
    "\n",
    "from torchvision.models import resnet18"
   ]
  },
  {
   "cell_type": "code",
   "execution_count": 18,
   "metadata": {},
   "outputs": [],
   "source": [
    "def net():\n",
    "    model = resnet18(pretrained=True)\n",
    "    model.fc = nn.Linear(in_features=512, out_features=5)\n",
    "    return model"
   ]
  },
  {
   "cell_type": "code",
   "execution_count": 19,
   "metadata": {},
   "outputs": [],
   "source": [
    "config = {\n",
    "    'need_train': True,\n",
    "    'regs': [0.001],\n",
    "    'optimizers': [optim.Adam],\n",
    "    'model': net,\n",
    "    'model_name': 'best_lenet'    \n",
    "}"
   ]
  },
  {
   "cell_type": "code",
   "execution_count": 20,
   "metadata": {},
   "outputs": [],
   "source": [
    "from resource_monitor import ResourceMonitor\n",
    "resourceMonitor = ResourceMonitor()"
   ]
  },
  {
   "cell_type": "code",
   "execution_count": 21,
   "metadata": {},
   "outputs": [
    {
     "name": "stdout",
     "output_type": "stream",
     "text": [
      "memory_allocated: 0.0\n",
      "max_memory_allocated: 0.0\n",
      "memory_reserved: 0.0\n",
      "max_memory_reserved: 0.0\n"
     ]
    }
   ],
   "source": [
    "resourceMonitor.print_statistics('MB')"
   ]
  },
  {
   "cell_type": "code",
   "execution_count": 22,
   "metadata": {},
   "outputs": [
    {
     "name": "stdout",
     "output_type": "stream",
     "text": [
      "==============================\n",
      "Start train:\n",
      "memory_allocated: 42.69677734375\n",
      "max_memory_allocated: 42.69677734375\n",
      "memory_reserved: 64.0\n",
      "max_memory_reserved: 64.0\n",
      "==============================\n",
      "Epoch 0/19\n",
      "----------\n",
      "Step 0/13 Loss 0.8738172054290771\n",
      "Step 1/13 Loss 23.410751342773438\n",
      "Step 2/13 Loss 8.746126174926758\n",
      "Step 3/13 Loss 6.634387493133545\n",
      "Step 4/13 Loss 5.037987232208252\n",
      "Step 5/13 Loss 5.254038333892822\n",
      "Step 6/13 Loss 3.530411720275879\n",
      "Step 7/13 Loss 3.571881055831909\n",
      "Step 8/13 Loss 1.6356143951416016\n",
      "Step 9/13 Loss 1.1877692937850952\n",
      "Step 10/13 Loss 1.4743297100067139\n",
      "Step 11/13 Loss 1.0375490188598633\n",
      "Step 12/13 Loss 1.1649987697601318\n",
      "==============================\n",
      "Average loss train: 5.296638\n",
      "Train map: 0.000000\n",
      "Average loss test: 203161.765625\n",
      "Test map: 0.000000\n",
      "==============================\n",
      "memory_allocated: 174.14208984375\n",
      "max_memory_allocated: 3774.27001953125\n",
      "memory_reserved: 4068.0\n",
      "max_memory_reserved: 4068.0\n",
      "==============================\n",
      "Epoch 1/19\n",
      "----------\n",
      "Step 0/13 Loss 0.640064001083374\n",
      "Step 1/13 Loss 0.6828130483627319\n",
      "Step 2/13 Loss 0.4981065094470978\n",
      "Step 3/13 Loss 0.31190362572669983\n",
      "Step 4/13 Loss 0.34129372239112854\n",
      "Step 5/13 Loss 0.3784574866294861\n",
      "Step 6/13 Loss 0.42341503500938416\n",
      "Step 7/13 Loss 0.3257715106010437\n",
      "Step 8/13 Loss 0.2636052370071411\n",
      "Step 9/13 Loss 0.24400857090950012\n",
      "Step 10/13 Loss 0.4874298572540283\n",
      "Step 11/13 Loss 0.3082694411277771\n",
      "Step 12/13 Loss 0.2706090211868286\n",
      "==============================\n",
      "Average loss train: 0.431312\n",
      "Train map: 0.255428\n",
      "Average loss test: 2.112875\n",
      "Test map: 0.240458\n",
      "==============================\n",
      "memory_allocated: 174.14208984375\n",
      "max_memory_allocated: 3774.271484375\n",
      "memory_reserved: 4068.0\n",
      "max_memory_reserved: 4068.0\n",
      "==============================\n",
      "Epoch 2/19\n",
      "----------\n",
      "Step 0/13 Loss 0.4919794797897339\n",
      "Step 1/13 Loss 0.25756341218948364\n",
      "Step 2/13 Loss 0.36678385734558105\n",
      "Step 3/13 Loss 0.24636496603488922\n",
      "Step 4/13 Loss 0.2686859369277954\n",
      "Step 5/13 Loss 0.2546636760234833\n",
      "Step 6/13 Loss 0.2613893151283264\n",
      "Step 7/13 Loss 0.2523137629032135\n",
      "Step 8/13 Loss 0.21715931594371796\n",
      "Step 9/13 Loss 0.23081326484680176\n",
      "Step 10/13 Loss 0.2877865731716156\n",
      "Step 11/13 Loss 0.24893565475940704\n",
      "Step 12/13 Loss 0.39220836758613586\n",
      "==============================\n",
      "Average loss train: 0.314721\n",
      "Train map: 0.689655\n",
      "Average loss test: 0.277133\n",
      "Test map: 0.702290\n",
      "==============================\n",
      "memory_allocated: 174.14208984375\n",
      "max_memory_allocated: 3774.271484375\n",
      "memory_reserved: 4068.0\n",
      "max_memory_reserved: 4068.0\n",
      "==============================\n",
      "Epoch 3/19\n",
      "----------\n",
      "Step 0/13 Loss 0.2133578360080719\n",
      "Step 1/13 Loss 0.33068710565567017\n",
      "Step 2/13 Loss 0.23762942850589752\n",
      "Step 3/13 Loss 0.23948931694030762\n",
      "Step 4/13 Loss 0.2635250985622406\n",
      "Step 5/13 Loss 0.27035269141197205\n",
      "Step 6/13 Loss 0.20020078122615814\n",
      "Step 7/13 Loss 0.2805163264274597\n",
      "Step 8/13 Loss 0.22046580910682678\n",
      "Step 9/13 Loss 0.1849413961172104\n",
      "Step 10/13 Loss 0.20035497844219208\n",
      "Step 11/13 Loss 0.23722757399082184\n",
      "Step 12/13 Loss 0.3009452223777771\n",
      "==============================\n",
      "Average loss train: 0.264975\n",
      "Train map: 0.752235\n",
      "Average loss test: 0.235049\n",
      "Test map: 0.759542\n",
      "==============================\n",
      "memory_allocated: 174.14208984375\n",
      "max_memory_allocated: 3774.271484375\n",
      "memory_reserved: 4068.0\n",
      "max_memory_reserved: 4068.0\n",
      "==============================\n",
      "Epoch 4/19\n",
      "----------\n",
      "Step 0/13 Loss 0.23589582741260529\n",
      "Step 1/13 Loss 0.21336528658866882\n",
      "Step 2/13 Loss 0.20118555426597595\n",
      "Step 3/13 Loss 0.2761843800544739\n",
      "Step 4/13 Loss 0.22064997255802155\n",
      "Step 5/13 Loss 0.27218636870384216\n",
      "Step 6/13 Loss 0.19889557361602783\n",
      "Step 7/13 Loss 0.19225767254829407\n",
      "Step 8/13 Loss 0.2111944854259491\n",
      "Step 9/13 Loss 0.1872747838497162\n",
      "Step 10/13 Loss 0.21611446142196655\n",
      "Step 11/13 Loss 0.23136965930461884\n",
      "Step 12/13 Loss 0.18042345345020294\n",
      "==============================\n",
      "Average loss train: 0.236416\n",
      "Train map: 0.719029\n",
      "Average loss test: 0.242035\n",
      "Test map: 0.729008\n",
      "==============================\n",
      "memory_allocated: 174.14208984375\n",
      "max_memory_allocated: 3774.271484375\n",
      "memory_reserved: 4068.0\n",
      "max_memory_reserved: 4068.0\n",
      "==============================\n",
      "Epoch 5/19\n",
      "----------\n",
      "Step 0/13 Loss 0.2332347333431244\n",
      "Step 1/13 Loss 0.21128496527671814\n",
      "Step 2/13 Loss 0.23454414308071136\n",
      "Step 3/13 Loss 0.23861105740070343\n",
      "Step 4/13 Loss 0.2192610502243042\n",
      "Step 5/13 Loss 0.21064449846744537\n",
      "Step 6/13 Loss 0.17631348967552185\n",
      "Step 7/13 Loss 0.20448553562164307\n",
      "Step 8/13 Loss 0.22630031406879425\n",
      "Step 9/13 Loss 0.17020584642887115\n",
      "Step 10/13 Loss 0.19767649471759796\n",
      "Step 11/13 Loss 0.2318706214427948\n",
      "Step 12/13 Loss 0.1542917639017105\n",
      "==============================\n",
      "Average loss train: 0.225727\n",
      "Train map: 0.754789\n",
      "Average loss test: 0.227326\n",
      "Test map: 0.770992\n",
      "==============================\n",
      "memory_allocated: 174.14208984375\n",
      "max_memory_allocated: 3774.271484375\n",
      "memory_reserved: 4068.0\n",
      "max_memory_reserved: 4068.0\n",
      "==============================\n",
      "Epoch 6/19\n",
      "----------\n",
      "Step 0/13 Loss 0.19635729491710663\n",
      "Step 1/13 Loss 0.19507943093776703\n",
      "Step 2/13 Loss 0.2617241144180298\n",
      "Step 3/13 Loss 0.18425308167934418\n",
      "Step 4/13 Loss 0.2043304294347763\n",
      "Step 5/13 Loss 0.22289633750915527\n",
      "Step 6/13 Loss 0.2025977224111557\n",
      "Step 7/13 Loss 0.18227754533290863\n",
      "Step 8/13 Loss 0.2010648548603058\n",
      "Step 9/13 Loss 0.17731907963752747\n",
      "Step 10/13 Loss 0.19994010031223297\n",
      "Step 11/13 Loss 0.2025633156299591\n",
      "Step 12/13 Loss 0.17059490084648132\n",
      "==============================\n",
      "Average loss train: 0.216750\n",
      "Train map: 0.762452\n",
      "Average loss test: 0.222185\n",
      "Test map: 0.770992\n",
      "==============================\n",
      "memory_allocated: 174.14208984375\n",
      "max_memory_allocated: 3774.271484375\n",
      "memory_reserved: 4068.0\n",
      "max_memory_reserved: 4068.0\n",
      "==============================\n",
      "Epoch 7/19\n",
      "----------\n",
      "Step 0/13 Loss 0.2036077380180359\n",
      "Step 1/13 Loss 0.19502891600131989\n",
      "Step 2/13 Loss 0.1988065242767334\n",
      "Step 3/13 Loss 0.17844383418560028\n",
      "Step 4/13 Loss 0.19534432888031006\n",
      "Step 5/13 Loss 0.20698876678943634\n",
      "Step 6/13 Loss 0.16861850023269653\n",
      "Step 7/13 Loss 0.18008697032928467\n",
      "Step 8/13 Loss 0.17922213673591614\n",
      "Step 9/13 Loss 0.16860297322273254\n",
      "Step 10/13 Loss 0.19249479472637177\n",
      "Step 11/13 Loss 0.19200533628463745\n",
      "Step 12/13 Loss 0.17391398549079895\n",
      "==============================\n",
      "Average loss train: 0.202764\n",
      "Train map: 0.736909\n",
      "Average loss test: 0.236410\n",
      "Test map: 0.763359\n",
      "==============================\n",
      "memory_allocated: 174.14208984375\n",
      "max_memory_allocated: 3774.271484375\n",
      "memory_reserved: 4068.0\n",
      "max_memory_reserved: 4068.0\n",
      "==============================\n",
      "Epoch 8/19\n",
      "----------\n",
      "Step 0/13 Loss 0.19749052822589874\n",
      "Step 1/13 Loss 0.19796158373355865\n",
      "Step 2/13 Loss 0.19634445011615753\n",
      "Step 3/13 Loss 0.17993633449077606\n",
      "Step 4/13 Loss 0.1995801031589508\n",
      "Step 5/13 Loss 0.2004225105047226\n",
      "Step 6/13 Loss 0.16581779718399048\n",
      "Step 7/13 Loss 0.18253524601459503\n",
      "Step 8/13 Loss 0.18280114233493805\n",
      "Step 9/13 Loss 0.16879019141197205\n",
      "Step 10/13 Loss 0.19227929413318634\n",
      "Step 11/13 Loss 0.1892382800579071\n",
      "Step 12/13 Loss 0.15741443634033203\n",
      "==============================\n",
      "Average loss train: 0.200884\n",
      "Train map: 0.734355\n",
      "Average loss test: 0.231943\n",
      "Test map: 0.744275\n",
      "==============================\n",
      "memory_allocated: 174.14208984375\n",
      "max_memory_allocated: 3774.271484375\n",
      "memory_reserved: 4068.0\n",
      "max_memory_reserved: 4068.0\n",
      "==============================\n",
      "Epoch 9/19\n",
      "----------\n",
      "Step 0/13 Loss 0.20316371321678162\n",
      "Step 1/13 Loss 0.19784118235111237\n",
      "Step 2/13 Loss 0.19286561012268066\n",
      "Step 3/13 Loss 0.17550836503505707\n",
      "Step 4/13 Loss 0.19777922332286835\n",
      "Step 5/13 Loss 0.20491541922092438\n",
      "Step 6/13 Loss 0.1737770289182663\n",
      "Step 7/13 Loss 0.18486101925373077\n",
      "Step 8/13 Loss 0.17917735874652863\n",
      "Step 9/13 Loss 0.17301270365715027\n",
      "Step 10/13 Loss 0.18268544971942902\n",
      "Step 11/13 Loss 0.18460243940353394\n",
      "Step 12/13 Loss 0.16148295998573303\n",
      "==============================\n",
      "Average loss train: 0.200973\n",
      "Train map: 0.734355\n",
      "Average loss test: 0.233528\n",
      "Test map: 0.748092\n",
      "==============================\n",
      "memory_allocated: 174.14208984375\n",
      "max_memory_allocated: 3774.271484375\n",
      "memory_reserved: 4068.0\n",
      "max_memory_reserved: 4068.0\n",
      "==============================\n",
      "Epoch 10/19\n",
      "----------\n",
      "Step 0/13 Loss 0.20400023460388184\n",
      "Step 1/13 Loss 0.20120607316493988\n",
      "Step 2/13 Loss 0.20079192519187927\n",
      "Step 3/13 Loss 0.16917772591114044\n",
      "Step 4/13 Loss 0.1870332658290863\n",
      "Step 5/13 Loss 0.19885815680027008\n",
      "Step 6/13 Loss 0.1605156660079956\n",
      "Step 7/13 Loss 0.18044021725654602\n",
      "Step 8/13 Loss 0.17090338468551636\n",
      "Step 9/13 Loss 0.16762828826904297\n",
      "Step 10/13 Loss 0.1934700310230255\n",
      "Step 11/13 Loss 0.18928828835487366\n",
      "Step 12/13 Loss 0.15999500453472137\n",
      "==============================\n",
      "Average loss train: 0.198609\n",
      "Train map: 0.782886\n",
      "Average loss test: 0.219975\n",
      "Test map: 0.793893\n",
      "==============================\n",
      "memory_allocated: 174.14208984375\n",
      "max_memory_allocated: 3774.271484375\n",
      "memory_reserved: 4068.0\n",
      "max_memory_reserved: 4068.0\n",
      "==============================\n",
      "Epoch 11/19\n",
      "----------\n",
      "Step 0/13 Loss 0.1874973177909851\n",
      "Step 1/13 Loss 0.19328446686267853\n",
      "Step 2/13 Loss 0.19413107633590698\n",
      "Step 3/13 Loss 0.175373375415802\n",
      "Step 4/13 Loss 0.19500987231731415\n",
      "Step 5/13 Loss 0.208024799823761\n",
      "Step 6/13 Loss 0.1573021113872528\n",
      "Step 7/13 Loss 0.17533816397190094\n",
      "Step 8/13 Loss 0.16960224509239197\n",
      "Step 9/13 Loss 0.16991892457008362\n",
      "Step 10/13 Loss 0.1961795687675476\n",
      "Step 11/13 Loss 0.19277064502239227\n",
      "Step 12/13 Loss 0.1609807163476944\n",
      "==============================\n",
      "Average loss train: 0.197951\n",
      "Train map: 0.794381\n",
      "Average loss test: 0.213540\n",
      "Test map: 0.824427\n",
      "==============================\n",
      "memory_allocated: 174.14208984375\n",
      "max_memory_allocated: 3774.271484375\n",
      "memory_reserved: 4068.0\n",
      "max_memory_reserved: 4068.0\n",
      "==============================\n",
      "Epoch 12/19\n",
      "----------\n",
      "Step 0/13 Loss 0.17847172915935516\n",
      "Step 1/13 Loss 0.19013914465904236\n",
      "Step 2/13 Loss 0.19560307264328003\n",
      "Step 3/13 Loss 0.16909459233283997\n",
      "Step 4/13 Loss 0.19021132588386536\n",
      "Step 5/13 Loss 0.2094620317220688\n",
      "Step 6/13 Loss 0.15690571069717407\n",
      "Step 7/13 Loss 0.17528840899467468\n",
      "Step 8/13 Loss 0.17111468315124512\n",
      "Step 9/13 Loss 0.17180155217647552\n",
      "Step 10/13 Loss 0.18213899433612823\n",
      "Step 11/13 Loss 0.18456560373306274\n",
      "Step 12/13 Loss 0.16248469054698944\n",
      "==============================\n",
      "Average loss train: 0.194773\n",
      "Train map: 0.789272\n",
      "Average loss test: 0.213335\n",
      "Test map: 0.816794\n",
      "==============================\n",
      "memory_allocated: 174.14208984375\n",
      "max_memory_allocated: 3774.271484375\n",
      "memory_reserved: 4068.0\n",
      "max_memory_reserved: 4068.0\n",
      "==============================\n",
      "Epoch 13/19\n",
      "----------\n",
      "Step 0/13 Loss 0.18432071805000305\n",
      "Step 1/13 Loss 0.182697132229805\n",
      "Step 2/13 Loss 0.185923770070076\n",
      "Step 3/13 Loss 0.16715334355831146\n",
      "Step 4/13 Loss 0.18760265409946442\n",
      "Step 5/13 Loss 0.20220425724983215\n",
      "Step 6/13 Loss 0.15695828199386597\n",
      "Step 7/13 Loss 0.1735227406024933\n",
      "Step 8/13 Loss 0.1719008833169937\n",
      "Step 9/13 Loss 0.1691269874572754\n",
      "Step 10/13 Loss 0.1847752034664154\n",
      "Step 11/13 Loss 0.18214298784732819\n",
      "Step 12/13 Loss 0.1536351889371872\n",
      "==============================\n",
      "Average loss train: 0.191830\n",
      "Train map: 0.748404\n",
      "Average loss test: 0.223688\n",
      "Test map: 0.770992\n",
      "==============================\n",
      "memory_allocated: 174.14208984375\n",
      "max_memory_allocated: 3774.271484375\n",
      "memory_reserved: 4068.0\n",
      "max_memory_reserved: 4068.0\n",
      "==============================\n",
      "Epoch 14/19\n",
      "----------\n",
      "Step 0/13 Loss 0.18694883584976196\n",
      "Step 1/13 Loss 0.18610668182373047\n",
      "Step 2/13 Loss 0.19436754286289215\n",
      "Step 3/13 Loss 0.1697617918252945\n",
      "Step 4/13 Loss 0.18830320239067078\n",
      "Step 5/13 Loss 0.20254597067832947\n",
      "Step 6/13 Loss 0.15109562873840332\n",
      "Step 7/13 Loss 0.17638950049877167\n",
      "Step 8/13 Loss 0.16826751828193665\n",
      "Step 9/13 Loss 0.16995559632778168\n",
      "Step 10/13 Loss 0.18447819352149963\n",
      "Step 11/13 Loss 0.18048755824565887\n",
      "Step 12/13 Loss 0.15542952716350555\n",
      "==============================\n",
      "Average loss train: 0.192845\n",
      "Train map: 0.754789\n",
      "Average loss test: 0.223974\n",
      "Test map: 0.767176\n",
      "==============================\n",
      "memory_allocated: 174.14208984375\n",
      "max_memory_allocated: 3774.271484375\n",
      "memory_reserved: 4068.0\n",
      "max_memory_reserved: 4068.0\n",
      "==============================\n",
      "Epoch 15/19\n",
      "----------\n",
      "Step 0/13 Loss 0.18913541734218597\n",
      "Step 1/13 Loss 0.18332327902317047\n",
      "Step 2/13 Loss 0.19590380787849426\n",
      "Step 3/13 Loss 0.1704826056957245\n",
      "Step 4/13 Loss 0.19012406468391418\n",
      "Step 5/13 Loss 0.1979847252368927\n",
      "Step 6/13 Loss 0.1523783802986145\n",
      "Step 7/13 Loss 0.17775453627109528\n",
      "Step 8/13 Loss 0.16626252233982086\n",
      "Step 9/13 Loss 0.1697053462266922\n",
      "Step 10/13 Loss 0.18542978167533875\n",
      "Step 11/13 Loss 0.182100310921669\n",
      "Step 12/13 Loss 0.15939106047153473\n",
      "==============================\n",
      "Average loss train: 0.193331\n",
      "Train map: 0.756066\n",
      "Average loss test: 0.220848\n",
      "Test map: 0.782443\n",
      "==============================\n",
      "memory_allocated: 174.14208984375\n",
      "max_memory_allocated: 3774.271484375\n",
      "memory_reserved: 4068.0\n",
      "max_memory_reserved: 4068.0\n",
      "==============================\n",
      "Epoch 16/19\n",
      "----------\n",
      "Step 0/13 Loss 0.18358300626277924\n",
      "Step 1/13 Loss 0.18374642729759216\n",
      "Step 2/13 Loss 0.19152593612670898\n",
      "Step 3/13 Loss 0.16783341765403748\n",
      "Step 4/13 Loss 0.18688127398490906\n",
      "Step 5/13 Loss 0.20011526346206665\n",
      "Step 6/13 Loss 0.15403471887111664\n",
      "Step 7/13 Loss 0.17043203115463257\n",
      "Step 8/13 Loss 0.16849058866500854\n",
      "Step 9/13 Loss 0.16975580155849457\n",
      "Step 10/13 Loss 0.18421676754951477\n",
      "Step 11/13 Loss 0.18174849450588226\n",
      "Step 12/13 Loss 0.15943841636180878\n",
      "==============================\n",
      "Average loss train: 0.191817\n",
      "Train map: 0.762452\n",
      "Average loss test: 0.219373\n",
      "Test map: 0.770992\n",
      "==============================\n",
      "memory_allocated: 174.14208984375\n",
      "max_memory_allocated: 3774.271484375\n",
      "memory_reserved: 4068.0\n",
      "max_memory_reserved: 4068.0\n",
      "==============================\n",
      "Epoch 17/19\n",
      "----------\n",
      "Step 0/13 Loss 0.18075591325759888\n",
      "Step 1/13 Loss 0.18642057478427887\n",
      "Step 2/13 Loss 0.19361907243728638\n",
      "Step 3/13 Loss 0.17088529467582703\n",
      "Step 4/13 Loss 0.1889534741640091\n",
      "Step 5/13 Loss 0.1989738792181015\n",
      "Step 6/13 Loss 0.15256169438362122\n",
      "Step 7/13 Loss 0.17301908135414124\n",
      "Step 8/13 Loss 0.16751372814178467\n",
      "Step 9/13 Loss 0.1681174486875534\n",
      "Step 10/13 Loss 0.1859350949525833\n",
      "Step 11/13 Loss 0.1836235076189041\n",
      "Step 12/13 Loss 0.16147151589393616\n",
      "==============================\n",
      "Average loss train: 0.192654\n",
      "Train map: 0.750958\n",
      "Average loss test: 0.225049\n",
      "Test map: 0.759542\n",
      "==============================\n",
      "memory_allocated: 174.14208984375\n",
      "max_memory_allocated: 3774.271484375\n",
      "memory_reserved: 4068.0\n",
      "max_memory_reserved: 4068.0\n",
      "==============================\n",
      "Epoch 18/19\n",
      "----------\n",
      "Step 0/13 Loss 0.17904072999954224\n",
      "Step 1/13 Loss 0.181539386510849\n",
      "Step 2/13 Loss 0.1914484053850174\n",
      "Step 3/13 Loss 0.16951526701450348\n",
      "Step 4/13 Loss 0.19150662422180176\n",
      "Step 5/13 Loss 0.19518621265888214\n",
      "Step 6/13 Loss 0.160716250538826\n",
      "Step 7/13 Loss 0.1723659634590149\n",
      "Step 8/13 Loss 0.16727054119110107\n",
      "Step 9/13 Loss 0.16423119604587555\n",
      "Step 10/13 Loss 0.19074292480945587\n",
      "Step 11/13 Loss 0.18846291303634644\n",
      "Step 12/13 Loss 0.1609182208776474\n",
      "==============================\n",
      "Average loss train: 0.192745\n",
      "Train map: 0.780332\n",
      "Average loss test: 0.214754\n",
      "Test map: 0.797710\n",
      "==============================\n",
      "memory_allocated: 174.14208984375\n",
      "max_memory_allocated: 3774.271484375\n",
      "memory_reserved: 4068.0\n",
      "max_memory_reserved: 4068.0\n",
      "==============================\n",
      "Epoch 19/19\n",
      "----------\n",
      "Step 0/13 Loss 0.17613573372364044\n",
      "Step 1/13 Loss 0.18439881503582\n",
      "Step 2/13 Loss 0.19695572555065155\n",
      "Step 3/13 Loss 0.17231006920337677\n",
      "Step 4/13 Loss 0.19319362938404083\n",
      "Step 5/13 Loss 0.20453482866287231\n",
      "Step 6/13 Loss 0.15253834426403046\n",
      "Step 7/13 Loss 0.17050305008888245\n",
      "Step 8/13 Loss 0.16582563519477844\n",
      "Step 9/13 Loss 0.1660679280757904\n",
      "Step 10/13 Loss 0.19143611192703247\n",
      "Step 11/13 Loss 0.19098974764347076\n",
      "Step 12/13 Loss 0.16912655532360077\n",
      "==============================\n",
      "Average loss train: 0.194501\n",
      "Train map: 0.784163\n",
      "Average loss test: 0.218789\n",
      "Test map: 0.778626\n",
      "==============================\n",
      "memory_allocated: 174.14208984375\n",
      "max_memory_allocated: 3774.271484375\n",
      "memory_reserved: 4068.0\n",
      "max_memory_reserved: 4068.0\n",
      "==============================\n"
     ]
    }
   ],
   "source": [
    "extended_model = find_hyperparameters(config)"
   ]
  },
  {
   "cell_type": "code",
   "execution_count": null,
   "metadata": {},
   "outputs": [],
   "source": [
    "extended_model"
   ]
  },
  {
   "cell_type": "code",
   "execution_count": 23,
   "metadata": {},
   "outputs": [],
   "source": [
    "from matplotlib import pyplot as plt"
   ]
  },
  {
   "cell_type": "code",
   "execution_count": 24,
   "metadata": {},
   "outputs": [
    {
     "ename": "NameError",
     "evalue": "name 'train_loss_history' is not defined",
     "output_type": "error",
     "traceback": [
      "\u001b[0;31m---------------------------------------------------------------------------\u001b[0m",
      "\u001b[0;31mNameError\u001b[0m                                 Traceback (most recent call last)",
      "\u001b[0;32m<ipython-input-24-ee830aff14a8>\u001b[0m in \u001b[0;36m<module>\u001b[0;34m\u001b[0m\n\u001b[0;32m----> 1\u001b[0;31m \u001b[0mplt\u001b[0m\u001b[0;34m.\u001b[0m\u001b[0mplot\u001b[0m\u001b[0;34m(\u001b[0m\u001b[0mtrain_loss_history\u001b[0m\u001b[0;34m,\u001b[0m \u001b[0mlabel\u001b[0m\u001b[0;34m=\u001b[0m\u001b[0;34m'train'\u001b[0m\u001b[0;34m)\u001b[0m\u001b[0;34m\u001b[0m\u001b[0;34m\u001b[0m\u001b[0m\n\u001b[0m\u001b[1;32m      2\u001b[0m \u001b[0mplt\u001b[0m\u001b[0;34m.\u001b[0m\u001b[0mplot\u001b[0m\u001b[0;34m(\u001b[0m\u001b[0mval_loss_history\u001b[0m\u001b[0;34m,\u001b[0m \u001b[0mlabel\u001b[0m\u001b[0;34m=\u001b[0m\u001b[0;34m'val'\u001b[0m\u001b[0;34m)\u001b[0m\u001b[0;34m\u001b[0m\u001b[0;34m\u001b[0m\u001b[0m\n\u001b[1;32m      3\u001b[0m \u001b[0mplt\u001b[0m\u001b[0;34m.\u001b[0m\u001b[0mtitle\u001b[0m\u001b[0;34m(\u001b[0m\u001b[0;34m'model loss'\u001b[0m\u001b[0;34m)\u001b[0m\u001b[0;34m\u001b[0m\u001b[0;34m\u001b[0m\u001b[0m\n\u001b[1;32m      4\u001b[0m \u001b[0mplt\u001b[0m\u001b[0;34m.\u001b[0m\u001b[0mylabel\u001b[0m\u001b[0;34m(\u001b[0m\u001b[0;34m'loss'\u001b[0m\u001b[0;34m)\u001b[0m\u001b[0;34m\u001b[0m\u001b[0;34m\u001b[0m\u001b[0m\n\u001b[1;32m      5\u001b[0m \u001b[0mplt\u001b[0m\u001b[0;34m.\u001b[0m\u001b[0mxlabel\u001b[0m\u001b[0;34m(\u001b[0m\u001b[0;34m'epoch'\u001b[0m\u001b[0;34m)\u001b[0m\u001b[0;34m\u001b[0m\u001b[0;34m\u001b[0m\u001b[0m\n",
      "\u001b[0;31mNameError\u001b[0m: name 'train_loss_history' is not defined"
     ]
    }
   ],
   "source": [
    "plt.plot(train_loss_history, label='train')\n",
    "plt.plot(val_loss_history, label='val')\n",
    "plt.title('model loss')\n",
    "plt.ylabel('loss')\n",
    "plt.xlabel('epoch')\n",
    "plt.legend(loc='upper left')\n",
    "plt.show()"
   ]
  },
  {
   "cell_type": "code",
   "execution_count": null,
   "metadata": {},
   "outputs": [],
   "source": [
    "resourceMonitor.print_statistics('MB')"
   ]
  },
  {
   "cell_type": "code",
   "execution_count": null,
   "metadata": {},
   "outputs": [],
   "source": [
    "==============================================="
   ]
  },
  {
   "cell_type": "code",
   "execution_count": null,
   "metadata": {},
   "outputs": [],
   "source": []
  },
  {
   "cell_type": "code",
   "execution_count": null,
   "metadata": {},
   "outputs": [],
   "source": [
    "def predict(index):\n",
    "    img, target = torch_dataset[index]\n",
    "    pred = model(img.unsqueeze(0))[0]\n",
    "    \n",
    "    original_img = Image.open(target['img_path']).convert(\"RGB\")\n",
    "    viewer.print_prediction(original_img, target, pred)"
   ]
  },
  {
   "cell_type": "code",
   "execution_count": null,
   "metadata": {},
   "outputs": [],
   "source": [
    "for i in range(160, 170):\n",
    "    predict(i)"
   ]
  },
  {
   "cell_type": "code",
   "execution_count": null,
   "metadata": {},
   "outputs": [],
   "source": [
    "==============================================="
   ]
  },
  {
   "cell_type": "code",
   "execution_count": null,
   "metadata": {},
   "outputs": [],
   "source": []
  },
  {
   "cell_type": "code",
   "execution_count": null,
   "metadata": {},
   "outputs": [],
   "source": [
    "==============================================="
   ]
  },
  {
   "cell_type": "markdown",
   "metadata": {},
   "source": [
    "# Visualization"
   ]
  },
  {
   "cell_type": "code",
   "execution_count": null,
   "metadata": {},
   "outputs": [],
   "source": [
    "import fiftyone as fo\n",
    "\n",
    "def convert_torch_predictions(preds, det_id, s_id, w, h, classes):\n",
    "    # Convert the outputs of the torch model into a FiftyOne Detections object\n",
    "    dets = []\n",
    "    #if preds[0] < 0.5:\n",
    "     #   detections = fo.Detections(detections=dets)\n",
    "      #  return detections, det_id\n",
    "    \n",
    "    # Parse prediction into FiftyOne Detection object\n",
    "    x0,y0,x1,y1 = preds[1:]\n",
    "    coco_obj = fouc.COCOObject(det_id, s_id, int(1), [x0, y0, x1-x0, y1-y0])\n",
    "    det = coco_obj.to_detection((w,h), classes)\n",
    "    dets.append(det)\n",
    "    det_id += 1\n",
    "        \n",
    "    detections = fo.Detections(detections=dets)\n",
    "        \n",
    "    return detections, det_id\n",
    "\n",
    "def add_detections(model, torch_dataset, view, field_name=\"predictions\"):\n",
    "    # Run inference on a dataset and add results to FiftyOne\n",
    "    torch.set_num_threads(1)\n",
    "    device = torch.device('cuda') if torch.cuda.is_available() else torch.device('cpu')\n",
    "    print(\"Using device %s\" % device)\n",
    "\n",
    "    model.eval()\n",
    "    model.to(device)\n",
    "    image_paths = torch_dataset.img_paths\n",
    "    classes = torch_dataset.classes\n",
    "    det_id = 0\n",
    "    \n",
    "    with fo.ProgressBar() as pb:\n",
    "        for img, targets in pb(torch_dataset):\n",
    "            sample = view[targets[\"img_path\"]]\n",
    "            s_id = sample.id\n",
    "            w = sample.metadata[\"width\"]\n",
    "            h = sample.metadata[\"height\"]\n",
    "            \n",
    "            # Inference\n",
    "            preds = model(img.unsqueeze(0).to(device))[0]\n",
    "            \n",
    "            detections, det_id = convert_torch_predictions(\n",
    "                preds, \n",
    "                det_id, \n",
    "                s_id, \n",
    "                w, \n",
    "                h, \n",
    "                classes,\n",
    "            )\n",
    "            \n",
    "            sample[\"predictions\"] = detections\n",
    "            sample.save()"
   ]
  },
  {
   "cell_type": "code",
   "execution_count": null,
   "metadata": {},
   "outputs": [],
   "source": [
    "add_detections(model, torch_dataset_test, fo_dataset)"
   ]
  },
  {
   "cell_type": "code",
   "execution_count": null,
   "metadata": {},
   "outputs": [],
   "source": [
    "session = fo.launch_app(fo_dataset)"
   ]
  },
  {
   "cell_type": "code",
   "execution_count": null,
   "metadata": {},
   "outputs": [],
   "source": []
  }
 ],
 "metadata": {
  "kernelspec": {
   "display_name": "Python 3",
   "language": "python",
   "name": "python3"
  },
  "language_info": {
   "codemirror_mode": {
    "name": "ipython",
    "version": 3
   },
   "file_extension": ".py",
   "mimetype": "text/x-python",
   "name": "python",
   "nbconvert_exporter": "python",
   "pygments_lexer": "ipython3",
   "version": "3.8.10"
  },
  "toc": {
   "base_numbering": 1,
   "nav_menu": {},
   "number_sections": true,
   "sideBar": true,
   "skip_h1_title": true,
   "title_cell": "Оглавление",
   "title_sidebar": "Оглавление",
   "toc_cell": true,
   "toc_position": {},
   "toc_section_display": true,
   "toc_window_display": false
  }
 },
 "nbformat": 4,
 "nbformat_minor": 4
}
