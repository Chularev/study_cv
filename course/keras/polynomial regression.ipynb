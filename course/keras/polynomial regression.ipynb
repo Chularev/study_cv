{
 "cells": [
  {
   "cell_type": "code",
   "execution_count": 1,
   "metadata": {},
   "outputs": [],
   "source": [
    "import numpy as np\n",
    "import matplotlib.pyplot as plt\n",
    "from tensorflow.python.keras.models import Sequential\n",
    "from tensorflow.python.keras.layers import Dense\n",
    "from tensorflow.python.keras.optimizers import adam_v2\n",
    "from tensorflow.python.keras.utils.np_utils import to_categorical\n",
    "from tensorflow.keras.datasets import mnist\n",
    "\n",
    "from tensorflow.python.keras.layers import Dropout\n",
    "from tensorflow.python.keras.layers import Flatten\n",
    "from tensorflow.python.keras.layers.convolutional import Conv2D\n",
    "from tensorflow.python.keras.layers.convolutional import MaxPooling2D\n",
    " \n",
    "from tensorflow.python.keras.models import Model\n",
    "\n",
    "import random\n",
    "\n",
    "\n",
    "\n",
    "import requests\n",
    "from PIL import Image\n",
    "\n",
    "import tensorflow as tf\n",
    "#==================================================================\n",
    "import pickle\n",
    "import pandas as pd\n",
    "\n",
    "%matplotlib inline"
   ]
  },
  {
   "cell_type": "code",
   "execution_count": 2,
   "metadata": {},
   "outputs": [],
   "source": [
    "np.random.seed(0)\n",
    "points = 500\n",
    "X = np.linspace(-3, 3, points)\n",
    "y = np.sin(X) + np.random.uniform(-0.5, 0.5, points)"
   ]
  },
  {
   "cell_type": "code",
   "execution_count": 3,
   "metadata": {},
   "outputs": [],
   "source": [
    "model = Sequential()\n",
    "model.add(Dense(50, activation='sigmoid', input_dim=1))\n",
    "model.add(Dense(30, activation='sigmoid'))\n",
    "model.add(Dense(1))"
   ]
  },
  {
   "cell_type": "code",
   "execution_count": 4,
   "metadata": {},
   "outputs": [
    {
     "name": "stdout",
     "output_type": "stream",
     "text": [
      "Epoch 1/50\n",
      "16/16 [==============================] - 0s 2ms/step - loss: 0.5168\n",
      "Epoch 2/50\n",
      "16/16 [==============================] - 0s 1ms/step - loss: 0.2883\n",
      "Epoch 3/50\n",
      "16/16 [==============================] - 0s 1ms/step - loss: 0.2447\n",
      "Epoch 4/50\n",
      "16/16 [==============================] - 0s 1ms/step - loss: 0.2252\n",
      "Epoch 5/50\n",
      "16/16 [==============================] - 0s 1ms/step - loss: 0.2193\n",
      "Epoch 6/50\n",
      "16/16 [==============================] - 0s 1ms/step - loss: 0.2172\n",
      "Epoch 7/50\n",
      "16/16 [==============================] - 0s 907us/step - loss: 0.2066\n",
      "Epoch 8/50\n",
      "16/16 [==============================] - 0s 937us/step - loss: 0.1981\n",
      "Epoch 9/50\n",
      "16/16 [==============================] - 0s 1ms/step - loss: 0.1938\n",
      "Epoch 10/50\n",
      "16/16 [==============================] - 0s 885us/step - loss: 0.1816\n",
      "Epoch 11/50\n",
      "16/16 [==============================] - 0s 1ms/step - loss: 0.1749\n",
      "Epoch 12/50\n",
      "16/16 [==============================] - 0s 1ms/step - loss: 0.1620\n",
      "Epoch 13/50\n",
      "16/16 [==============================] - 0s 1ms/step - loss: 0.1464\n",
      "Epoch 14/50\n",
      "16/16 [==============================] - 0s 846us/step - loss: 0.1391\n",
      "Epoch 15/50\n",
      "16/16 [==============================] - 0s 950us/step - loss: 0.1303\n",
      "Epoch 16/50\n",
      "16/16 [==============================] - 0s 1ms/step - loss: 0.1288\n",
      "Epoch 17/50\n",
      "16/16 [==============================] - 0s 1ms/step - loss: 0.1244\n",
      "Epoch 18/50\n",
      "16/16 [==============================] - 0s 1ms/step - loss: 0.1194\n",
      "Epoch 19/50\n",
      "16/16 [==============================] - 0s 1ms/step - loss: 0.1192\n",
      "Epoch 20/50\n",
      "16/16 [==============================] - 0s 1ms/step - loss: 0.1182\n",
      "Epoch 21/50\n",
      "16/16 [==============================] - 0s 1ms/step - loss: 0.1239\n",
      "Epoch 22/50\n",
      "16/16 [==============================] - 0s 1ms/step - loss: 0.1214\n",
      "Epoch 23/50\n",
      "16/16 [==============================] - 0s 1ms/step - loss: 0.1166\n",
      "Epoch 24/50\n",
      "16/16 [==============================] - 0s 1ms/step - loss: 0.1124\n",
      "Epoch 25/50\n",
      "16/16 [==============================] - 0s 1ms/step - loss: 0.1113\n",
      "Epoch 26/50\n",
      "16/16 [==============================] - 0s 1ms/step - loss: 0.1107\n",
      "Epoch 27/50\n",
      "16/16 [==============================] - 0s 1ms/step - loss: 0.1088\n",
      "Epoch 28/50\n",
      "16/16 [==============================] - 0s 1ms/step - loss: 0.1110\n",
      "Epoch 29/50\n",
      "16/16 [==============================] - 0s 1ms/step - loss: 0.1074\n",
      "Epoch 30/50\n",
      "16/16 [==============================] - 0s 1ms/step - loss: 0.1106\n",
      "Epoch 31/50\n",
      "16/16 [==============================] - 0s 1ms/step - loss: 0.1082\n",
      "Epoch 32/50\n",
      "16/16 [==============================] - 0s 1ms/step - loss: 0.1151\n",
      "Epoch 33/50\n",
      "16/16 [==============================] - 0s 898us/step - loss: 0.1171\n",
      "Epoch 34/50\n",
      "16/16 [==============================] - 0s 1ms/step - loss: 0.1133\n",
      "Epoch 35/50\n",
      "16/16 [==============================] - 0s 1ms/step - loss: 0.1180\n",
      "Epoch 36/50\n",
      "16/16 [==============================] - 0s 1ms/step - loss: 0.1072\n",
      "Epoch 37/50\n",
      "16/16 [==============================] - 0s 1ms/step - loss: 0.1100\n",
      "Epoch 38/50\n",
      "16/16 [==============================] - 0s 1ms/step - loss: 0.1296\n",
      "Epoch 39/50\n",
      "16/16 [==============================] - 0s 1ms/step - loss: 0.1171\n",
      "Epoch 40/50\n",
      "16/16 [==============================] - 0s 1ms/step - loss: 0.1080\n",
      "Epoch 41/50\n",
      "16/16 [==============================] - 0s 1ms/step - loss: 0.1092\n",
      "Epoch 42/50\n",
      "16/16 [==============================] - 0s 853us/step - loss: 0.1059\n",
      "Epoch 43/50\n",
      "16/16 [==============================] - 0s 1ms/step - loss: 0.1036\n",
      "Epoch 44/50\n",
      "16/16 [==============================] - 0s 1ms/step - loss: 0.1022\n",
      "Epoch 45/50\n",
      "16/16 [==============================] - 0s 1ms/step - loss: 0.0995\n",
      "Epoch 46/50\n",
      "16/16 [==============================] - 0s 1ms/step - loss: 0.0997\n",
      "Epoch 47/50\n",
      "16/16 [==============================] - 0s 1ms/step - loss: 0.1010\n",
      "Epoch 48/50\n",
      "16/16 [==============================] - 0s 1ms/step - loss: 0.0978\n",
      "Epoch 49/50\n",
      "16/16 [==============================] - 0s 1ms/step - loss: 0.0992\n",
      "Epoch 50/50\n",
      "16/16 [==============================] - 0s 1ms/step - loss: 0.1043\n"
     ]
    },
    {
     "data": {
      "text/plain": [
       "<tensorflow.python.keras.callbacks.History at 0x7fb87a34f0d0>"
      ]
     },
     "execution_count": 4,
     "metadata": {},
     "output_type": "execute_result"
    }
   ],
   "source": [
    "adam = adam_v2.Adam(learning_rate=0.01)\n",
    "model.compile(loss='mse', optimizer=adam)\n",
    "model.fit(X, y, epochs=50)"
   ]
  },
  {
   "cell_type": "code",
   "execution_count": 5,
   "metadata": {},
   "outputs": [
    {
     "data": {
      "image/png": "[encoded data removed]",
      "text/plain": [
       "<Figure size 432x288 with 1 Axes>"
      ]
     },
     "metadata": {
      "needs_background": "light"
     },
     "output_type": "display_data"
    }
   ],
   "source": [
    "predictions = model.predict(X)\n",
    "plt.scatter(X, y)\n",
    "plt.plot(X, predictions, 'ro')\n",
    "plt.show()"
   ]
  },
  {
   "cell_type": "code",
   "execution_count": null,
   "metadata": {},
   "outputs": [],
   "source": []
  }
 ],
 "metadata": {
  "kernelspec": {
   "display_name": "Python 3",
   "language": "python",
   "name": "python3"
  },
  "language_info": {
   "codemirror_mode": {
    "name": "ipython",
    "version": 3
   },
   "file_extension": ".py",
   "mimetype": "text/x-python",
   "name": "python",
   "nbconvert_exporter": "python",
   "pygments_lexer": "ipython3",
   "version": "3.8.10"
  }
 },
 "nbformat": 4,
 "nbformat_minor": 4
}
